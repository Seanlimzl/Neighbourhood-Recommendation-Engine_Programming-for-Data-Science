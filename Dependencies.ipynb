{
 "cells": [
  {
   "cell_type": "markdown",
   "id": "8fd8cc25",
   "metadata": {},
   "source": [
    "# Dependencies"
   ]
  },
  {
   "cell_type": "markdown",
   "id": "5f0fdbff",
   "metadata": {},
   "source": [
    "## Installing prerequisite libraries"
   ]
  },
  {
   "cell_type": "markdown",
   "id": "c3635f30",
   "metadata": {},
   "source": [
    "### GeoPandas and Dependencies"
   ]
  },
  {
   "cell_type": "code",
   "execution_count": 1,
   "id": "47fddf00",
   "metadata": {
    "scrolled": false
   },
   "outputs": [
    {
     "name": "stdout",
     "output_type": "stream",
     "text": [
      "Requirement already satisfied: fiona in /Users/joshuavargas/opt/anaconda3/lib/python3.9/site-packages (1.8.21)\n",
      "Requirement already satisfied: click>=4.0 in /Users/joshuavargas/opt/anaconda3/lib/python3.9/site-packages (from fiona) (8.0.4)\n",
      "Requirement already satisfied: setuptools in /Users/joshuavargas/opt/anaconda3/lib/python3.9/site-packages (from fiona) (61.2.0)\n",
      "Requirement already satisfied: cligj>=0.5 in /Users/joshuavargas/opt/anaconda3/lib/python3.9/site-packages (from fiona) (0.7.2)\n",
      "Requirement already satisfied: click-plugins>=1.0 in /Users/joshuavargas/opt/anaconda3/lib/python3.9/site-packages (from fiona) (1.1.1)\n",
      "Requirement already satisfied: munch in /Users/joshuavargas/opt/anaconda3/lib/python3.9/site-packages (from fiona) (2.5.0)\n",
      "Requirement already satisfied: attrs>=17 in /Users/joshuavargas/opt/anaconda3/lib/python3.9/site-packages (from fiona) (21.4.0)\n",
      "Requirement already satisfied: certifi in /Users/joshuavargas/opt/anaconda3/lib/python3.9/site-packages (from fiona) (2021.10.8)\n",
      "Requirement already satisfied: six>=1.7 in /Users/joshuavargas/opt/anaconda3/lib/python3.9/site-packages (from fiona) (1.16.0)\n",
      "Note: you may need to restart the kernel to use updated packages.\n"
     ]
    }
   ],
   "source": [
    "# Install GDAL on the computer where the Python kernel is located before running this code.\n",
    "pip install fiona"
   ]
  },
  {
   "cell_type": "code",
   "execution_count": 2,
   "id": "b2c4fff3",
   "metadata": {},
   "outputs": [
    {
     "name": "stdout",
     "output_type": "stream",
     "text": [
      "Requirement already satisfied: pyproj in /Users/joshuavargas/opt/anaconda3/lib/python3.9/site-packages (3.4.0)\n",
      "Requirement already satisfied: certifi in /Users/joshuavargas/opt/anaconda3/lib/python3.9/site-packages (from pyproj) (2021.10.8)\n",
      "Note: you may need to restart the kernel to use updated packages.\n"
     ]
    }
   ],
   "source": [
    "pip install pyproj"
   ]
  },
  {
   "cell_type": "code",
   "execution_count": 3,
   "id": "bfe5dbaa",
   "metadata": {
    "scrolled": true
   },
   "outputs": [
    {
     "name": "stdout",
     "output_type": "stream",
     "text": [
      "Requirement already satisfied: rtree in /Users/joshuavargas/opt/anaconda3/lib/python3.9/site-packages (0.9.7)\n",
      "Note: you may need to restart the kernel to use updated packages.\n"
     ]
    }
   ],
   "source": [
    "pip install rtree"
   ]
  },
  {
   "cell_type": "code",
   "execution_count": 4,
   "id": "a8536213",
   "metadata": {},
   "outputs": [
    {
     "name": "stdout",
     "output_type": "stream",
     "text": [
      "Requirement already satisfied: shapely in /Users/joshuavargas/opt/anaconda3/lib/python3.9/site-packages (1.8.4)\n",
      "Note: you may need to restart the kernel to use updated packages.\n"
     ]
    }
   ],
   "source": [
    "pip install shapely"
   ]
  },
  {
   "cell_type": "code",
   "execution_count": 5,
   "id": "30c77144",
   "metadata": {},
   "outputs": [
    {
     "name": "stdout",
     "output_type": "stream",
     "text": [
      "Requirement already satisfied: geopandas in /Users/joshuavargas/opt/anaconda3/lib/python3.9/site-packages (0.11.1)\n",
      "Requirement already satisfied: pyproj>=2.6.1.post1 in /Users/joshuavargas/opt/anaconda3/lib/python3.9/site-packages (from geopandas) (3.4.0)\n",
      "Requirement already satisfied: pandas>=1.0.0 in /Users/joshuavargas/opt/anaconda3/lib/python3.9/site-packages (from geopandas) (1.4.2)\n",
      "Requirement already satisfied: packaging in /Users/joshuavargas/opt/anaconda3/lib/python3.9/site-packages (from geopandas) (21.3)\n",
      "Requirement already satisfied: fiona>=1.8 in /Users/joshuavargas/opt/anaconda3/lib/python3.9/site-packages (from geopandas) (1.8.21)\n",
      "Requirement already satisfied: shapely<2,>=1.7 in /Users/joshuavargas/opt/anaconda3/lib/python3.9/site-packages (from geopandas) (1.8.4)\n",
      "Requirement already satisfied: attrs>=17 in /Users/joshuavargas/opt/anaconda3/lib/python3.9/site-packages (from fiona>=1.8->geopandas) (21.4.0)\n",
      "Requirement already satisfied: cligj>=0.5 in /Users/joshuavargas/opt/anaconda3/lib/python3.9/site-packages (from fiona>=1.8->geopandas) (0.7.2)\n",
      "Requirement already satisfied: six>=1.7 in /Users/joshuavargas/opt/anaconda3/lib/python3.9/site-packages (from fiona>=1.8->geopandas) (1.16.0)\n",
      "Requirement already satisfied: munch in /Users/joshuavargas/opt/anaconda3/lib/python3.9/site-packages (from fiona>=1.8->geopandas) (2.5.0)\n",
      "Requirement already satisfied: setuptools in /Users/joshuavargas/opt/anaconda3/lib/python3.9/site-packages (from fiona>=1.8->geopandas) (61.2.0)\n",
      "Requirement already satisfied: click-plugins>=1.0 in /Users/joshuavargas/opt/anaconda3/lib/python3.9/site-packages (from fiona>=1.8->geopandas) (1.1.1)\n",
      "Requirement already satisfied: click>=4.0 in /Users/joshuavargas/opt/anaconda3/lib/python3.9/site-packages (from fiona>=1.8->geopandas) (8.0.4)\n",
      "Requirement already satisfied: certifi in /Users/joshuavargas/opt/anaconda3/lib/python3.9/site-packages (from fiona>=1.8->geopandas) (2021.10.8)\n",
      "Requirement already satisfied: python-dateutil>=2.8.1 in /Users/joshuavargas/opt/anaconda3/lib/python3.9/site-packages (from pandas>=1.0.0->geopandas) (2.8.2)\n",
      "Requirement already satisfied: pytz>=2020.1 in /Users/joshuavargas/opt/anaconda3/lib/python3.9/site-packages (from pandas>=1.0.0->geopandas) (2021.3)\n",
      "Requirement already satisfied: numpy>=1.18.5 in /Users/joshuavargas/opt/anaconda3/lib/python3.9/site-packages (from pandas>=1.0.0->geopandas) (1.21.5)\n",
      "Requirement already satisfied: pyparsing!=3.0.5,>=2.0.2 in /Users/joshuavargas/opt/anaconda3/lib/python3.9/site-packages (from packaging->geopandas) (3.0.4)\n",
      "Note: you may need to restart the kernel to use updated packages.\n"
     ]
    }
   ],
   "source": [
    "pip install geopandas"
   ]
  },
  {
   "cell_type": "markdown",
   "id": "a4ba043b",
   "metadata": {},
   "source": [
    "#### Dependencies for GeoPandas SQL support"
   ]
  },
  {
   "cell_type": "code",
   "execution_count": 6,
   "id": "2fff5300",
   "metadata": {},
   "outputs": [
    {
     "name": "stdout",
     "output_type": "stream",
     "text": [
      "Requirement already satisfied: psycopg2-binary in /Users/joshuavargas/opt/anaconda3/lib/python3.9/site-packages (2.9.3)\n",
      "Note: you may need to restart the kernel to use updated packages.\n"
     ]
    }
   ],
   "source": [
    "pip install psycopg2-binary"
   ]
  },
  {
   "cell_type": "code",
   "execution_count": 7,
   "id": "c2cf8ef4",
   "metadata": {},
   "outputs": [
    {
     "name": "stdout",
     "output_type": "stream",
     "text": [
      "Requirement already satisfied: geoalchemy2 in /Users/joshuavargas/opt/anaconda3/lib/python3.9/site-packages (0.12.5)\n",
      "Requirement already satisfied: SQLAlchemy>=1.4 in /Users/joshuavargas/opt/anaconda3/lib/python3.9/site-packages (from geoalchemy2) (1.4.32)\n",
      "Requirement already satisfied: packaging in /Users/joshuavargas/opt/anaconda3/lib/python3.9/site-packages (from geoalchemy2) (21.3)\n",
      "Requirement already satisfied: greenlet!=0.4.17 in /Users/joshuavargas/opt/anaconda3/lib/python3.9/site-packages (from SQLAlchemy>=1.4->geoalchemy2) (1.1.1)\n",
      "Requirement already satisfied: pyparsing!=3.0.5,>=2.0.2 in /Users/joshuavargas/opt/anaconda3/lib/python3.9/site-packages (from packaging->geoalchemy2) (3.0.4)\n",
      "Note: you may need to restart the kernel to use updated packages.\n"
     ]
    }
   ],
   "source": [
    "pip install geoalchemy2"
   ]
  },
  {
   "cell_type": "code",
   "execution_count": 8,
   "id": "dee24640",
   "metadata": {},
   "outputs": [
    {
     "name": "stdout",
     "output_type": "stream",
     "text": [
      "Requirement already satisfied: geopy in /Users/joshuavargas/opt/anaconda3/lib/python3.9/site-packages (2.2.0)\n",
      "Requirement already satisfied: geographiclib<2,>=1.49 in /Users/joshuavargas/opt/anaconda3/lib/python3.9/site-packages (from geopy) (1.52)\n",
      "Note: you may need to restart the kernel to use updated packages.\n"
     ]
    }
   ],
   "source": [
    "pip install geopy"
   ]
  },
  {
   "cell_type": "code",
   "execution_count": 9,
   "id": "9b78c312",
   "metadata": {},
   "outputs": [
    {
     "name": "stdout",
     "output_type": "stream",
     "text": [
      "Requirement already satisfied: pygeos in /Users/joshuavargas/opt/anaconda3/lib/python3.9/site-packages (0.13)\n",
      "Requirement already satisfied: numpy>=1.13 in /Users/joshuavargas/opt/anaconda3/lib/python3.9/site-packages (from pygeos) (1.21.5)\n",
      "Note: you may need to restart the kernel to use updated packages.\n"
     ]
    }
   ],
   "source": [
    "pip install pygeos"
   ]
  },
  {
   "cell_type": "markdown",
   "id": "65391558",
   "metadata": {},
   "source": [
    "### Geospatial visualisation"
   ]
  },
  {
   "cell_type": "code",
   "execution_count": 10,
   "id": "cc987ce3",
   "metadata": {},
   "outputs": [
    {
     "name": "stdout",
     "output_type": "stream",
     "text": [
      "Requirement already satisfied: ipyleaflet in /Users/joshuavargas/opt/anaconda3/lib/python3.9/site-packages (0.17.1)\n",
      "Requirement already satisfied: branca>=0.5.0 in /Users/joshuavargas/opt/anaconda3/lib/python3.9/site-packages (from ipyleaflet) (0.5.0)\n",
      "Requirement already satisfied: ipywidgets<9,>=7.6.0 in /Users/joshuavargas/opt/anaconda3/lib/python3.9/site-packages (from ipyleaflet) (7.6.5)\n",
      "Requirement already satisfied: traittypes<3,>=0.2.1 in /Users/joshuavargas/opt/anaconda3/lib/python3.9/site-packages (from ipyleaflet) (0.2.1)\n",
      "Requirement already satisfied: xyzservices>=2021.8.1 in /Users/joshuavargas/opt/anaconda3/lib/python3.9/site-packages (from ipyleaflet) (2022.9.0)\n",
      "Requirement already satisfied: jinja2 in /Users/joshuavargas/opt/anaconda3/lib/python3.9/site-packages (from branca>=0.5.0->ipyleaflet) (2.11.3)\n",
      "Requirement already satisfied: ipython>=4.0.0 in /Users/joshuavargas/opt/anaconda3/lib/python3.9/site-packages (from ipywidgets<9,>=7.6.0->ipyleaflet) (8.2.0)\n",
      "Requirement already satisfied: ipykernel>=4.5.1 in /Users/joshuavargas/opt/anaconda3/lib/python3.9/site-packages (from ipywidgets<9,>=7.6.0->ipyleaflet) (6.9.1)\n",
      "Requirement already satisfied: ipython-genutils~=0.2.0 in /Users/joshuavargas/opt/anaconda3/lib/python3.9/site-packages (from ipywidgets<9,>=7.6.0->ipyleaflet) (0.2.0)\n",
      "Requirement already satisfied: jupyterlab-widgets>=1.0.0 in /Users/joshuavargas/opt/anaconda3/lib/python3.9/site-packages (from ipywidgets<9,>=7.6.0->ipyleaflet) (1.0.0)\n",
      "Requirement already satisfied: widgetsnbextension~=3.5.0 in /Users/joshuavargas/opt/anaconda3/lib/python3.9/site-packages (from ipywidgets<9,>=7.6.0->ipyleaflet) (3.5.2)\n",
      "Requirement already satisfied: nbformat>=4.2.0 in /Users/joshuavargas/opt/anaconda3/lib/python3.9/site-packages (from ipywidgets<9,>=7.6.0->ipyleaflet) (5.3.0)\n",
      "Requirement already satisfied: traitlets>=4.3.1 in /Users/joshuavargas/opt/anaconda3/lib/python3.9/site-packages (from ipywidgets<9,>=7.6.0->ipyleaflet) (5.1.1)\n",
      "Requirement already satisfied: tornado<7.0,>=4.2 in /Users/joshuavargas/opt/anaconda3/lib/python3.9/site-packages (from ipykernel>=4.5.1->ipywidgets<9,>=7.6.0->ipyleaflet) (6.1)\n",
      "Requirement already satisfied: matplotlib-inline<0.2.0,>=0.1.0 in /Users/joshuavargas/opt/anaconda3/lib/python3.9/site-packages (from ipykernel>=4.5.1->ipywidgets<9,>=7.6.0->ipyleaflet) (0.1.2)\n",
      "Requirement already satisfied: nest-asyncio in /Users/joshuavargas/opt/anaconda3/lib/python3.9/site-packages (from ipykernel>=4.5.1->ipywidgets<9,>=7.6.0->ipyleaflet) (1.5.5)\n",
      "Requirement already satisfied: debugpy<2.0,>=1.0.0 in /Users/joshuavargas/opt/anaconda3/lib/python3.9/site-packages (from ipykernel>=4.5.1->ipywidgets<9,>=7.6.0->ipyleaflet) (1.5.1)\n",
      "Requirement already satisfied: appnope in /Users/joshuavargas/opt/anaconda3/lib/python3.9/site-packages (from ipykernel>=4.5.1->ipywidgets<9,>=7.6.0->ipyleaflet) (0.1.2)\n",
      "Requirement already satisfied: jupyter-client<8.0 in /Users/joshuavargas/opt/anaconda3/lib/python3.9/site-packages (from ipykernel>=4.5.1->ipywidgets<9,>=7.6.0->ipyleaflet) (6.1.12)\n",
      "Requirement already satisfied: pygments>=2.4.0 in /Users/joshuavargas/opt/anaconda3/lib/python3.9/site-packages (from ipython>=4.0.0->ipywidgets<9,>=7.6.0->ipyleaflet) (2.11.2)\n",
      "Requirement already satisfied: pexpect>4.3 in /Users/joshuavargas/opt/anaconda3/lib/python3.9/site-packages (from ipython>=4.0.0->ipywidgets<9,>=7.6.0->ipyleaflet) (4.8.0)\n",
      "Requirement already satisfied: decorator in /Users/joshuavargas/opt/anaconda3/lib/python3.9/site-packages (from ipython>=4.0.0->ipywidgets<9,>=7.6.0->ipyleaflet) (5.1.1)\n",
      "Requirement already satisfied: backcall in /Users/joshuavargas/opt/anaconda3/lib/python3.9/site-packages (from ipython>=4.0.0->ipywidgets<9,>=7.6.0->ipyleaflet) (0.2.0)\n",
      "Requirement already satisfied: setuptools>=18.5 in /Users/joshuavargas/opt/anaconda3/lib/python3.9/site-packages (from ipython>=4.0.0->ipywidgets<9,>=7.6.0->ipyleaflet) (61.2.0)\n",
      "Requirement already satisfied: pickleshare in /Users/joshuavargas/opt/anaconda3/lib/python3.9/site-packages (from ipython>=4.0.0->ipywidgets<9,>=7.6.0->ipyleaflet) (0.7.5)\n",
      "Requirement already satisfied: prompt-toolkit!=3.0.0,!=3.0.1,<3.1.0,>=2.0.0 in /Users/joshuavargas/opt/anaconda3/lib/python3.9/site-packages (from ipython>=4.0.0->ipywidgets<9,>=7.6.0->ipyleaflet) (3.0.20)\n",
      "Requirement already satisfied: stack-data in /Users/joshuavargas/opt/anaconda3/lib/python3.9/site-packages (from ipython>=4.0.0->ipywidgets<9,>=7.6.0->ipyleaflet) (0.2.0)\n",
      "Requirement already satisfied: jedi>=0.16 in /Users/joshuavargas/opt/anaconda3/lib/python3.9/site-packages (from ipython>=4.0.0->ipywidgets<9,>=7.6.0->ipyleaflet) (0.18.1)\n",
      "Requirement already satisfied: parso<0.9.0,>=0.8.0 in /Users/joshuavargas/opt/anaconda3/lib/python3.9/site-packages (from jedi>=0.16->ipython>=4.0.0->ipywidgets<9,>=7.6.0->ipyleaflet) (0.8.3)\n",
      "Requirement already satisfied: pyzmq>=13 in /Users/joshuavargas/opt/anaconda3/lib/python3.9/site-packages (from jupyter-client<8.0->ipykernel>=4.5.1->ipywidgets<9,>=7.6.0->ipyleaflet) (22.3.0)\n",
      "Requirement already satisfied: jupyter-core>=4.6.0 in /Users/joshuavargas/opt/anaconda3/lib/python3.9/site-packages (from jupyter-client<8.0->ipykernel>=4.5.1->ipywidgets<9,>=7.6.0->ipyleaflet) (4.9.2)\n",
      "Requirement already satisfied: python-dateutil>=2.1 in /Users/joshuavargas/opt/anaconda3/lib/python3.9/site-packages (from jupyter-client<8.0->ipykernel>=4.5.1->ipywidgets<9,>=7.6.0->ipyleaflet) (2.8.2)\n",
      "Requirement already satisfied: fastjsonschema in /Users/joshuavargas/opt/anaconda3/lib/python3.9/site-packages (from nbformat>=4.2.0->ipywidgets<9,>=7.6.0->ipyleaflet) (2.15.1)\n",
      "Requirement already satisfied: jsonschema>=2.6 in /Users/joshuavargas/opt/anaconda3/lib/python3.9/site-packages (from nbformat>=4.2.0->ipywidgets<9,>=7.6.0->ipyleaflet) (4.4.0)\n",
      "Requirement already satisfied: pyrsistent!=0.17.0,!=0.17.1,!=0.17.2,>=0.14.0 in /Users/joshuavargas/opt/anaconda3/lib/python3.9/site-packages (from jsonschema>=2.6->nbformat>=4.2.0->ipywidgets<9,>=7.6.0->ipyleaflet) (0.18.0)\n",
      "Requirement already satisfied: attrs>=17.4.0 in /Users/joshuavargas/opt/anaconda3/lib/python3.9/site-packages (from jsonschema>=2.6->nbformat>=4.2.0->ipywidgets<9,>=7.6.0->ipyleaflet) (21.4.0)\n",
      "Requirement already satisfied: ptyprocess>=0.5 in /Users/joshuavargas/opt/anaconda3/lib/python3.9/site-packages (from pexpect>4.3->ipython>=4.0.0->ipywidgets<9,>=7.6.0->ipyleaflet) (0.7.0)\n",
      "Requirement already satisfied: wcwidth in /Users/joshuavargas/opt/anaconda3/lib/python3.9/site-packages (from prompt-toolkit!=3.0.0,!=3.0.1,<3.1.0,>=2.0.0->ipython>=4.0.0->ipywidgets<9,>=7.6.0->ipyleaflet) (0.2.5)\n",
      "Requirement already satisfied: six>=1.5 in /Users/joshuavargas/opt/anaconda3/lib/python3.9/site-packages (from python-dateutil>=2.1->jupyter-client<8.0->ipykernel>=4.5.1->ipywidgets<9,>=7.6.0->ipyleaflet) (1.16.0)\n",
      "Requirement already satisfied: notebook>=4.4.1 in /Users/joshuavargas/opt/anaconda3/lib/python3.9/site-packages (from widgetsnbextension~=3.5.0->ipywidgets<9,>=7.6.0->ipyleaflet) (6.4.8)\n",
      "Requirement already satisfied: argon2-cffi in /Users/joshuavargas/opt/anaconda3/lib/python3.9/site-packages (from notebook>=4.4.1->widgetsnbextension~=3.5.0->ipywidgets<9,>=7.6.0->ipyleaflet) (21.3.0)\n",
      "Requirement already satisfied: nbconvert in /Users/joshuavargas/opt/anaconda3/lib/python3.9/site-packages (from notebook>=4.4.1->widgetsnbextension~=3.5.0->ipywidgets<9,>=7.6.0->ipyleaflet) (6.4.4)\n",
      "Requirement already satisfied: terminado>=0.8.3 in /Users/joshuavargas/opt/anaconda3/lib/python3.9/site-packages (from notebook>=4.4.1->widgetsnbextension~=3.5.0->ipywidgets<9,>=7.6.0->ipyleaflet) (0.13.1)\n",
      "Requirement already satisfied: Send2Trash>=1.8.0 in /Users/joshuavargas/opt/anaconda3/lib/python3.9/site-packages (from notebook>=4.4.1->widgetsnbextension~=3.5.0->ipywidgets<9,>=7.6.0->ipyleaflet) (1.8.0)\n",
      "Requirement already satisfied: prometheus-client in /Users/joshuavargas/opt/anaconda3/lib/python3.9/site-packages (from notebook>=4.4.1->widgetsnbextension~=3.5.0->ipywidgets<9,>=7.6.0->ipyleaflet) (0.13.1)\n",
      "Requirement already satisfied: argon2-cffi-bindings in /Users/joshuavargas/opt/anaconda3/lib/python3.9/site-packages (from argon2-cffi->notebook>=4.4.1->widgetsnbextension~=3.5.0->ipywidgets<9,>=7.6.0->ipyleaflet) (21.2.0)\n",
      "Requirement already satisfied: cffi>=1.0.1 in /Users/joshuavargas/opt/anaconda3/lib/python3.9/site-packages (from argon2-cffi-bindings->argon2-cffi->notebook>=4.4.1->widgetsnbextension~=3.5.0->ipywidgets<9,>=7.6.0->ipyleaflet) (1.15.0)\n",
      "Requirement already satisfied: pycparser in /Users/joshuavargas/opt/anaconda3/lib/python3.9/site-packages (from cffi>=1.0.1->argon2-cffi-bindings->argon2-cffi->notebook>=4.4.1->widgetsnbextension~=3.5.0->ipywidgets<9,>=7.6.0->ipyleaflet) (2.21)\n",
      "Requirement already satisfied: MarkupSafe>=0.23 in /Users/joshuavargas/opt/anaconda3/lib/python3.9/site-packages (from jinja2->branca>=0.5.0->ipyleaflet) (2.0.1)\n",
      "Requirement already satisfied: defusedxml in /Users/joshuavargas/opt/anaconda3/lib/python3.9/site-packages (from nbconvert->notebook>=4.4.1->widgetsnbextension~=3.5.0->ipywidgets<9,>=7.6.0->ipyleaflet) (0.7.1)\n",
      "Requirement already satisfied: mistune<2,>=0.8.1 in /Users/joshuavargas/opt/anaconda3/lib/python3.9/site-packages (from nbconvert->notebook>=4.4.1->widgetsnbextension~=3.5.0->ipywidgets<9,>=7.6.0->ipyleaflet) (0.8.4)\n",
      "Requirement already satisfied: testpath in /Users/joshuavargas/opt/anaconda3/lib/python3.9/site-packages (from nbconvert->notebook>=4.4.1->widgetsnbextension~=3.5.0->ipywidgets<9,>=7.6.0->ipyleaflet) (0.5.0)\n",
      "Requirement already satisfied: beautifulsoup4 in /Users/joshuavargas/opt/anaconda3/lib/python3.9/site-packages (from nbconvert->notebook>=4.4.1->widgetsnbextension~=3.5.0->ipywidgets<9,>=7.6.0->ipyleaflet) (4.11.1)\n",
      "Requirement already satisfied: jupyterlab-pygments in /Users/joshuavargas/opt/anaconda3/lib/python3.9/site-packages (from nbconvert->notebook>=4.4.1->widgetsnbextension~=3.5.0->ipywidgets<9,>=7.6.0->ipyleaflet) (0.1.2)\n",
      "Requirement already satisfied: entrypoints>=0.2.2 in /Users/joshuavargas/opt/anaconda3/lib/python3.9/site-packages (from nbconvert->notebook>=4.4.1->widgetsnbextension~=3.5.0->ipywidgets<9,>=7.6.0->ipyleaflet) (0.4)\n",
      "Requirement already satisfied: bleach in /Users/joshuavargas/opt/anaconda3/lib/python3.9/site-packages (from nbconvert->notebook>=4.4.1->widgetsnbextension~=3.5.0->ipywidgets<9,>=7.6.0->ipyleaflet) (4.1.0)\n",
      "Requirement already satisfied: nbclient<0.6.0,>=0.5.0 in /Users/joshuavargas/opt/anaconda3/lib/python3.9/site-packages (from nbconvert->notebook>=4.4.1->widgetsnbextension~=3.5.0->ipywidgets<9,>=7.6.0->ipyleaflet) (0.5.13)\n",
      "Requirement already satisfied: pandocfilters>=1.4.1 in /Users/joshuavargas/opt/anaconda3/lib/python3.9/site-packages (from nbconvert->notebook>=4.4.1->widgetsnbextension~=3.5.0->ipywidgets<9,>=7.6.0->ipyleaflet) (1.5.0)\n",
      "Requirement already satisfied: soupsieve>1.2 in /Users/joshuavargas/opt/anaconda3/lib/python3.9/site-packages (from beautifulsoup4->nbconvert->notebook>=4.4.1->widgetsnbextension~=3.5.0->ipywidgets<9,>=7.6.0->ipyleaflet) (2.3.1)\n",
      "Requirement already satisfied: packaging in /Users/joshuavargas/opt/anaconda3/lib/python3.9/site-packages (from bleach->nbconvert->notebook>=4.4.1->widgetsnbextension~=3.5.0->ipywidgets<9,>=7.6.0->ipyleaflet) (21.3)\n",
      "Requirement already satisfied: webencodings in /Users/joshuavargas/opt/anaconda3/lib/python3.9/site-packages (from bleach->nbconvert->notebook>=4.4.1->widgetsnbextension~=3.5.0->ipywidgets<9,>=7.6.0->ipyleaflet) (0.5.1)\n",
      "Requirement already satisfied: pyparsing!=3.0.5,>=2.0.2 in /Users/joshuavargas/opt/anaconda3/lib/python3.9/site-packages (from packaging->bleach->nbconvert->notebook>=4.4.1->widgetsnbextension~=3.5.0->ipywidgets<9,>=7.6.0->ipyleaflet) (3.0.4)\n",
      "Requirement already satisfied: pure-eval in /Users/joshuavargas/opt/anaconda3/lib/python3.9/site-packages (from stack-data->ipython>=4.0.0->ipywidgets<9,>=7.6.0->ipyleaflet) (0.2.2)\n",
      "Requirement already satisfied: asttokens in /Users/joshuavargas/opt/anaconda3/lib/python3.9/site-packages (from stack-data->ipython>=4.0.0->ipywidgets<9,>=7.6.0->ipyleaflet) (2.0.5)\n",
      "Requirement already satisfied: executing in /Users/joshuavargas/opt/anaconda3/lib/python3.9/site-packages (from stack-data->ipython>=4.0.0->ipywidgets<9,>=7.6.0->ipyleaflet) (0.8.3)\n",
      "Note: you may need to restart the kernel to use updated packages.\n"
     ]
    }
   ],
   "source": [
    "pip install ipyleaflet"
   ]
  },
  {
   "cell_type": "code",
   "execution_count": 11,
   "id": "f554bd5a",
   "metadata": {
    "scrolled": true
   },
   "outputs": [
    {
     "name": "stdout",
     "output_type": "stream",
     "text": [
      "Requirement already satisfied: geos in /Users/joshuavargas/opt/anaconda3/lib/python3.9/site-packages (0.2.3)\n",
      "Requirement already satisfied: pillow in /Users/joshuavargas/opt/anaconda3/lib/python3.9/site-packages (from geos) (9.0.1)\n",
      "Requirement already satisfied: lxml in /Users/joshuavargas/opt/anaconda3/lib/python3.9/site-packages (from geos) (4.8.0)\n",
      "Requirement already satisfied: flask in /Users/joshuavargas/opt/anaconda3/lib/python3.9/site-packages (from geos) (1.1.2)\n",
      "Requirement already satisfied: Werkzeug>=0.15 in /Users/joshuavargas/opt/anaconda3/lib/python3.9/site-packages (from flask->geos) (2.0.3)\n",
      "Requirement already satisfied: Jinja2>=2.10.1 in /Users/joshuavargas/opt/anaconda3/lib/python3.9/site-packages (from flask->geos) (2.11.3)\n",
      "Requirement already satisfied: click>=5.1 in /Users/joshuavargas/opt/anaconda3/lib/python3.9/site-packages (from flask->geos) (8.0.4)\n",
      "Requirement already satisfied: itsdangerous>=0.24 in /Users/joshuavargas/opt/anaconda3/lib/python3.9/site-packages (from flask->geos) (2.0.1)\n",
      "Requirement already satisfied: MarkupSafe>=0.23 in /Users/joshuavargas/opt/anaconda3/lib/python3.9/site-packages (from Jinja2>=2.10.1->flask->geos) (2.0.1)\n",
      "Note: you may need to restart the kernel to use updated packages.\n"
     ]
    }
   ],
   "source": [
    "pip install geos"
   ]
  },
  {
   "cell_type": "code",
   "execution_count": 12,
   "id": "3a402cc6",
   "metadata": {},
   "outputs": [
    {
     "name": "stdout",
     "output_type": "stream",
     "text": [
      "Requirement already satisfied: pyshp in /Users/joshuavargas/opt/anaconda3/lib/python3.9/site-packages (2.3.1)\n",
      "Note: you may need to restart the kernel to use updated packages.\n"
     ]
    }
   ],
   "source": [
    "pip install pyshp"
   ]
  },
  {
   "cell_type": "code",
   "execution_count": 13,
   "id": "cef6f62a",
   "metadata": {},
   "outputs": [],
   "source": [
    "# pip install cartopy"
   ]
  },
  {
   "cell_type": "code",
   "execution_count": 14,
   "id": "6dc90feb",
   "metadata": {},
   "outputs": [
    {
     "name": "stdout",
     "output_type": "stream",
     "text": [
      "Requirement already satisfied: mapclassify in /Users/joshuavargas/opt/anaconda3/lib/python3.9/site-packages (2.4.3)\n",
      "Requirement already satisfied: scikit-learn in /Users/joshuavargas/opt/anaconda3/lib/python3.9/site-packages (from mapclassify) (1.0.2)\n",
      "Requirement already satisfied: networkx in /Users/joshuavargas/opt/anaconda3/lib/python3.9/site-packages (from mapclassify) (2.7.1)\n",
      "Requirement already satisfied: numpy>=1.3 in /Users/joshuavargas/opt/anaconda3/lib/python3.9/site-packages (from mapclassify) (1.21.5)\n",
      "Requirement already satisfied: scipy>=1.0 in /Users/joshuavargas/opt/anaconda3/lib/python3.9/site-packages (from mapclassify) (1.7.3)\n",
      "Requirement already satisfied: pandas>=1.0 in /Users/joshuavargas/opt/anaconda3/lib/python3.9/site-packages (from mapclassify) (1.4.2)\n",
      "Requirement already satisfied: python-dateutil>=2.8.1 in /Users/joshuavargas/opt/anaconda3/lib/python3.9/site-packages (from pandas>=1.0->mapclassify) (2.8.2)\n",
      "Requirement already satisfied: pytz>=2020.1 in /Users/joshuavargas/opt/anaconda3/lib/python3.9/site-packages (from pandas>=1.0->mapclassify) (2021.3)\n",
      "Requirement already satisfied: six>=1.5 in /Users/joshuavargas/opt/anaconda3/lib/python3.9/site-packages (from python-dateutil>=2.8.1->pandas>=1.0->mapclassify) (1.16.0)\n",
      "Requirement already satisfied: threadpoolctl>=2.0.0 in /Users/joshuavargas/opt/anaconda3/lib/python3.9/site-packages (from scikit-learn->mapclassify) (2.2.0)\n",
      "Requirement already satisfied: joblib>=0.11 in /Users/joshuavargas/opt/anaconda3/lib/python3.9/site-packages (from scikit-learn->mapclassify) (1.1.0)\n",
      "Note: you may need to restart the kernel to use updated packages.\n"
     ]
    }
   ],
   "source": [
    "pip install mapclassify"
   ]
  },
  {
   "cell_type": "code",
   "execution_count": 5,
   "id": "af202d37",
   "metadata": {},
   "outputs": [
    {
     "name": "stdout",
     "output_type": "stream",
     "text": [
      "Collecting folium\n",
      "  Downloading folium-0.12.1.post1-py2.py3-none-any.whl (95 kB)\n",
      "\u001b[K     |████████████████████████████████| 95 kB 6.4 MB/s eta 0:00:01\n",
      "\u001b[?25hRequirement already satisfied: branca>=0.3.0 in /Users/joshuavargas/opt/anaconda3/lib/python3.9/site-packages (from folium) (0.5.0)\n",
      "Requirement already satisfied: numpy in /Users/joshuavargas/opt/anaconda3/lib/python3.9/site-packages (from folium) (1.21.5)\n",
      "Requirement already satisfied: requests in /Users/joshuavargas/opt/anaconda3/lib/python3.9/site-packages (from folium) (2.27.1)\n",
      "Requirement already satisfied: jinja2>=2.9 in /Users/joshuavargas/opt/anaconda3/lib/python3.9/site-packages (from folium) (2.11.3)\n",
      "Requirement already satisfied: MarkupSafe>=0.23 in /Users/joshuavargas/opt/anaconda3/lib/python3.9/site-packages (from jinja2>=2.9->folium) (2.0.1)\n",
      "Requirement already satisfied: urllib3<1.27,>=1.21.1 in /Users/joshuavargas/opt/anaconda3/lib/python3.9/site-packages (from requests->folium) (1.26.9)\n",
      "Requirement already satisfied: idna<4,>=2.5 in /Users/joshuavargas/opt/anaconda3/lib/python3.9/site-packages (from requests->folium) (3.3)\n",
      "Requirement already satisfied: certifi>=2017.4.17 in /Users/joshuavargas/opt/anaconda3/lib/python3.9/site-packages (from requests->folium) (2021.10.8)\n",
      "Requirement already satisfied: charset-normalizer~=2.0.0 in /Users/joshuavargas/opt/anaconda3/lib/python3.9/site-packages (from requests->folium) (2.0.4)\n",
      "Installing collected packages: folium\n",
      "Successfully installed folium-0.12.1.post1\n",
      "Note: you may need to restart the kernel to use updated packages.\n"
     ]
    }
   ],
   "source": [
    "pip install folium"
   ]
  },
  {
   "cell_type": "markdown",
   "id": "b28f7149",
   "metadata": {},
   "source": [
    "### API handling"
   ]
  },
  {
   "cell_type": "code",
   "execution_count": 1,
   "id": "6511d4dd",
   "metadata": {},
   "outputs": [
    {
     "name": "stdout",
     "output_type": "stream",
     "text": [
      "Requirement already satisfied: simplejson in /Users/joshuavargas/opt/anaconda3/lib/python3.9/site-packages (3.17.6)\n",
      "Note: you may need to restart the kernel to use updated packages.\n"
     ]
    }
   ],
   "source": [
    "pip install simplejson"
   ]
  },
  {
   "cell_type": "code",
   "execution_count": 4,
   "id": "87080af6",
   "metadata": {},
   "outputs": [
    {
     "name": "stdout",
     "output_type": "stream",
     "text": [
      "Requirement already satisfied: routingpy in /Users/joshuavargas/opt/anaconda3/lib/python3.9/site-packages (1.1.0)\n",
      "Requirement already satisfied: requests>=2.20.0 in /Users/joshuavargas/opt/anaconda3/lib/python3.9/site-packages (from routingpy) (2.27.1)\n",
      "Requirement already satisfied: urllib3<1.27,>=1.21.1 in /Users/joshuavargas/opt/anaconda3/lib/python3.9/site-packages (from requests>=2.20.0->routingpy) (1.26.9)\n",
      "Requirement already satisfied: certifi>=2017.4.17 in /Users/joshuavargas/opt/anaconda3/lib/python3.9/site-packages (from requests>=2.20.0->routingpy) (2021.10.8)\n",
      "Requirement already satisfied: idna<4,>=2.5 in /Users/joshuavargas/opt/anaconda3/lib/python3.9/site-packages (from requests>=2.20.0->routingpy) (3.3)\n",
      "Requirement already satisfied: charset-normalizer~=2.0.0 in /Users/joshuavargas/opt/anaconda3/lib/python3.9/site-packages (from requests>=2.20.0->routingpy) (2.0.4)\n",
      "Note: you may need to restart the kernel to use updated packages.\n"
     ]
    }
   ],
   "source": [
    "pip install routingpy"
   ]
  },
  {
   "cell_type": "code",
   "execution_count": 5,
   "id": "3ddc647e",
   "metadata": {},
   "outputs": [
    {
     "name": "stdout",
     "output_type": "stream",
     "text": [
      "Requirement already satisfied: googlemaps in /Users/joshuavargas/opt/anaconda3/lib/python3.9/site-packages (4.6.0)\n",
      "Requirement already satisfied: requests<3.0,>=2.20.0 in /Users/joshuavargas/opt/anaconda3/lib/python3.9/site-packages (from googlemaps) (2.27.1)\n",
      "Requirement already satisfied: charset-normalizer~=2.0.0 in /Users/joshuavargas/opt/anaconda3/lib/python3.9/site-packages (from requests<3.0,>=2.20.0->googlemaps) (2.0.4)\n",
      "Requirement already satisfied: certifi>=2017.4.17 in /Users/joshuavargas/opt/anaconda3/lib/python3.9/site-packages (from requests<3.0,>=2.20.0->googlemaps) (2021.10.8)\n",
      "Requirement already satisfied: idna<4,>=2.5 in /Users/joshuavargas/opt/anaconda3/lib/python3.9/site-packages (from requests<3.0,>=2.20.0->googlemaps) (3.3)\n",
      "Requirement already satisfied: urllib3<1.27,>=1.21.1 in /Users/joshuavargas/opt/anaconda3/lib/python3.9/site-packages (from requests<3.0,>=2.20.0->googlemaps) (1.26.9)\n",
      "Note: you may need to restart the kernel to use updated packages.\n"
     ]
    }
   ],
   "source": [
    "pip install googlemaps"
   ]
  },
  {
   "cell_type": "markdown",
   "id": "bbe2fe91",
   "metadata": {},
   "source": [
    "### Template for important above libraries in future notebooks"
   ]
  },
  {
   "cell_type": "code",
   "execution_count": 1,
   "id": "f8aa3ce1",
   "metadata": {},
   "outputs": [],
   "source": [
    "# Data processing\n",
    "import numpy as np\n",
    "import pandas as pd\n",
    "import geopandas as gpd\n",
    "\n",
    "# Visualisation\n",
    "import matplotlib\n",
    "from ipyleaflet import Map, GeoData, basemaps, LayersControl\n",
    "import seaborn\n",
    "import folium\n",
    "import mapclassify\n",
    "\n",
    "# API handling\n",
    "import simplejson\n",
    "import urllib.request as ur\n",
    "import routingpy as rp\n",
    "import googlemaps"
   ]
  }
 ],
 "metadata": {
  "kernelspec": {
   "display_name": "Python 3.9.12 ('base')",
   "language": "python",
   "name": "python3"
  },
  "language_info": {
   "codemirror_mode": {
    "name": "ipython",
    "version": 3
   },
   "file_extension": ".py",
   "mimetype": "text/x-python",
   "name": "python",
   "nbconvert_exporter": "python",
   "pygments_lexer": "ipython3",
   "version": "3.9.12"
  },
  "vscode": {
   "interpreter": {
    "hash": "804bab154d077b51c493a48ff4f9692e100242d10c3b977966202d99f19f22da"
   }
  }
 },
 "nbformat": 4,
 "nbformat_minor": 5
}
