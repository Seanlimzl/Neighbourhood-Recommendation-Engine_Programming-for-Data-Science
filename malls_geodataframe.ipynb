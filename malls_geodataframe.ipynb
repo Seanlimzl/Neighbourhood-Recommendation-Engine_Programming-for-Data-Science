{
 "cells": [
  {
   "cell_type": "code",
   "execution_count": 1,
   "metadata": {},
   "outputs": [],
   "source": [
    "# Data processing\n",
    "import numpy as np\n",
    "import pandas as pd\n",
    "import geopandas as gpd\n",
    "\n",
    "# Visualisation\n",
    "import matplotlib\n",
    "from ipyleaflet import Map, GeoData, basemaps, LayersControl\n",
    "import seaborn\n",
    "import folium\n",
    "import mapclassify"
   ]
  },
  {
   "cell_type": "code",
   "execution_count": 2,
   "metadata": {},
   "outputs": [
    {
     "data": {
      "text/html": [
       "<div>\n",
       "<style scoped>\n",
       "    .dataframe tbody tr th:only-of-type {\n",
       "        vertical-align: middle;\n",
       "    }\n",
       "\n",
       "    .dataframe tbody tr th {\n",
       "        vertical-align: top;\n",
       "    }\n",
       "\n",
       "    .dataframe thead th {\n",
       "        text-align: right;\n",
       "    }\n",
       "</style>\n",
       "<table border=\"1\" class=\"dataframe\">\n",
       "  <thead>\n",
       "    <tr style=\"text-align: right;\">\n",
       "      <th></th>\n",
       "      <th>address</th>\n",
       "      <th>LATITUDE</th>\n",
       "      <th>LONGITUDE</th>\n",
       "    </tr>\n",
       "  </thead>\n",
       "  <tbody>\n",
       "    <tr>\n",
       "      <th>0</th>\n",
       "      <td>Katong Square</td>\n",
       "      <td>1.304853</td>\n",
       "      <td>103.904574</td>\n",
       "    </tr>\n",
       "    <tr>\n",
       "      <th>1</th>\n",
       "      <td>PLQ Mall</td>\n",
       "      <td>1.317482</td>\n",
       "      <td>103.892832</td>\n",
       "    </tr>\n",
       "    <tr>\n",
       "      <th>2</th>\n",
       "      <td>Capitol Piazza</td>\n",
       "      <td>1.293063</td>\n",
       "      <td>103.851293</td>\n",
       "    </tr>\n",
       "    <tr>\n",
       "      <th>3</th>\n",
       "      <td>Bugis Cube</td>\n",
       "      <td>1.298195</td>\n",
       "      <td>103.855655</td>\n",
       "    </tr>\n",
       "    <tr>\n",
       "      <th>4</th>\n",
       "      <td>HillV2</td>\n",
       "      <td>1.363551</td>\n",
       "      <td>103.764236</td>\n",
       "    </tr>\n",
       "  </tbody>\n",
       "</table>\n",
       "</div>"
      ],
      "text/plain": [
       "          address  LATITUDE   LONGITUDE\n",
       "0   Katong Square  1.304853  103.904574\n",
       "1        PLQ Mall  1.317482  103.892832\n",
       "2  Capitol Piazza  1.293063  103.851293\n",
       "3      Bugis Cube  1.298195  103.855655\n",
       "4          HillV2  1.363551  103.764236"
      ]
     },
     "execution_count": 2,
     "metadata": {},
     "output_type": "execute_result"
    }
   ],
   "source": [
    "malls = pd.read_csv('Data Sources/Teyang_Lau_data/shoppingmall_coordinates_clean.csv')\n",
    "malls.head()"
   ]
  },
  {
   "cell_type": "code",
   "execution_count": 3,
   "metadata": {},
   "outputs": [
    {
     "data": {
      "text/html": [
       "<div>\n",
       "<style scoped>\n",
       "    .dataframe tbody tr th:only-of-type {\n",
       "        vertical-align: middle;\n",
       "    }\n",
       "\n",
       "    .dataframe tbody tr th {\n",
       "        vertical-align: top;\n",
       "    }\n",
       "\n",
       "    .dataframe thead th {\n",
       "        text-align: right;\n",
       "    }\n",
       "</style>\n",
       "<table border=\"1\" class=\"dataframe\">\n",
       "  <thead>\n",
       "    <tr style=\"text-align: right;\">\n",
       "      <th></th>\n",
       "      <th>address</th>\n",
       "      <th>LATITUDE</th>\n",
       "      <th>LONGITUDE</th>\n",
       "      <th>geometry</th>\n",
       "    </tr>\n",
       "  </thead>\n",
       "  <tbody>\n",
       "    <tr>\n",
       "      <th>0</th>\n",
       "      <td>Katong Square</td>\n",
       "      <td>1.304853</td>\n",
       "      <td>103.904574</td>\n",
       "      <td>POINT (35930.098 31909.687)</td>\n",
       "    </tr>\n",
       "    <tr>\n",
       "      <th>1</th>\n",
       "      <td>PLQ Mall</td>\n",
       "      <td>1.317482</td>\n",
       "      <td>103.892832</td>\n",
       "      <td>POINT (34623.287 33306.097)</td>\n",
       "    </tr>\n",
       "    <tr>\n",
       "      <th>2</th>\n",
       "      <td>Capitol Piazza</td>\n",
       "      <td>1.293063</td>\n",
       "      <td>103.851293</td>\n",
       "      <td>POINT (30000.453 30605.903)</td>\n",
       "    </tr>\n",
       "    <tr>\n",
       "      <th>3</th>\n",
       "      <td>Bugis Cube</td>\n",
       "      <td>1.298195</td>\n",
       "      <td>103.855655</td>\n",
       "      <td>POINT (30485.901 31173.337)</td>\n",
       "    </tr>\n",
       "    <tr>\n",
       "      <th>4</th>\n",
       "      <td>HillV2</td>\n",
       "      <td>1.363551</td>\n",
       "      <td>103.764236</td>\n",
       "      <td>POINT (20311.935 38400.163)</td>\n",
       "    </tr>\n",
       "  </tbody>\n",
       "</table>\n",
       "</div>"
      ],
      "text/plain": [
       "          address  LATITUDE   LONGITUDE                     geometry\n",
       "0   Katong Square  1.304853  103.904574  POINT (35930.098 31909.687)\n",
       "1        PLQ Mall  1.317482  103.892832  POINT (34623.287 33306.097)\n",
       "2  Capitol Piazza  1.293063  103.851293  POINT (30000.453 30605.903)\n",
       "3      Bugis Cube  1.298195  103.855655  POINT (30485.901 31173.337)\n",
       "4          HillV2  1.363551  103.764236  POINT (20311.935 38400.163)"
      ]
     },
     "execution_count": 3,
     "metadata": {},
     "output_type": "execute_result"
    }
   ],
   "source": [
    "malls_gdf = gpd.GeoDataFrame(malls, geometry=gpd.points_from_xy(malls.LONGITUDE, malls.LATITUDE), crs='WGS84')\n",
    "\n",
    "malls_EPSG3414 = malls_gdf.to_crs(epsg=3414)\n",
    "malls_EPSG3414.head()"
   ]
  },
  {
   "cell_type": "code",
   "execution_count": 4,
   "metadata": {},
   "outputs": [
    {
     "data": {
      "text/plain": [
       "<AxesSubplot:>"
      ]
     },
     "execution_count": 4,
     "metadata": {},
     "output_type": "execute_result"
    },
    {
     "data": {
      "image/png": "[encoded data removed]",
      "text/plain": [
       "<Figure size 432x288 with 1 Axes>"
      ]
     },
     "metadata": {
      "needs_background": "light"
     },
     "output_type": "display_data"
    }
   ],
   "source": [
    "malls_EPSG3414.plot()"
   ]
  },
  {
   "cell_type": "code",
   "execution_count": 5,
   "metadata": {},
   "outputs": [],
   "source": [
    "malls_EPSG3414.to_file('Generated Files/malls_EPSG3414.shp')"
   ]
  }
 ],
 "metadata": {
  "kernelspec": {
   "display_name": "Python 3.9.12 ('base')",
   "language": "python",
   "name": "python3"
  },
  "language_info": {
   "codemirror_mode": {
    "name": "ipython",
    "version": 3
   },
   "file_extension": ".py",
   "mimetype": "text/x-python",
   "name": "python",
   "nbconvert_exporter": "python",
   "pygments_lexer": "ipython3",
   "version": "3.9.12"
  },
  "vscode": {
   "interpreter": {
    "hash": "804bab154d077b51c493a48ff4f9692e100242d10c3b977966202d99f19f22da"
   }
  }
 },
 "nbformat": 4,
 "nbformat_minor": 5
}
