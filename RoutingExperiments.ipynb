{
 "cells": [
  {
   "cell_type": "markdown",
   "metadata": {},
   "source": [
    "# Routing Analysis"
   ]
  },
  {
   "cell_type": "markdown",
   "metadata": {},
   "source": [
    "### Dependencies"
   ]
  },
  {
   "cell_type": "code",
   "execution_count": 53,
   "metadata": {},
   "outputs": [],
   "source": [
    "# Data processing\n",
    "import numpy as np\n",
    "import pandas as pd\n",
    "import geopandas as gpd\n",
    "from datetime import datetime\n",
    "import simpledbf as sdbf\n",
    "\n",
    "# Visualisation\n",
    "import matplotlib\n",
    "from ipyleaflet import Map, GeoData, basemaps, LayersControl\n",
    "import seaborn\n",
    "import folium\n",
    "import mapclassify\n",
    "\n",
    "#API Handling\n",
    "import simplejson\n",
    "import urllib.request as ur\n",
    "import routingpy as rp\n",
    "import googlemaps\n",
    "KEY = \"\""
   ]
  },
  {
   "cell_type": "markdown",
   "metadata": {},
   "source": [
    "### Loading Files"
   ]
  },
  {
   "cell_type": "code",
   "execution_count": 54,
   "metadata": {},
   "outputs": [],
   "source": [
    "# Postal codes database\n",
    "buildings = gpd.read_file('Generated Files/buildings_EPSG3414_no-dups.shp')\n",
    "\n",
    "# Amenities\n",
    "activesg = gpd.read_file('Generated Files/activesg.shp')\n",
    "bus_stops = gpd.read_file('Generated Files/busstopssg_EPSG3414.shp')\n",
    "hawkercentres = gpd.read_file('Generated Files/hawkercentres_EPSG3414.shp')\n",
    "malls = gpd.read_file('Generated Files/malls_EPSG3414.shp')\n",
    "parks = gpd.read_file('Generated Files/parks_EPSG3414.shp')\n",
    "schools = gpd.read_file('Generated Files/schools_EPSG3414.shp')"
   ]
  },
  {
   "cell_type": "code",
   "execution_count": 6,
   "metadata": {},
   "outputs": [
    {
     "data": {
      "text/plain": [
       "121361"
      ]
     },
     "execution_count": 6,
     "metadata": {},
     "output_type": "execute_result"
    }
   ],
   "source": [
    "len(buildings)"
   ]
  },
  {
   "cell_type": "code",
   "execution_count": 7,
   "metadata": {},
   "outputs": [],
   "source": [
    "# buildings.explore(legend=False)"
   ]
  },
  {
   "cell_type": "markdown",
   "metadata": {},
   "source": [
    "### Trying ways to make API calls"
   ]
  },
  {
   "cell_type": "code",
   "execution_count": 8,
   "metadata": {},
   "outputs": [
    {
     "name": "stdout",
     "output_type": "stream",
     "text": [
      "6 mins\n"
     ]
    }
   ],
   "source": [
    "orig = \"3155CommonwealthAveWest\"\n",
    "dest = \"16CollegeAvenueWest\"\n",
    "url = \"https://maps.googleapis.com/maps/api/distancematrix/json?key={0}&origins={1}&destinations={2}&mode=driving&language=en-EN&sensor=false\".format(KEY,str(orig),str(dest))\n",
    "result= simplejson.load(ur.urlopen(url))\n",
    "#print(result)\n",
    "driving_time = result['rows'][0]['elements'][0]['duration']['text']\n",
    "print(driving_time)"
   ]
  },
  {
   "cell_type": "code",
   "execution_count": 17,
   "metadata": {},
   "outputs": [
    {
     "data": {
      "text/html": [
       "<div>\n",
       "<style scoped>\n",
       "    .dataframe tbody tr th:only-of-type {\n",
       "        vertical-align: middle;\n",
       "    }\n",
       "\n",
       "    .dataframe tbody tr th {\n",
       "        vertical-align: top;\n",
       "    }\n",
       "\n",
       "    .dataframe thead th {\n",
       "        text-align: right;\n",
       "    }\n",
       "</style>\n",
       "<table border=\"1\" class=\"dataframe\">\n",
       "  <thead>\n",
       "    <tr style=\"text-align: right;\">\n",
       "      <th></th>\n",
       "      <th>Unnamed_ 0</th>\n",
       "      <th>ADDRESS</th>\n",
       "      <th>BLK_NO</th>\n",
       "      <th>BUILDING</th>\n",
       "      <th>LATITUDE</th>\n",
       "      <th>LONGITUDE</th>\n",
       "      <th>LONGTITUDE</th>\n",
       "      <th>POSTAL</th>\n",
       "      <th>ROAD_NAME</th>\n",
       "      <th>SEARCHVAL</th>\n",
       "      <th>X</th>\n",
       "      <th>Y</th>\n",
       "      <th>address_1</th>\n",
       "      <th>geometry</th>\n",
       "    </tr>\n",
       "  </thead>\n",
       "  <tbody>\n",
       "    <tr>\n",
       "      <th>24</th>\n",
       "      <td>0</td>\n",
       "      <td>15 CLEMENTI AVENUE 5 PEI TONG PRIMARY SCHOOL S...</td>\n",
       "      <td>15</td>\n",
       "      <td>PEI TONG PRIMARY SCHOOL</td>\n",
       "      <td>1.316148</td>\n",
       "      <td>103.767576</td>\n",
       "      <td>103.767576</td>\n",
       "      <td>129857</td>\n",
       "      <td>CLEMENTI AVENUE 5</td>\n",
       "      <td>PEI TONG PRIMARY SCHOOL</td>\n",
       "      <td>20683.51520</td>\n",
       "      <td>33158.57465</td>\n",
       "      <td>Pei Tong Primary School</td>\n",
       "      <td>POINT (20683.515 33158.575)</td>\n",
       "    </tr>\n",
       "    <tr>\n",
       "      <th>87</th>\n",
       "      <td>0</td>\n",
       "      <td>8 CLEMENTI AVENUE 3 CLEMENTI PRIMARY SCHOOL SI...</td>\n",
       "      <td>8</td>\n",
       "      <td>CLEMENTI PRIMARY SCHOOL</td>\n",
       "      <td>1.315809</td>\n",
       "      <td>103.763055</td>\n",
       "      <td>103.763055</td>\n",
       "      <td>129903</td>\n",
       "      <td>CLEMENTI AVENUE 3</td>\n",
       "      <td>CLEMENTI PRIMARY SCHOOL</td>\n",
       "      <td>20180.32316</td>\n",
       "      <td>33121.05322</td>\n",
       "      <td>Clementi Primary School</td>\n",
       "      <td>POINT (20180.323 33121.053)</td>\n",
       "    </tr>\n",
       "  </tbody>\n",
       "</table>\n",
       "</div>"
      ],
      "text/plain": [
       "    Unnamed_ 0                                            ADDRESS BLK_NO  \\\n",
       "24           0  15 CLEMENTI AVENUE 5 PEI TONG PRIMARY SCHOOL S...     15   \n",
       "87           0  8 CLEMENTI AVENUE 3 CLEMENTI PRIMARY SCHOOL SI...      8   \n",
       "\n",
       "                   BUILDING  LATITUDE   LONGITUDE  LONGTITUDE  POSTAL  \\\n",
       "24  PEI TONG PRIMARY SCHOOL  1.316148  103.767576  103.767576  129857   \n",
       "87  CLEMENTI PRIMARY SCHOOL  1.315809  103.763055  103.763055  129903   \n",
       "\n",
       "            ROAD_NAME                SEARCHVAL            X            Y  \\\n",
       "24  CLEMENTI AVENUE 5  PEI TONG PRIMARY SCHOOL  20683.51520  33158.57465   \n",
       "87  CLEMENTI AVENUE 3  CLEMENTI PRIMARY SCHOOL  20180.32316  33121.05322   \n",
       "\n",
       "                  address_1                     geometry  \n",
       "24  Pei Tong Primary School  POINT (20683.515 33158.575)  \n",
       "87  Clementi Primary School  POINT (20180.323 33121.053)  "
      ]
     },
     "execution_count": 17,
     "metadata": {},
     "output_type": "execute_result"
    }
   ],
   "source": [
    "#Amenity search\n",
    "schools.head()\n",
    "schools[schools['ADDRESS'].str.contains('CLEMENTI')]\n"
   ]
  },
  {
   "cell_type": "markdown",
   "metadata": {},
   "source": [
    "### Trying routingpy, doesn't work"
   ]
  },
  {
   "cell_type": "code",
   "execution_count": 42,
   "metadata": {},
   "outputs": [
    {
     "name": "stdout",
     "output_type": "stream",
     "text": [
      "<routingpy.routers.google.Google object at 0x000001B68511ED70>\n"
     ]
    }
   ],
   "source": [
    "#YNC LAT LONG 1.306250 103.771890\n",
    "#CLEMENTI PRIMARY SCHOOL 1.315809 103.763055\n",
    "\n",
    "YNC = [103.771890, 1.306250]\n",
    "ClemPriSchool = [103.763055, 1.315809]\n",
    "\n",
    "router = rp.get_router_by_name(\"google\")(api_key=KEY)\n",
    "print(router)\n",
    "\n",
    "search = router.matrix(locations = [[103.771890, 1.306250], [103.763055, 1.315809]], profile='drivng')"
   ]
  },
  {
   "cell_type": "code",
   "execution_count": 47,
   "metadata": {},
   "outputs": [
    {
     "ename": "KeyError",
     "evalue": "'duration'",
     "output_type": "error",
     "traceback": [
      "\u001b[1;31m---------------------------------------------------------------------------\u001b[0m",
      "\u001b[1;31mKeyError\u001b[0m                                  Traceback (most recent call last)",
      "Cell \u001b[1;32mIn [47], line 1\u001b[0m\n\u001b[1;32m----> 1\u001b[0m searchTransit \u001b[38;5;241m=\u001b[39m router\u001b[38;5;241m.\u001b[39mmatrix(locations \u001b[38;5;241m=\u001b[39m [[\u001b[38;5;241m103.771890\u001b[39m, \u001b[38;5;241m1.306250\u001b[39m], [\u001b[38;5;241m103.763055\u001b[39m, \u001b[38;5;241m1.315809\u001b[39m]], profile\u001b[38;5;241m=\u001b[39m\u001b[38;5;124m'\u001b[39m\u001b[38;5;124mtransit\u001b[39m\u001b[38;5;124m'\u001b[39m, transit_mode\u001b[38;5;241m=\u001b[39m[\u001b[38;5;124m'\u001b[39m\u001b[38;5;124mbus\u001b[39m\u001b[38;5;124m'\u001b[39m,\u001b[38;5;124m'\u001b[39m\u001b[38;5;124msubway\u001b[39m\u001b[38;5;124m'\u001b[39m], region\u001b[38;5;241m=\u001b[39m\u001b[38;5;124m'\u001b[39m\u001b[38;5;124msg\u001b[39m\u001b[38;5;124m'\u001b[39m, units\u001b[38;5;241m=\u001b[39m\u001b[38;5;124m'\u001b[39m\u001b[38;5;124mmetric\u001b[39m\u001b[38;5;124m'\u001b[39m )\n",
      "File \u001b[1;32m~\\AppData\\Roaming\\Python\\Python310\\site-packages\\routingpy\\routers\\google.py:513\u001b[0m, in \u001b[0;36mGoogle.matrix\u001b[1;34m(self, locations, profile, sources, destinations, avoid, language, region, units, arrival_time, departure_time, traffic_model, transit_mode, transit_routing_preference, dry_run)\u001b[0m\n\u001b[0;32m    510\u001b[0m \u001b[39mif\u001b[39;00m transit_routing_preference:\n\u001b[0;32m    511\u001b[0m     params[\u001b[39m\"\u001b[39m\u001b[39mtransit_routing_preference\u001b[39m\u001b[39m\"\u001b[39m] \u001b[39m=\u001b[39m transit_routing_preference\n\u001b[1;32m--> 513\u001b[0m \u001b[39mreturn\u001b[39;00m \u001b[39mself\u001b[39;49m\u001b[39m.\u001b[39;49mparse_matrix_json(\n\u001b[0;32m    514\u001b[0m     \u001b[39mself\u001b[39;49m\u001b[39m.\u001b[39;49mclient\u001b[39m.\u001b[39;49m_request(\u001b[39m\"\u001b[39;49m\u001b[39m/distancematrix/json\u001b[39;49m\u001b[39m\"\u001b[39;49m, get_params\u001b[39m=\u001b[39;49mparams, dry_run\u001b[39m=\u001b[39;49mdry_run)\n\u001b[0;32m    515\u001b[0m )\n",
      "File \u001b[1;32m~\\AppData\\Roaming\\Python\\Python310\\site-packages\\routingpy\\routers\\google.py:522\u001b[0m, in \u001b[0;36mGoogle.parse_matrix_json\u001b[1;34m(response)\u001b[0m\n\u001b[0;32m    519\u001b[0m \u001b[39mif\u001b[39;00m response \u001b[39mis\u001b[39;00m \u001b[39mNone\u001b[39;00m:  \u001b[39m# pragma: no cover\u001b[39;00m\n\u001b[0;32m    520\u001b[0m     \u001b[39mreturn\u001b[39;00m Matrix()\n\u001b[1;32m--> 522\u001b[0m durations \u001b[39m=\u001b[39m [\n\u001b[0;32m    523\u001b[0m     [destination[\u001b[39m\"\u001b[39m\u001b[39mduration\u001b[39m\u001b[39m\"\u001b[39m][\u001b[39m\"\u001b[39m\u001b[39mvalue\u001b[39m\u001b[39m\"\u001b[39m] \u001b[39mfor\u001b[39;00m destination \u001b[39min\u001b[39;00m origin[\u001b[39m\"\u001b[39m\u001b[39melements\u001b[39m\u001b[39m\"\u001b[39m]]\n\u001b[0;32m    524\u001b[0m     \u001b[39mfor\u001b[39;00m origin \u001b[39min\u001b[39;00m response[\u001b[39m\"\u001b[39m\u001b[39mrows\u001b[39m\u001b[39m\"\u001b[39m]\n\u001b[0;32m    525\u001b[0m ]\n\u001b[0;32m    526\u001b[0m distances \u001b[39m=\u001b[39m [\n\u001b[0;32m    527\u001b[0m     [destination[\u001b[39m\"\u001b[39m\u001b[39mdistance\u001b[39m\u001b[39m\"\u001b[39m][\u001b[39m\"\u001b[39m\u001b[39mvalue\u001b[39m\u001b[39m\"\u001b[39m] \u001b[39mfor\u001b[39;00m destination \u001b[39min\u001b[39;00m origin[\u001b[39m\"\u001b[39m\u001b[39melements\u001b[39m\u001b[39m\"\u001b[39m]]\n\u001b[0;32m    528\u001b[0m     \u001b[39mfor\u001b[39;00m origin \u001b[39min\u001b[39;00m response[\u001b[39m\"\u001b[39m\u001b[39mrows\u001b[39m\u001b[39m\"\u001b[39m]\n\u001b[0;32m    529\u001b[0m ]\n\u001b[0;32m    531\u001b[0m \u001b[39mreturn\u001b[39;00m Matrix(durations, distances, response)\n",
      "File \u001b[1;32m~\\AppData\\Roaming\\Python\\Python310\\site-packages\\routingpy\\routers\\google.py:523\u001b[0m, in \u001b[0;36m<listcomp>\u001b[1;34m(.0)\u001b[0m\n\u001b[0;32m    519\u001b[0m \u001b[39mif\u001b[39;00m response \u001b[39mis\u001b[39;00m \u001b[39mNone\u001b[39;00m:  \u001b[39m# pragma: no cover\u001b[39;00m\n\u001b[0;32m    520\u001b[0m     \u001b[39mreturn\u001b[39;00m Matrix()\n\u001b[0;32m    522\u001b[0m durations \u001b[39m=\u001b[39m [\n\u001b[1;32m--> 523\u001b[0m     [destination[\u001b[39m\"\u001b[39m\u001b[39mduration\u001b[39m\u001b[39m\"\u001b[39m][\u001b[39m\"\u001b[39m\u001b[39mvalue\u001b[39m\u001b[39m\"\u001b[39m] \u001b[39mfor\u001b[39;00m destination \u001b[39min\u001b[39;00m origin[\u001b[39m\"\u001b[39m\u001b[39melements\u001b[39m\u001b[39m\"\u001b[39m]]\n\u001b[0;32m    524\u001b[0m     \u001b[39mfor\u001b[39;00m origin \u001b[39min\u001b[39;00m response[\u001b[39m\"\u001b[39m\u001b[39mrows\u001b[39m\u001b[39m\"\u001b[39m]\n\u001b[0;32m    525\u001b[0m ]\n\u001b[0;32m    526\u001b[0m distances \u001b[39m=\u001b[39m [\n\u001b[0;32m    527\u001b[0m     [destination[\u001b[39m\"\u001b[39m\u001b[39mdistance\u001b[39m\u001b[39m\"\u001b[39m][\u001b[39m\"\u001b[39m\u001b[39mvalue\u001b[39m\u001b[39m\"\u001b[39m] \u001b[39mfor\u001b[39;00m destination \u001b[39min\u001b[39;00m origin[\u001b[39m\"\u001b[39m\u001b[39melements\u001b[39m\u001b[39m\"\u001b[39m]]\n\u001b[0;32m    528\u001b[0m     \u001b[39mfor\u001b[39;00m origin \u001b[39min\u001b[39;00m response[\u001b[39m\"\u001b[39m\u001b[39mrows\u001b[39m\u001b[39m\"\u001b[39m]\n\u001b[0;32m    529\u001b[0m ]\n\u001b[0;32m    531\u001b[0m \u001b[39mreturn\u001b[39;00m Matrix(durations, distances, response)\n",
      "File \u001b[1;32m~\\AppData\\Roaming\\Python\\Python310\\site-packages\\routingpy\\routers\\google.py:523\u001b[0m, in \u001b[0;36m<listcomp>\u001b[1;34m(.0)\u001b[0m\n\u001b[0;32m    519\u001b[0m \u001b[39mif\u001b[39;00m response \u001b[39mis\u001b[39;00m \u001b[39mNone\u001b[39;00m:  \u001b[39m# pragma: no cover\u001b[39;00m\n\u001b[0;32m    520\u001b[0m     \u001b[39mreturn\u001b[39;00m Matrix()\n\u001b[0;32m    522\u001b[0m durations \u001b[39m=\u001b[39m [\n\u001b[1;32m--> 523\u001b[0m     [destination[\u001b[39m\"\u001b[39;49m\u001b[39mduration\u001b[39;49m\u001b[39m\"\u001b[39;49m][\u001b[39m\"\u001b[39m\u001b[39mvalue\u001b[39m\u001b[39m\"\u001b[39m] \u001b[39mfor\u001b[39;00m destination \u001b[39min\u001b[39;00m origin[\u001b[39m\"\u001b[39m\u001b[39melements\u001b[39m\u001b[39m\"\u001b[39m]]\n\u001b[0;32m    524\u001b[0m     \u001b[39mfor\u001b[39;00m origin \u001b[39min\u001b[39;00m response[\u001b[39m\"\u001b[39m\u001b[39mrows\u001b[39m\u001b[39m\"\u001b[39m]\n\u001b[0;32m    525\u001b[0m ]\n\u001b[0;32m    526\u001b[0m distances \u001b[39m=\u001b[39m [\n\u001b[0;32m    527\u001b[0m     [destination[\u001b[39m\"\u001b[39m\u001b[39mdistance\u001b[39m\u001b[39m\"\u001b[39m][\u001b[39m\"\u001b[39m\u001b[39mvalue\u001b[39m\u001b[39m\"\u001b[39m] \u001b[39mfor\u001b[39;00m destination \u001b[39min\u001b[39;00m origin[\u001b[39m\"\u001b[39m\u001b[39melements\u001b[39m\u001b[39m\"\u001b[39m]]\n\u001b[0;32m    528\u001b[0m     \u001b[39mfor\u001b[39;00m origin \u001b[39min\u001b[39;00m response[\u001b[39m\"\u001b[39m\u001b[39mrows\u001b[39m\u001b[39m\"\u001b[39m]\n\u001b[0;32m    529\u001b[0m ]\n\u001b[0;32m    531\u001b[0m \u001b[39mreturn\u001b[39;00m Matrix(durations, distances, response)\n",
      "\u001b[1;31mKeyError\u001b[0m: 'duration'"
     ]
    }
   ],
   "source": [
    "#Seems to be broken for transit so we can't use routingpy\n",
    "searchTransit = router.matrix(locations = [[103.771890, 1.306250], [103.763055, 1.315809]], profile='transit', transit_mode=['bus','subway'], region='sg', units='metric' )"
   ]
  },
  {
   "cell_type": "code",
   "execution_count": 44,
   "metadata": {},
   "outputs": [
    {
     "name": "stdout",
     "output_type": "stream",
     "text": [
      "Matrix([[0, 484], [490, 0]], [[0, 2106], [2571, 0]])\n"
     ]
    }
   ],
   "source": [
    "search.durations[1]\n",
    "print(search)"
   ]
  },
  {
   "cell_type": "markdown",
   "metadata": {},
   "source": [
    "### Using GoogleMaps Library"
   ]
  },
  {
   "cell_type": "code",
   "execution_count": 56,
   "metadata": {},
   "outputs": [],
   "source": [
    "YNC = (1.306250, 103.771890)\n",
    "ClemPriSchool = (1.315809, 103.763055)\n",
    "\n",
    "gmaps = googlemaps.Client(key=KEY)\n",
    "\n",
    "# Geocoding an address\n",
    "geocode_result = gmaps.geocode('1600 Amphitheatre Parkway, Mountain View, CA')\n",
    "\n",
    "# Look up an address with reverse geocoding\n",
    "reverse_geocode_result = gmaps.reverse_geocode((40.714224, -73.961452))\n",
    "\n",
    "# Request directions via public transit\n",
    "now = datetime.now()\n",
    "directions_result = gmaps.distance_matrix(origins = \"16 College Avenue West, Singapore\",\n",
    "                                     destinations = \"133 Clarence Lane, Singapore\",\n",
    "                                     mode=\"transit\",\n",
    "                                     departure_time=now)"
   ]
  },
  {
   "cell_type": "code",
   "execution_count": 126,
   "metadata": {},
   "outputs": [],
   "source": [
    "schools[\"latlong\"] = tuple(zip(schools.LATITUDE, schools.LONGITUDE))\n",
    "allschools = list(schools.latlong)\n",
    "allschoolsFirst20 = allschools[0:20]"
   ]
  },
  {
   "cell_type": "code",
   "execution_count": 85,
   "metadata": {},
   "outputs": [
    {
     "name": "stdout",
     "output_type": "stream",
     "text": [
      "{'destination_addresses': ['8 Clementi Ave 3, Singapore 129903', '15 Clementi Ave 5, Singapore 129857'], 'origin_addresses': ['10 College Ave West, Singapore'], 'rows': [{'elements': [{'distance': {'text': '2.5 km', 'value': 2503}, 'duration': {'text': '17 mins', 'value': 1031}, 'status': 'OK'}, {'distance': {'text': '2.5 km', 'value': 2513}, 'duration': {'text': '18 mins', 'value': 1065}, 'status': 'OK'}]}], 'status': 'OK'}\n"
     ]
    }
   ],
   "source": [
    "now = datetime.now()\n",
    "directions_result = gmaps.distance_matrix(origins = [(1.306250, 103.771890)],\n",
    "                                     destinations = [(1.315809, 103.763055), (1.316148, 103.767576)],\n",
    "                                     mode=\"transit\",\n",
    "                                     departure_time=now)\n",
    "print(directions_result)"
   ]
  },
  {
   "cell_type": "code",
   "execution_count": 128,
   "metadata": {},
   "outputs": [
    {
     "name": "stdout",
     "output_type": "stream",
     "text": [
      "{'destination_addresses': ['Princess Elizabeth Primary School, 30 Bukit Batok West Avenue 3 (S)659163, Singapore 659163', '2 Woodlands Drive 14, Singapore 738079', '51 Coronation Rd, Singapore 269460', \"52 King's Rd, Singapore 268097\", '70 Punggol Dr., Waterway Primary School, Singapore 828802', '2A Prince Charles Cres, Singapore 159016', '80 Bartley Rd, Singapore 539786', '25 Mount Vernon Rd, Singapore 368051', '18 Bukit Batok Street 21, Singapore 659634', '11 Woodlands Ring Rd, Singapore 738240', '2 Bukit Batok Street 52, Singapore 659243', '2 Yishun Street 71, Singapore 768515', '71 Anchorvale Link, Singapore 544799', '10 Bishan Street 13, Singapore 579795', '8 Bishan Street 13, Singapore 579793', '10 Yishun Street 11, Singapore 768643', '4 Chestnut Dr, Singapore 679287', '2 Farrer Park Rd, Singapore 217567', '10 Seraya Rd, Singapore 437259', '1.32434093,103.9391298'], 'origin_addresses': ['10 College Ave West, Singapore'], 'rows': [{'elements': [{'distance': {'text': '8.2 km', 'value': 8233}, 'duration': {'text': '50 mins', 'value': 2983}, 'status': 'OK'}, {'distance': {'text': '22.2 km', 'value': 22169}, 'duration': {'text': '1 hour 15 mins', 'value': 4511}, 'status': 'OK'}, {'distance': {'text': '8.7 km', 'value': 8695}, 'duration': {'text': '38 mins', 'value': 2273}, 'status': 'OK'}, {'distance': {'text': '8.5 km', 'value': 8456}, 'duration': {'text': '35 mins', 'value': 2095}, 'status': 'OK'}, {'distance': {'text': '30.4 km', 'value': 30388}, 'duration': {'text': '1 hour 36 mins', 'value': 5775}, 'status': 'OK'}, {'distance': {'text': '8.3 km', 'value': 8284}, 'duration': {'text': '35 mins', 'value': 2089}, 'status': 'OK'}, {'distance': {'text': '18.1 km', 'value': 18117}, 'duration': {'text': '51 mins', 'value': 3087}, 'status': 'OK'}, {'distance': {'text': '18.1 km', 'value': 18060}, 'duration': {'text': '52 mins', 'value': 3094}, 'status': 'OK'}, {'distance': {'text': '6.7 km', 'value': 6700}, 'duration': {'text': '28 mins', 'value': 1706}, 'status': 'OK'}, {'distance': {'text': '23.8 km', 'value': 23771}, 'duration': {'text': '1 hour 15 mins', 'value': 4491}, 'status': 'OK'}, {'distance': {'text': '7.5 km', 'value': 7475}, 'duration': {'text': '35 mins', 'value': 2125}, 'status': 'OK'}, {'distance': {'text': '24.6 km', 'value': 24615}, 'duration': {'text': '1 hour 7 mins', 'value': 4020}, 'status': 'OK'}, {'distance': {'text': '26.9 km', 'value': 26895}, 'duration': {'text': '1 hour 26 mins', 'value': 5140}, 'status': 'OK'}, {'distance': {'text': '14.4 km', 'value': 14361}, 'duration': {'text': '46 mins', 'value': 2774}, 'status': 'OK'}, {'distance': {'text': '14.5 km', 'value': 14496}, 'duration': {'text': '48 mins', 'value': 2868}, 'status': 'OK'}, {'distance': {'text': '24.8 km', 'value': 24762}, 'duration': {'text': '1 hour 9 mins', 'value': 4127}, 'status': 'OK'}, {'distance': {'text': '9.8 km', 'value': 9783}, 'duration': {'text': '40 mins', 'value': 2397}, 'status': 'OK'}, {'distance': {'text': '16.0 km', 'value': 16020}, 'duration': {'text': '1 hour 3 mins', 'value': 3791}, 'status': 'OK'}, {'distance': {'text': '22.0 km', 'value': 21984}, 'duration': {'text': '1 hour 20 mins', 'value': 4779}, 'status': 'OK'}, {'status': 'ZERO_RESULTS'}]}], 'status': 'OK'}\n"
     ]
    }
   ],
   "source": [
    "#Measuring YNC accessibility to all schools\n",
    "directions_result = gmaps.distance_matrix(origins = [(1.306250, 103.771890)],\n",
    "                                     destinations = allschoolsFirst20,\n",
    "                                     mode=\"transit\",\n",
    "                                     departure_time=now)\n",
    "print(directions_result)"
   ]
  },
  {
   "cell_type": "code",
   "execution_count": 146,
   "metadata": {},
   "outputs": [
    {
     "name": "stdout",
     "output_type": "stream",
     "text": [
      "53.44min\n"
     ]
    }
   ],
   "source": [
    "#Getting accessibility score\n",
    "len(directions_result[\"rows\"][0][\"elements\"])\n",
    "\n",
    "def accessScore(ans):\n",
    "    sum = 0\n",
    "    for i in range(len(ans[\"rows\"][0][\"elements\"])-1):\n",
    "        sum += ans[\"rows\"][0][\"elements\"][i]['duration']['value']\n",
    "    print(str(round(sum/len(ans[\"rows\"][0][\"elements\"])/60, 2))+'min')\n",
    "\n",
    "accessScore(directions_result)"
   ]
  },
  {
   "cell_type": "code",
   "execution_count": 147,
   "metadata": {},
   "outputs": [],
   "source": [
    "smu_result = gmaps.distance_matrix(origins = \"Singapore Management University, Singapore\",\n",
    "                                     destinations = allschoolsFirst20,\n",
    "                                     mode=\"transit\",\n",
    "                                     departure_time=now)"
   ]
  },
  {
   "cell_type": "code",
   "execution_count": 148,
   "metadata": {},
   "outputs": [
    {
     "name": "stdout",
     "output_type": "stream",
     "text": [
      "43.52min\n"
     ]
    }
   ],
   "source": [
    "accessScore(smu_result)"
   ]
  },
  {
   "cell_type": "code",
   "execution_count": 150,
   "metadata": {},
   "outputs": [
    {
     "name": "stdout",
     "output_type": "stream",
     "text": [
      "43.55min\n"
     ]
    }
   ],
   "source": [
    "def AccessScorer(start, amenity):\n",
    "    result = gmaps.distance_matrix(start,\n",
    "                                     destinations = amenity,\n",
    "                                     mode=\"transit\",\n",
    "                                     departure_time=now)\n",
    "    sum = 0\n",
    "    for i in range(len(result[\"rows\"][0][\"elements\"])-1):\n",
    "        sum += result[\"rows\"][0][\"elements\"][i]['duration']['value']\n",
    "    print(str(round(sum/len(result[\"rows\"][0][\"elements\"])/60, 2))+'min')\n",
    "\n",
    "AccessScorer(\"Singapore Mangament University, Singapore\", allschoolsFirst20)"
   ]
  },
  {
   "cell_type": "code",
   "execution_count": 109,
   "metadata": {},
   "outputs": [
    {
     "data": {
      "text/html": [
       "<div>\n",
       "<style scoped>\n",
       "    .dataframe tbody tr th:only-of-type {\n",
       "        vertical-align: middle;\n",
       "    }\n",
       "\n",
       "    .dataframe tbody tr th {\n",
       "        vertical-align: top;\n",
       "    }\n",
       "\n",
       "    .dataframe thead th {\n",
       "        text-align: right;\n",
       "    }\n",
       "</style>\n",
       "<table border=\"1\" class=\"dataframe\">\n",
       "  <thead>\n",
       "    <tr style=\"text-align: right;\">\n",
       "      <th></th>\n",
       "      <th>destination_addresses</th>\n",
       "      <th>origin_addresses</th>\n",
       "      <th>rows</th>\n",
       "      <th>status</th>\n",
       "    </tr>\n",
       "  </thead>\n",
       "  <tbody>\n",
       "    <tr>\n",
       "      <th>0</th>\n",
       "      <td>[8 Clementi Ave 3, Singapore 129903, 15 Clemen...</td>\n",
       "      <td>[10 College Ave West, Singapore]</td>\n",
       "      <td>[{'elements': [{'distance': {'text': '2.5 km',...</td>\n",
       "      <td>OK</td>\n",
       "    </tr>\n",
       "  </tbody>\n",
       "</table>\n",
       "</div>"
      ],
      "text/plain": [
       "                               destination_addresses  \\\n",
       "0  [8 Clementi Ave 3, Singapore 129903, 15 Clemen...   \n",
       "\n",
       "                   origin_addresses  \\\n",
       "0  [10 College Ave West, Singapore]   \n",
       "\n",
       "                                                rows status  \n",
       "0  [{'elements': [{'distance': {'text': '2.5 km',...     OK  "
      ]
     },
     "execution_count": 109,
     "metadata": {},
     "output_type": "execute_result"
    }
   ],
   "source": [
    "directions_result[\"rows\"][0][\"elements\"][1]\n",
    "pdjson = pd.json_normalize(directions_result)\n",
    "pdjson"
   ]
  },
  {
   "cell_type": "code",
   "execution_count": 63,
   "metadata": {},
   "outputs": [
    {
     "name": "stdout",
     "output_type": "stream",
     "text": [
      "[{'address_components': [{'long_name': '16', 'short_name': '16', 'types': ['street_number']}, {'long_name': 'College Avenue West', 'short_name': 'College Ave West', 'types': ['route']}, {'long_name': 'Queenstown', 'short_name': 'Queenstown', 'types': ['neighborhood', 'political']}, {'long_name': 'Singapore', 'short_name': 'Singapore', 'types': ['locality', 'political']}, {'long_name': 'Singapore', 'short_name': 'SG', 'types': ['country', 'political']}], 'formatted_address': '16 College Ave West, Singapore', 'geometry': {'location': {'lat': 1.3077589, 'lng': 103.7721908}, 'location_type': 'ROOFTOP', 'viewport': {'northeast': {'lat': 1.308607630291502, 'lng': 103.7733037302915}, 'southwest': {'lat': 1.305909669708498, 'lng': 103.7706057697085}}}, 'place_id': 'ChIJ7-dK-PQa2jERVTxXIZWqbxU', 'plus_code': {'compound_code': '8Q5C+4V Singapore', 'global_code': '6PH58Q5C+4V'}, 'types': ['street_address']}]\n"
     ]
    }
   ],
   "source": [
    "test = gmaps.geocode(\"16 College Avenue West, Singapore\")\n",
    "print(test)"
   ]
  },
  {
   "cell_type": "code",
   "execution_count": 68,
   "metadata": {},
   "outputs": [],
   "source": [
    "test = pd.DataFrame(test)"
   ]
  },
  {
   "cell_type": "code",
   "execution_count": 78,
   "metadata": {},
   "outputs": [
    {
     "data": {
      "text/plain": [
       "0    {'location': {'lat': 1.3077589, 'lng': 103.772...\n",
       "Name: geometry, dtype: object"
      ]
     },
     "execution_count": 78,
     "metadata": {},
     "output_type": "execute_result"
    }
   ],
   "source": [
    "test.columns\n",
    "test.geometry"
   ]
  },
  {
   "cell_type": "code",
   "execution_count": 21,
   "metadata": {},
   "outputs": [
    {
     "data": {
      "text/plain": [
       "282    POLYGON ((19097.664 41203.632, 19100.357 41203...\n",
       "283    POLYGON ((18569.141 40067.008, 18997.336 39876...\n",
       "284    POLYGON ((19044.893 42741.955, 19044.597 42741...\n",
       "285    POLYGON ((19097.664 41203.632, 19079.502 41208...\n",
       "286    POLYGON ((19079.502 41208.068, 19083.066 41183...\n",
       "287    POLYGON ((18443.314 42028.961, 18427.736 41985...\n",
       "288    POLYGON ((17985.936 40383.451, 17967.919 40371...\n",
       "Name: geometry, dtype: geometry"
      ]
     },
     "execution_count": 21,
     "metadata": {},
     "output_type": "execute_result"
    }
   ],
   "source": [
    "poly = gpd.read_file(r'Data Sources\\1_data\\subzone-census-2010\\Subzone_Census2010.shp')\n",
    "CCK_geo = poly.loc[poly['PLN_AREA_N'] == 'CHOA CHU KANG', 'geometry']\n",
    "CCK_geo"
   ]
  },
  {
   "cell_type": "code",
   "execution_count": 7,
   "metadata": {},
   "outputs": [
    {
     "data": {
      "text/plain": [
       "282    POLYGON ((19097.664 41203.632, 19100.357 41203...\n",
       "283    POLYGON ((18569.141 40067.008, 18997.336 39876...\n",
       "284    POLYGON ((19044.893 42741.955, 19044.597 42741...\n",
       "285    POLYGON ((19097.664 41203.632, 19079.502 41208...\n",
       "286    POLYGON ((19079.502 41208.068, 19083.066 41183...\n",
       "287    POLYGON ((18443.314 42028.961, 18427.736 41985...\n",
       "288    POLYGON ((17985.936 40383.451, 17967.919 40371...\n",
       "Name: geometry, dtype: geometry"
      ]
     },
     "execution_count": 7,
     "metadata": {},
     "output_type": "execute_result"
    }
   ],
   "source": [
    "df = subzones = gpd.read_file('Generated Files/subzones_featurecount.shp')\n",
    "\n",
    "dfcck = df.loc[df['PLN_AREA_N'] == 'CHOA CHU KANG', 'geometry']\n",
    "dfcck\n",
    "\n"
   ]
  },
  {
   "cell_type": "code",
   "execution_count": 22,
   "metadata": {},
   "outputs": [
    {
     "name": "stdout",
     "output_type": "stream",
     "text": [
      "35\n",
      "5072\n",
      "125\n",
      "159\n",
      "352\n",
      "181\n",
      "311\n"
     ]
    }
   ],
   "source": [
    "print(len(activesg))\n",
    "print(len(bus_stops))\n",
    "print(len(hawkercentres))\n",
    "print(len(malls))\n",
    "print(len(parks))\n",
    "print(len(schools))\n",
    "print(len(df))\n"
   ]
  },
  {
   "cell_type": "code",
   "execution_count": 12,
   "metadata": {},
   "outputs": [
    {
     "data": {
      "text/html": [
       "<div>\n",
       "<style scoped>\n",
       "    .dataframe tbody tr th:only-of-type {\n",
       "        vertical-align: middle;\n",
       "    }\n",
       "\n",
       "    .dataframe tbody tr th {\n",
       "        vertical-align: top;\n",
       "    }\n",
       "\n",
       "    .dataframe thead th {\n",
       "        text-align: right;\n",
       "    }\n",
       "</style>\n",
       "<table border=\"1\" class=\"dataframe\">\n",
       "  <thead>\n",
       "    <tr style=\"text-align: right;\">\n",
       "      <th></th>\n",
       "      <th>LANDXADDRE</th>\n",
       "      <th>LANDYADDRE</th>\n",
       "      <th>NAME</th>\n",
       "      <th>DESCRIPTIO</th>\n",
       "      <th>INC_CRC</th>\n",
       "      <th>FMEL_UPD_D</th>\n",
       "      <th>geometry</th>\n",
       "    </tr>\n",
       "  </thead>\n",
       "  <tbody>\n",
       "    <tr>\n",
       "      <th>0</th>\n",
       "      <td>20449.4258</td>\n",
       "      <td>36630.1900</td>\n",
       "      <td>Bukit Batok Nature Park</td>\n",
       "      <td>Along Bukit Batok East Avenue 2 and Bukit Bato...</td>\n",
       "      <td>687BC3283CECEB71</td>\n",
       "      <td>2021/01/22</td>\n",
       "      <td>POINT (20449.426 36630.190)</td>\n",
       "    </tr>\n",
       "    <tr>\n",
       "      <th>1</th>\n",
       "      <td>21882.5449</td>\n",
       "      <td>38885.2200</td>\n",
       "      <td>Zhenghua Nature Park</td>\n",
       "      <td>Bounded by Bt Timah Expressway (BKE), BKE Slip...</td>\n",
       "      <td>E879D84E9F03FC10</td>\n",
       "      <td>2021/01/22</td>\n",
       "      <td>POINT (21882.545 38885.220)</td>\n",
       "    </tr>\n",
       "    <tr>\n",
       "      <th>2</th>\n",
       "      <td>21388.3000</td>\n",
       "      <td>38307.4766</td>\n",
       "      <td>Dairy Farm Nature Park</td>\n",
       "      <td>Along Dairy Farm Road</td>\n",
       "      <td>D2E81816E37D78B7</td>\n",
       "      <td>2021/01/22</td>\n",
       "      <td>POINT (21388.300 38307.477)</td>\n",
       "    </tr>\n",
       "    <tr>\n",
       "      <th>3</th>\n",
       "      <td>16630.9316</td>\n",
       "      <td>35360.1055</td>\n",
       "      <td>Jurong Lake Gardens</td>\n",
       "      <td>Along Yuan Ching Road and Boon Lay Way</td>\n",
       "      <td>DB390E82DD9B7A6F</td>\n",
       "      <td>2021/01/22</td>\n",
       "      <td>POINT (16630.932 35360.105)</td>\n",
       "    </tr>\n",
       "    <tr>\n",
       "      <th>4</th>\n",
       "      <td>29376.9434</td>\n",
       "      <td>30516.8457</td>\n",
       "      <td>The Foothills Fort Canning Park</td>\n",
       "      <td>Along River Valley Road, opposite Liang Court</td>\n",
       "      <td>99BE2CEDB1A1BFA8</td>\n",
       "      <td>2020/02/18</td>\n",
       "      <td>POINT (29376.943 30516.846)</td>\n",
       "    </tr>\n",
       "  </tbody>\n",
       "</table>\n",
       "</div>"
      ],
      "text/plain": [
       "   LANDXADDRE  LANDYADDRE                             NAME  \\\n",
       "0  20449.4258  36630.1900          Bukit Batok Nature Park   \n",
       "1  21882.5449  38885.2200             Zhenghua Nature Park   \n",
       "2  21388.3000  38307.4766           Dairy Farm Nature Park   \n",
       "3  16630.9316  35360.1055              Jurong Lake Gardens   \n",
       "4  29376.9434  30516.8457  The Foothills Fort Canning Park   \n",
       "\n",
       "                                          DESCRIPTIO           INC_CRC  \\\n",
       "0  Along Bukit Batok East Avenue 2 and Bukit Bato...  687BC3283CECEB71   \n",
       "1  Bounded by Bt Timah Expressway (BKE), BKE Slip...  E879D84E9F03FC10   \n",
       "2                              Along Dairy Farm Road  D2E81816E37D78B7   \n",
       "3             Along Yuan Ching Road and Boon Lay Way  DB390E82DD9B7A6F   \n",
       "4      Along River Valley Road, opposite Liang Court  99BE2CEDB1A1BFA8   \n",
       "\n",
       "   FMEL_UPD_D                     geometry  \n",
       "0  2021/01/22  POINT (20449.426 36630.190)  \n",
       "1  2021/01/22  POINT (21882.545 38885.220)  \n",
       "2  2021/01/22  POINT (21388.300 38307.477)  \n",
       "3  2021/01/22  POINT (16630.932 35360.105)  \n",
       "4  2020/02/18  POINT (29376.943 30516.846)  "
      ]
     },
     "execution_count": 12,
     "metadata": {},
     "output_type": "execute_result"
    }
   ],
   "source": [
    "parks.head()"
   ]
  },
  {
   "cell_type": "code",
   "execution_count": 47,
   "metadata": {},
   "outputs": [
    {
     "name": "stderr",
     "output_type": "stream",
     "text": [
      "C:\\Users\\seanm\\AppData\\Roaming\\Python\\Python310\\site-packages\\pyproj\\crs\\crs.py:141: FutureWarning: '+init=<authority>:<code>' syntax is deprecated. '<authority>:<code>' is the preferred initialization method. When making the change, be mindful of axis order changes: https://pyproj4.github.io/pyproj/stable/gotchas.html#axis-order-changes-in-proj-6\n",
      "  in_crs_string = _prepare_from_proj_string(in_crs_string)\n"
     ]
    },
    {
     "data": {
      "text/html": [
       "<div style=\"width:100%;\"><div style=\"position:relative;width:100%;height:0;padding-bottom:60%;\"><span style=\"color:#565656\">Make this Notebook Trusted to load map: File -> Trust Notebook</span><iframe srcdoc=\"&lt;!DOCTYPE html&gt;\n",
       "&lt;head&gt;    \n",
       "    &lt;meta http-equiv=&quot;content-type&quot; content=&quot;text/html; charset=UTF-8&quot; /&gt;\n",
       "    \n",
       "        &lt;script&gt;\n",
       "            L_NO_TOUCH = false;\n",
       "            L_DISABLE_3D = false;\n",
       "        &lt;/script&gt;\n",
       "    \n",
       "    &lt;style&gt;html, body {width: 100%;height: 100%;margin: 0;padding: 0;}&lt;/style&gt;\n",
       "    &lt;style&gt;#map {position:absolute;top:0;bottom:0;right:0;left:0;}&lt;/style&gt;\n",
       "    &lt;script src=&quot;https://cdn.jsdelivr.net/npm/leaflet@1.6.0/dist/leaflet.js&quot;&gt;&lt;/script&gt;\n",
       "    &lt;script src=&quot;https://code.jquery.com/jquery-1.12.4.min.js&quot;&gt;&lt;/script&gt;\n",
       "    &lt;script src=&quot;https://maxcdn.bootstrapcdn.com/bootstrap/3.2.0/js/bootstrap.min.js&quot;&gt;&lt;/script&gt;\n",
       "    &lt;script src=&quot;https://cdnjs.cloudflare.com/ajax/libs/Leaflet.awesome-markers/2.0.2/leaflet.awesome-markers.js&quot;&gt;&lt;/script&gt;\n",
       "    &lt;link rel=&quot;stylesheet&quot; href=&quot;https://cdn.jsdelivr.net/npm/leaflet@1.6.0/dist/leaflet.css&quot;/&gt;\n",
       "    &lt;link rel=&quot;stylesheet&quot; href=&quot;https://maxcdn.bootstrapcdn.com/bootstrap/3.2.0/css/bootstrap.min.css&quot;/&gt;\n",
       "    &lt;link rel=&quot;stylesheet&quot; href=&quot;https://maxcdn.bootstrapcdn.com/bootstrap/3.2.0/css/bootstrap-theme.min.css&quot;/&gt;\n",
       "    &lt;link rel=&quot;stylesheet&quot; href=&quot;https://maxcdn.bootstrapcdn.com/font-awesome/4.6.3/css/font-awesome.min.css&quot;/&gt;\n",
       "    &lt;link rel=&quot;stylesheet&quot; href=&quot;https://cdnjs.cloudflare.com/ajax/libs/Leaflet.awesome-markers/2.0.2/leaflet.awesome-markers.css&quot;/&gt;\n",
       "    &lt;link rel=&quot;stylesheet&quot; href=&quot;https://cdn.jsdelivr.net/gh/python-visualization/folium/folium/templates/leaflet.awesome.rotate.min.css&quot;/&gt;\n",
       "    \n",
       "            &lt;meta name=&quot;viewport&quot; content=&quot;width=device-width,\n",
       "                initial-scale=1.0, maximum-scale=1.0, user-scalable=no&quot; /&gt;\n",
       "            &lt;style&gt;\n",
       "                #map_260b510fc434c47270ac0cd8cc212ec0 {\n",
       "                    position: relative;\n",
       "                    width: 100.0%;\n",
       "                    height: 100.0%;\n",
       "                    left: 0.0%;\n",
       "                    top: 0.0%;\n",
       "                }\n",
       "            &lt;/style&gt;\n",
       "        \n",
       "&lt;/head&gt;\n",
       "&lt;body&gt;    \n",
       "    \n",
       "            &lt;div class=&quot;folium-map&quot; id=&quot;map_260b510fc434c47270ac0cd8cc212ec0&quot; &gt;&lt;/div&gt;\n",
       "        \n",
       "&lt;/body&gt;\n",
       "&lt;script&gt;    \n",
       "    \n",
       "            var map_260b510fc434c47270ac0cd8cc212ec0 = L.map(\n",
       "                &quot;map_260b510fc434c47270ac0cd8cc212ec0&quot;,\n",
       "                {\n",
       "                    center: [1.3288942506535633, 103.82865884270912],\n",
       "                    crs: L.CRS.EPSG3857,\n",
       "                    zoom: 10,\n",
       "                    zoomControl: true,\n",
       "                    preferCanvas: false,\n",
       "                }\n",
       "            );\n",
       "            L.control.scale().addTo(map_260b510fc434c47270ac0cd8cc212ec0);\n",
       "\n",
       "            \n",
       "\n",
       "        \n",
       "    \n",
       "            var tile_layer_cc8a16876c4e2a65cadd47288901bbbd = L.tileLayer(\n",
       "                &quot;https://{s}.tile.openstreetmap.org/{z}/{x}/{y}.png&quot;,\n",
       "                {&quot;attribution&quot;: &quot;Data by \\u0026copy; \\u003ca href=\\&quot;http://openstreetmap.org\\&quot;\\u003eOpenStreetMap\\u003c/a\\u003e, under \\u003ca href=\\&quot;http://www.openstreetmap.org/copyright\\&quot;\\u003eODbL\\u003c/a\\u003e.&quot;, &quot;detectRetina&quot;: false, &quot;maxNativeZoom&quot;: 18, &quot;maxZoom&quot;: 18, &quot;minZoom&quot;: 0, &quot;noWrap&quot;: false, &quot;opacity&quot;: 1, &quot;subdomains&quot;: &quot;abc&quot;, &quot;tms&quot;: false}\n",
       "            ).addTo(map_260b510fc434c47270ac0cd8cc212ec0);\n",
       "        \n",
       "    \n",
       "            map_260b510fc434c47270ac0cd8cc212ec0.fitBounds(\n",
       "                [[1.1933757703266503, 103.62249392806297], [1.4644127309804764, 104.03482375735527]],\n",
       "                {}\n",
       "            );\n",
       "        \n",
       "    \n",
       "        function geo_json_7f3b71b8de0965a2059a32d5e93698a1_styler(feature) {\n",
       "            switch(feature.id) {\n",
       "                default:\n",
       "                    return {&quot;fillOpacity&quot;: 0.5, &quot;weight&quot;: 2};\n",
       "            }\n",
       "        }\n",
       "        function geo_json_7f3b71b8de0965a2059a32d5e93698a1_highlighter(feature) {\n",
       "            switch(feature.id) {\n",
       "                default:\n",
       "                    return {&quot;fillOpacity&quot;: 0.75};\n",
       "            }\n",
       "        }\n",
       "        function geo_json_7f3b71b8de0965a2059a32d5e93698a1_pointToLayer(feature, latlng) {\n",
       "            var opts = {&quot;bubblingMouseEvents&quot;: true, &quot;color&quot;: &quot;#3388ff&quot;, &quot;dashArray&quot;: null, &quot;dashOffset&quot;: null, &quot;fill&quot;: true, &quot;fillColor&quot;: &quot;#3388ff&quot;, &quot;fillOpacity&quot;: 0.2, &quot;fillRule&quot;: &quot;evenodd&quot;, &quot;lineCap&quot;: &quot;round&quot;, &quot;lineJoin&quot;: &quot;round&quot;, &quot;opacity&quot;: 1.0, &quot;radius&quot;: 2, &quot;stroke&quot;: true, &quot;weight&quot;: 3};\n",
       "            \n",
       "            let style = geo_json_7f3b71b8de0965a2059a32d5e93698a1_styler(feature)\n",
       "            Object.assign(opts, style)\n",
       "            \n",
       "            return new L.CircleMarker(latlng, opts)\n",
       "        }\n",
       "\n",
       "        function geo_json_7f3b71b8de0965a2059a32d5e93698a1_onEachFeature(feature, layer) {\n",
       "            layer.on({\n",
       "                mouseout: function(e) {\n",
       "                    if(typeof e.target.setStyle === &quot;function&quot;){\n",
       "                        geo_json_7f3b71b8de0965a2059a32d5e93698a1.resetStyle(e.target);\n",
       "                    }\n",
       "                },\n",
       "                mouseover: function(e) {\n",
       "                    if(typeof e.target.setStyle === &quot;function&quot;){\n",
       "                        const highlightStyle = geo_json_7f3b71b8de0965a2059a32d5e93698a1_highlighter(e.target.feature)\n",
       "                        e.target.setStyle(highlightStyle);\n",
       "                    }\n",
       "                },\n",
       "            });\n",
       "        };\n",
       "        var geo_json_7f3b71b8de0965a2059a32d5e93698a1 = L.geoJson(null, {\n",
       "                onEachFeature: geo_json_7f3b71b8de0965a2059a32d5e93698a1_onEachFeature,\n",
       "            \n",
       "                style: geo_json_7f3b71b8de0965a2059a32d5e93698a1_styler,\n",
       "                pointToLayer: geo_json_7f3b71b8de0965a2059a32d5e93698a1_pointToLayer\n",
       "        });\n",
       "\n",
       "        function geo_json_7f3b71b8de0965a2059a32d5e93698a1_add (data) {\n",
       "            geo_json_7f3b71b8de0965a2059a32d5e93698a1\n",
       "                .addData(data)\n",
       "                .addTo(map_260b510fc434c47270ac0cd8cc212ec0);\n",
       "        }\n",
       "            geo_json_7f3b71b8de0965a2059a32d5e93698a1_add({&quot;bbox&quot;: [103.62249392806297, 1.1933757703266503, 104.03482375735527, 1.4644127309804764], &quot;features&quot;: [{&quot;bbox&quot;: [103.84582666478435, 1.2794151599189476, 103.84582666478435, 1.2794151599189476], &quot;geometry&quot;: {&quot;coordinates&quot;: [103.84582666478435, 1.2794151599189476], &quot;type&quot;: &quot;Point&quot;}, &quot;id&quot;: &quot;0&quot;, &quot;properties&quot;: {}, &quot;type&quot;: &quot;Feature&quot;}, {&quot;bbox&quot;: [103.82579662684401, 1.3048186157857447, 103.82579662684401, 1.3048186157857447], &quot;geometry&quot;: {&quot;coordinates&quot;: [103.82579662684401, 1.3048186157857447], &quot;type&quot;: &quot;Point&quot;}, &quot;id&quot;: &quot;1&quot;, &quot;properties&quot;: {}, &quot;type&quot;: &quot;Feature&quot;}, {&quot;bbox&quot;: [103.83257213097367, 1.3053727671966475, 103.83257213097367, 1.3053727671966475], &quot;geometry&quot;: {&quot;coordinates&quot;: [103.83257213097367, 1.3053727671966475], &quot;type&quot;: &quot;Point&quot;}, &quot;id&quot;: &quot;2&quot;, &quot;properties&quot;: {}, &quot;type&quot;: &quot;Feature&quot;}, {&quot;bbox&quot;: [103.8389485151591, 1.301103240051437, 103.8389485151591, 1.301103240051437], &quot;geometry&quot;: {&quot;coordinates&quot;: [103.8389485151591, 1.301103240051437], &quot;type&quot;: &quot;Point&quot;}, &quot;id&quot;: &quot;3&quot;, &quot;properties&quot;: {}, &quot;type&quot;: &quot;Feature&quot;}, {&quot;bbox&quot;: [103.9479387224605, 1.3720645081472438, 103.9479387224605, 1.3720645081472438], &quot;geometry&quot;: {&quot;coordinates&quot;: [103.9479387224605, 1.3720645081472438], &quot;type&quot;: &quot;Point&quot;}, &quot;id&quot;: &quot;4&quot;, &quot;properties&quot;: {}, &quot;type&quot;: &quot;Feature&quot;}, {&quot;bbox&quot;: [103.88520425576283, 1.3273677702333593, 103.88520425576283, 1.3273677702333593], &quot;geometry&quot;: {&quot;coordinates&quot;: [103.88520425576283, 1.3273677702333593], &quot;type&quot;: &quot;Point&quot;}, &quot;id&quot;: &quot;5&quot;, &quot;properties&quot;: {}, &quot;type&quot;: &quot;Feature&quot;}, {&quot;bbox&quot;: [103.89835171884225, 1.3169410135086135, 103.89835171884225, 1.3169410135086135], &quot;geometry&quot;: {&quot;coordinates&quot;: [103.89835171884225, 1.3169410135086135], &quot;type&quot;: &quot;Point&quot;}, &quot;id&quot;: &quot;6&quot;, &quot;properties&quot;: {}, &quot;type&quot;: &quot;Feature&quot;}, {&quot;bbox&quot;: [103.88359652528455, 1.3144269425418387, 103.88359652528455, 1.3144269425418387], &quot;geometry&quot;: {&quot;coordinates&quot;: [103.88359652528455, 1.3144269425418387], &quot;type&quot;: &quot;Point&quot;}, &quot;id&quot;: &quot;7&quot;, &quot;properties&quot;: {}, &quot;type&quot;: &quot;Feature&quot;}, {&quot;bbox&quot;: [103.8761231077188, 1.3257747431919544, 103.8761231077188, 1.3257747431919544], &quot;geometry&quot;: {&quot;coordinates&quot;: [103.8761231077188, 1.3257747431919544], &quot;type&quot;: &quot;Point&quot;}, &quot;id&quot;: &quot;8&quot;, &quot;properties&quot;: {}, &quot;type&quot;: &quot;Feature&quot;}, {&quot;bbox&quot;: [103.89578533016333, 1.3517122910571548, 103.89578533016333, 1.3517122910571548], &quot;geometry&quot;: {&quot;coordinates&quot;: [103.89578533016333, 1.3517122910571548], &quot;type&quot;: &quot;Point&quot;}, &quot;id&quot;: &quot;9&quot;, &quot;properties&quot;: {}, &quot;type&quot;: &quot;Feature&quot;}, {&quot;bbox&quot;: [103.88067853356203, 1.362913991815891, 103.88067853356203, 1.362913991815891], &quot;geometry&quot;: {&quot;coordinates&quot;: [103.88067853356203, 1.362913991815891], &quot;type&quot;: &quot;Point&quot;}, &quot;id&quot;: &quot;10&quot;, &quot;properties&quot;: {}, &quot;type&quot;: &quot;Feature&quot;}, {&quot;bbox&quot;: [103.88663150358084, 1.356838475534669, 103.88663150358084, 1.356838475534669], &quot;geometry&quot;: {&quot;coordinates&quot;: [103.88663150358084, 1.356838475534669], &quot;type&quot;: &quot;Point&quot;}, &quot;id&quot;: &quot;11&quot;, &quot;properties&quot;: {}, &quot;type&quot;: &quot;Feature&quot;}, {&quot;bbox&quot;: [103.88333872895522, 1.3778207005963214, 103.88333872895522, 1.3778207005963214], &quot;geometry&quot;: {&quot;coordinates&quot;: [103.88333872895522, 1.3778207005963214], &quot;type&quot;: &quot;Point&quot;}, &quot;id&quot;: &quot;12&quot;, &quot;properties&quot;: {}, &quot;type&quot;: &quot;Feature&quot;}, {&quot;bbox&quot;: [103.88761475720338, 1.3437760708784183, 103.88761475720338, 1.3437760708784183], &quot;geometry&quot;: {&quot;coordinates&quot;: [103.88761475720338, 1.3437760708784183], &quot;type&quot;: &quot;Point&quot;}, &quot;id&quot;: &quot;13&quot;, &quot;properties&quot;: {}, &quot;type&quot;: &quot;Feature&quot;}, {&quot;bbox&quot;: [103.72879701745356, 1.3194221596242413, 103.72879701745356, 1.3194221596242413], &quot;geometry&quot;: {&quot;coordinates&quot;: [103.72879701745356, 1.3194221596242413], &quot;type&quot;: &quot;Point&quot;}, &quot;id&quot;: &quot;14&quot;, &quot;properties&quot;: {}, &quot;type&quot;: &quot;Feature&quot;}, {&quot;bbox&quot;: [103.73883527910469, 1.340421250473252, 103.73883527910469, 1.340421250473252], &quot;geometry&quot;: {&quot;coordinates&quot;: [103.73883527910469, 1.340421250473252], &quot;type&quot;: &quot;Point&quot;}, &quot;id&quot;: &quot;15&quot;, &quot;properties&quot;: {}, &quot;type&quot;: &quot;Feature&quot;}, {&quot;bbox&quot;: [103.74805476228072, 1.326341972214448, 103.74805476228072, 1.326341972214448], &quot;geometry&quot;: {&quot;coordinates&quot;: [103.74805476228072, 1.326341972214448], &quot;type&quot;: &quot;Point&quot;}, &quot;id&quot;: &quot;16&quot;, &quot;properties&quot;: {}, &quot;type&quot;: &quot;Feature&quot;}, {&quot;bbox&quot;: [103.71876051498705, 1.3073317903890467, 103.71876051498705, 1.3073317903890467], &quot;geometry&quot;: {&quot;coordinates&quot;: [103.71876051498705, 1.3073317903890467], &quot;type&quot;: &quot;Point&quot;}, &quot;id&quot;: &quot;17&quot;, &quot;properties&quot;: {}, &quot;type&quot;: &quot;Feature&quot;}, {&quot;bbox&quot;: [103.74315298003229, 1.3148672505013441, 103.74315298003229, 1.3148672505013441], &quot;geometry&quot;: {&quot;coordinates&quot;: [103.74315298003229, 1.3148672505013441], &quot;type&quot;: &quot;Point&quot;}, &quot;id&quot;: &quot;18&quot;, &quot;properties&quot;: {}, &quot;type&quot;: &quot;Feature&quot;}, {&quot;bbox&quot;: [103.7464968796586, 1.3374807062373215, 103.7464968796586, 1.3374807062373215], &quot;geometry&quot;: {&quot;coordinates&quot;: [103.7464968796586, 1.3374807062373215], &quot;type&quot;: &quot;Point&quot;}, &quot;id&quot;: &quot;19&quot;, &quot;properties&quot;: {}, &quot;type&quot;: &quot;Feature&quot;}, {&quot;bbox&quot;: [103.74252986026164, 1.3327439111572017, 103.74252986026164, 1.3327439111572017], &quot;geometry&quot;: {&quot;coordinates&quot;: [103.74252986026164, 1.3327439111572017], &quot;type&quot;: &quot;Point&quot;}, &quot;id&quot;: &quot;20&quot;, &quot;properties&quot;: {}, &quot;type&quot;: &quot;Feature&quot;}, {&quot;bbox&quot;: [103.73197119993812, 1.3470100202383655, 103.73197119993812, 1.3470100202383655], &quot;geometry&quot;: {&quot;coordinates&quot;: [103.73197119993812, 1.3470100202383655], &quot;type&quot;: &quot;Point&quot;}, &quot;id&quot;: &quot;21&quot;, &quot;properties&quot;: {}, &quot;type&quot;: &quot;Feature&quot;}, {&quot;bbox&quot;: [103.73125207292401, 1.3340929074697527, 103.73125207292401, 1.3340929074697527], &quot;geometry&quot;: {&quot;coordinates&quot;: [103.73125207292401, 1.3340929074697527], &quot;type&quot;: &quot;Point&quot;}, &quot;id&quot;: &quot;22&quot;, &quot;properties&quot;: {}, &quot;type&quot;: &quot;Feature&quot;}, {&quot;bbox&quot;: [103.71319779691206, 1.3349794515823186, 103.71319779691206, 1.3349794515823186], &quot;geometry&quot;: {&quot;coordinates&quot;: [103.71319779691206, 1.3349794515823186], &quot;type&quot;: &quot;Point&quot;}, &quot;id&quot;: &quot;23&quot;, &quot;properties&quot;: {}, &quot;type&quot;: &quot;Feature&quot;}, {&quot;bbox&quot;: [103.68311479511236, 1.3346290036126913, 103.68311479511236, 1.3346290036126913], &quot;geometry&quot;: {&quot;coordinates&quot;: [103.68311479511236, 1.3346290036126913], &quot;type&quot;: &quot;Point&quot;}, &quot;id&quot;: &quot;24&quot;, &quot;properties&quot;: {}, &quot;type&quot;: &quot;Feature&quot;}, {&quot;bbox&quot;: [103.70209870290407, 1.340139514959049, 103.70209870290407, 1.340139514959049], &quot;geometry&quot;: {&quot;coordinates&quot;: [103.70209870290407, 1.340139514959049], &quot;type&quot;: &quot;Point&quot;}, &quot;id&quot;: &quot;25&quot;, &quot;properties&quot;: {}, &quot;type&quot;: &quot;Feature&quot;}, {&quot;bbox&quot;: [103.71114826201617, 1.3458637078640334, 103.71114826201617, 1.3458637078640334], &quot;geometry&quot;: {&quot;coordinates&quot;: [103.71114826201617, 1.3458637078640334], &quot;type&quot;: &quot;Point&quot;}, &quot;id&quot;: &quot;26&quot;, &quot;properties&quot;: {}, &quot;type&quot;: &quot;Feature&quot;}, {&quot;bbox&quot;: [103.72106808884249, 1.3498962996914816, 103.72106808884249, 1.3498962996914816], &quot;geometry&quot;: {&quot;coordinates&quot;: [103.72106808884249, 1.3498962996914816], &quot;type&quot;: &quot;Point&quot;}, &quot;id&quot;: &quot;27&quot;, &quot;properties&quot;: {}, &quot;type&quot;: &quot;Feature&quot;}, {&quot;bbox&quot;: [103.70712317472376, 1.3556930781989265, 103.70712317472376, 1.3556930781989265], &quot;geometry&quot;: {&quot;coordinates&quot;: [103.70712317472376, 1.3556930781989265], &quot;type&quot;: &quot;Point&quot;}, &quot;id&quot;: &quot;28&quot;, &quot;properties&quot;: {}, &quot;type&quot;: &quot;Feature&quot;}, {&quot;bbox&quot;: [103.6948787996138, 1.3445543128188682, 103.6948787996138, 1.3445543128188682], &quot;geometry&quot;: {&quot;coordinates&quot;: [103.6948787996138, 1.3445543128188682], &quot;type&quot;: &quot;Point&quot;}, &quot;id&quot;: &quot;29&quot;, &quot;properties&quot;: {}, &quot;type&quot;: &quot;Feature&quot;}, {&quot;bbox&quot;: [103.69790417390233, 1.331511085293809, 103.69790417390233, 1.331511085293809], &quot;geometry&quot;: {&quot;coordinates&quot;: [103.69790417390233, 1.331511085293809], &quot;type&quot;: &quot;Point&quot;}, &quot;id&quot;: &quot;30&quot;, &quot;properties&quot;: {}, &quot;type&quot;: &quot;Feature&quot;}, {&quot;bbox&quot;: [103.721196406689, 1.3345109668945636, 103.721196406689, 1.3345109668945636], &quot;geometry&quot;: {&quot;coordinates&quot;: [103.721196406689, 1.3345109668945636], &quot;type&quot;: &quot;Point&quot;}, &quot;id&quot;: &quot;31&quot;, &quot;properties&quot;: {}, &quot;type&quot;: &quot;Feature&quot;}, {&quot;bbox&quot;: [103.85602619146835, 1.2991978886161475, 103.85602619146835, 1.2991978886161475], &quot;geometry&quot;: {&quot;coordinates&quot;: [103.85602619146835, 1.2991978886161475], &quot;type&quot;: &quot;Point&quot;}, &quot;id&quot;: &quot;32&quot;, &quot;properties&quot;: {}, &quot;type&quot;: &quot;Feature&quot;}, {&quot;bbox&quot;: [103.85316804104758, 1.2924357638740507, 103.85316804104758, 1.2924357638740507], &quot;geometry&quot;: {&quot;coordinates&quot;: [103.85316804104758, 1.2924357638740507], &quot;type&quot;: &quot;Point&quot;}, &quot;id&quot;: &quot;33&quot;, &quot;properties&quot;: {}, &quot;type&quot;: &quot;Feature&quot;}, {&quot;bbox&quot;: [103.85469937400205, 1.2855619054207168, 103.85469937400205, 1.2855619054207168], &quot;geometry&quot;: {&quot;coordinates&quot;: [103.85469937400205, 1.2855619054207168], &quot;type&quot;: &quot;Point&quot;}, &quot;id&quot;: &quot;34&quot;, &quot;properties&quot;: {}, &quot;type&quot;: &quot;Feature&quot;}, {&quot;bbox&quot;: [103.85100739116264, 1.2837200107739033, 103.85100739116264, 1.2837200107739033], &quot;geometry&quot;: {&quot;coordinates&quot;: [103.85100739116264, 1.2837200107739033], &quot;type&quot;: &quot;Point&quot;}, &quot;id&quot;: &quot;35&quot;, &quot;properties&quot;: {}, &quot;type&quot;: &quot;Feature&quot;}, {&quot;bbox&quot;: [103.84884643575381, 1.2787118028211777, 103.84884643575381, 1.2787118028211777], &quot;geometry&quot;: {&quot;coordinates&quot;: [103.84884643575381, 1.2787118028211777], &quot;type&quot;: &quot;Point&quot;}, &quot;id&quot;: &quot;36&quot;, &quot;properties&quot;: {}, &quot;type&quot;: &quot;Feature&quot;}, {&quot;bbox&quot;: [103.84864462664441, 1.28528216863642, 103.84864462664441, 1.28528216863642], &quot;geometry&quot;: {&quot;coordinates&quot;: [103.84864462664441, 1.28528216863642], &quot;type&quot;: &quot;Point&quot;}, &quot;id&quot;: &quot;37&quot;, &quot;properties&quot;: {}, &quot;type&quot;: &quot;Feature&quot;}, {&quot;bbox&quot;: [103.84518002880162, 1.2988499350095628, 103.84518002880162, 1.2988499350095628], &quot;geometry&quot;: {&quot;coordinates&quot;: [103.84518002880162, 1.2988499350095628], &quot;type&quot;: &quot;Point&quot;}, &quot;id&quot;: &quot;38&quot;, &quot;properties&quot;: {}, &quot;type&quot;: &quot;Feature&quot;}, {&quot;bbox&quot;: [103.84602360786509, 1.2940326716178534, 103.84602360786509, 1.2940326716178534], &quot;geometry&quot;: {&quot;coordinates&quot;: [103.84602360786509, 1.2940326716178534], &quot;type&quot;: &quot;Point&quot;}, &quot;id&quot;: &quot;39&quot;, &quot;properties&quot;: {}, &quot;type&quot;: &quot;Feature&quot;}, {&quot;bbox&quot;: [103.83765557326659, 1.3066495949960724, 103.83765557326659, 1.3066495949960724], &quot;geometry&quot;: {&quot;coordinates&quot;: [103.83765557326659, 1.3066495949960724], &quot;type&quot;: &quot;Point&quot;}, &quot;id&quot;: &quot;40&quot;, &quot;properties&quot;: {}, &quot;type&quot;: &quot;Feature&quot;}, {&quot;bbox&quot;: [103.84156150601687, 1.3080592786525287, 103.84156150601687, 1.3080592786525287], &quot;geometry&quot;: {&quot;coordinates&quot;: [103.84156150601687, 1.3080592786525287], &quot;type&quot;: &quot;Point&quot;}, &quot;id&quot;: &quot;41&quot;, &quot;properties&quot;: {}, &quot;type&quot;: &quot;Feature&quot;}, {&quot;bbox&quot;: [103.83033705257128, 1.3100551827054276, 103.83033705257128, 1.3100551827054276], &quot;geometry&quot;: {&quot;coordinates&quot;: [103.83033705257128, 1.3100551827054276], &quot;type&quot;: &quot;Point&quot;}, &quot;id&quot;: &quot;42&quot;, &quot;properties&quot;: {}, &quot;type&quot;: &quot;Feature&quot;}, {&quot;bbox&quot;: [103.8342972899372, 1.313586661796599, 103.8342972899372, 1.313586661796599], &quot;geometry&quot;: {&quot;coordinates&quot;: [103.8342972899372, 1.313586661796599], &quot;type&quot;: &quot;Point&quot;}, &quot;id&quot;: &quot;43&quot;, &quot;properties&quot;: {}, &quot;type&quot;: &quot;Feature&quot;}, {&quot;bbox&quot;: [103.84079245203134, 1.2823353215867779, 103.84079245203134, 1.2823353215867779], &quot;geometry&quot;: {&quot;coordinates&quot;: [103.84079245203134, 1.2823353215867779], &quot;type&quot;: &quot;Point&quot;}, &quot;id&quot;: &quot;44&quot;, &quot;properties&quot;: {}, &quot;type&quot;: &quot;Feature&quot;}, {&quot;bbox&quot;: [103.8656288287336, 1.2805310886486851, 103.8656288287336, 1.2805310886486851], &quot;geometry&quot;: {&quot;coordinates&quot;: [103.8656288287336, 1.2805310886486851], &quot;type&quot;: &quot;Point&quot;}, &quot;id&quot;: &quot;45&quot;, &quot;properties&quot;: {}, &quot;type&quot;: &quot;Feature&quot;}, {&quot;bbox&quot;: [103.84943030453333, 1.2962484783724981, 103.84943030453333, 1.2962484783724981], &quot;geometry&quot;: {&quot;coordinates&quot;: [103.84943030453333, 1.2962484783724981], &quot;type&quot;: &quot;Point&quot;}, &quot;id&quot;: &quot;46&quot;, &quot;properties&quot;: {}, &quot;type&quot;: &quot;Feature&quot;}, {&quot;bbox&quot;: [103.84587860239647, 1.2758845188201045, 103.84587860239647, 1.2758845188201045], &quot;geometry&quot;: {&quot;coordinates&quot;: [103.84587860239647, 1.2758845188201045], &quot;type&quot;: &quot;Point&quot;}, &quot;id&quot;: &quot;47&quot;, &quot;properties&quot;: {}, &quot;type&quot;: &quot;Feature&quot;}, {&quot;bbox&quot;: [103.83855154827391, 1.3116530187882762, 103.83855154827391, 1.3116530187882762], &quot;geometry&quot;: {&quot;coordinates&quot;: [103.83855154827391, 1.3116530187882762], &quot;type&quot;: &quot;Point&quot;}, &quot;id&quot;: &quot;48&quot;, &quot;properties&quot;: {}, &quot;type&quot;: &quot;Feature&quot;}, {&quot;bbox&quot;: [103.84434220769198, 1.305339127398519, 103.84434220769198, 1.305339127398519], &quot;geometry&quot;: {&quot;coordinates&quot;: [103.84434220769198, 1.305339127398519], &quot;type&quot;: &quot;Point&quot;}, &quot;id&quot;: &quot;49&quot;, &quot;properties&quot;: {}, &quot;type&quot;: &quot;Feature&quot;}, {&quot;bbox&quot;: [104.03482375735527, 1.401641487904391, 104.03482375735527, 1.401641487904391], &quot;geometry&quot;: {&quot;coordinates&quot;: [104.03482375735527, 1.401641487904391], &quot;type&quot;: &quot;Point&quot;}, &quot;id&quot;: &quot;50&quot;, &quot;properties&quot;: {}, &quot;type&quot;: &quot;Feature&quot;}, {&quot;bbox&quot;: [103.8510371041884, 1.3255284718543436, 103.8510371041884, 1.3255284718543436], &quot;geometry&quot;: {&quot;coordinates&quot;: [103.8510371041884, 1.3255284718543436], &quot;type&quot;: &quot;Point&quot;}, &quot;id&quot;: &quot;51&quot;, &quot;properties&quot;: {}, &quot;type&quot;: &quot;Feature&quot;}, {&quot;bbox&quot;: [103.85759956898563, 1.304072897183251, 103.85759956898563, 1.304072897183251], &quot;geometry&quot;: {&quot;coordinates&quot;: [103.85759956898563, 1.304072897183251], &quot;type&quot;: &quot;Point&quot;}, &quot;id&quot;: &quot;52&quot;, &quot;properties&quot;: {}, &quot;type&quot;: &quot;Feature&quot;}, {&quot;bbox&quot;: [103.8566928824229, 1.3056991011532069, 103.8566928824229, 1.3056991011532069], &quot;geometry&quot;: {&quot;coordinates&quot;: [103.8566928824229, 1.3056991011532069], &quot;type&quot;: &quot;Point&quot;}, &quot;id&quot;: &quot;53&quot;, &quot;properties&quot;: {}, &quot;type&quot;: &quot;Feature&quot;}, {&quot;bbox&quot;: [103.8540526526339, 1.3067833494066663, 103.8540526526339, 1.3067833494066663], &quot;geometry&quot;: {&quot;coordinates&quot;: [103.8540526526339, 1.3067833494066663], &quot;type&quot;: &quot;Point&quot;}, &quot;id&quot;: &quot;54&quot;, &quot;properties&quot;: {}, &quot;type&quot;: &quot;Feature&quot;}, {&quot;bbox&quot;: [103.83160520674618, 1.3012521816797586, 103.83160520674618, 1.3012521816797586], &quot;geometry&quot;: {&quot;coordinates&quot;: [103.83160520674618, 1.3012521816797586], &quot;type&quot;: &quot;Point&quot;}, &quot;id&quot;: &quot;55&quot;, &quot;properties&quot;: {}, &quot;type&quot;: &quot;Feature&quot;}, {&quot;bbox&quot;: [103.82716856687446, 1.301726273671663, 103.82716856687446, 1.301726273671663], &quot;geometry&quot;: {&quot;coordinates&quot;: [103.82716856687446, 1.301726273671663], &quot;type&quot;: &quot;Point&quot;}, &quot;id&quot;: &quot;56&quot;, &quot;properties&quot;: {}, &quot;type&quot;: &quot;Feature&quot;}, {&quot;bbox&quot;: [103.83406382929792, 1.297939806524146, 103.83406382929792, 1.297939806524146], &quot;geometry&quot;: {&quot;coordinates&quot;: [103.83406382929792, 1.297939806524146], &quot;type&quot;: &quot;Point&quot;}, &quot;id&quot;: &quot;57&quot;, &quot;properties&quot;: {}, &quot;type&quot;: &quot;Feature&quot;}, {&quot;bbox&quot;: [103.83942023586691, 1.2856127998376852, 103.83942023586691, 1.2856127998376852], &quot;geometry&quot;: {&quot;coordinates&quot;: [103.83942023586691, 1.2856127998376852], &quot;type&quot;: &quot;Point&quot;}, &quot;id&quot;: &quot;58&quot;, &quot;properties&quot;: {}, &quot;type&quot;: &quot;Feature&quot;}, {&quot;bbox&quot;: [103.84688332475142, 1.2843864299550958, 103.84688332475142, 1.2843864299550958], &quot;geometry&quot;: {&quot;coordinates&quot;: [103.84688332475142, 1.2843864299550958], &quot;type&quot;: &quot;Point&quot;}, &quot;id&quot;: &quot;59&quot;, &quot;properties&quot;: {}, &quot;type&quot;: &quot;Feature&quot;}, {&quot;bbox&quot;: [103.84368744601832, 1.2799694905383718, 103.84368744601832, 1.2799694905383718], &quot;geometry&quot;: {&quot;coordinates&quot;: [103.84368744601832, 1.2799694905383718], &quot;type&quot;: &quot;Point&quot;}, &quot;id&quot;: &quot;60&quot;, &quot;properties&quot;: {}, &quot;type&quot;: &quot;Feature&quot;}, {&quot;bbox&quot;: [103.95374885235069, 1.380881692708102, 103.95374885235069, 1.380881692708102], &quot;geometry&quot;: {&quot;coordinates&quot;: [103.95374885235069, 1.380881692708102], &quot;type&quot;: &quot;Point&quot;}, &quot;id&quot;: &quot;61&quot;, &quot;properties&quot;: {}, &quot;type&quot;: &quot;Feature&quot;}, {&quot;bbox&quot;: [103.9282706971947, 1.3887951289429459, 103.9282706971947, 1.3887951289429459], &quot;geometry&quot;: {&quot;coordinates&quot;: [103.9282706971947, 1.3887951289429459], &quot;type&quot;: &quot;Point&quot;}, &quot;id&quot;: &quot;62&quot;, &quot;properties&quot;: {}, &quot;type&quot;: &quot;Feature&quot;}, {&quot;bbox&quot;: [103.96991729016978, 1.363692352312188, 103.96991729016978, 1.363692352312188], &quot;geometry&quot;: {&quot;coordinates&quot;: [103.96991729016978, 1.363692352312188], &quot;type&quot;: &quot;Point&quot;}, &quot;id&quot;: &quot;63&quot;, &quot;properties&quot;: {}, &quot;type&quot;: &quot;Feature&quot;}, {&quot;bbox&quot;: [103.97145443945688, 1.3783050217997443, 103.97145443945688, 1.3783050217997443], &quot;geometry&quot;: {&quot;coordinates&quot;: [103.97145443945688, 1.3783050217997443], &quot;type&quot;: &quot;Point&quot;}, &quot;id&quot;: &quot;64&quot;, &quot;properties&quot;: {}, &quot;type&quot;: &quot;Feature&quot;}, {&quot;bbox&quot;: [103.96058258561102, 1.3689743406940675, 103.96058258561102, 1.3689743406940675], &quot;geometry&quot;: {&quot;coordinates&quot;: [103.96058258561102, 1.3689743406940675], &quot;type&quot;: &quot;Point&quot;}, &quot;id&quot;: &quot;65&quot;, &quot;properties&quot;: {}, &quot;type&quot;: &quot;Feature&quot;}, {&quot;bbox&quot;: [103.93981218675272, 1.3792860455900358, 103.93981218675272, 1.3792860455900358], &quot;geometry&quot;: {&quot;coordinates&quot;: [103.93981218675272, 1.3792860455900358], &quot;type&quot;: &quot;Point&quot;}, &quot;id&quot;: &quot;66&quot;, &quot;properties&quot;: {}, &quot;type&quot;: &quot;Feature&quot;}, {&quot;bbox&quot;: [103.92376328993153, 1.3556123883390445, 103.92376328993153, 1.3556123883390445], &quot;geometry&quot;: {&quot;coordinates&quot;: [103.92376328993153, 1.3556123883390445], &quot;type&quot;: &quot;Point&quot;}, &quot;id&quot;: &quot;67&quot;, &quot;properties&quot;: {}, &quot;type&quot;: &quot;Feature&quot;}, {&quot;bbox&quot;: [103.91111372000037, 1.372684026990163, 103.91111372000037, 1.372684026990163], &quot;geometry&quot;: {&quot;coordinates&quot;: [103.91111372000037, 1.372684026990163], &quot;type&quot;: &quot;Point&quot;}, &quot;id&quot;: &quot;68&quot;, &quot;properties&quot;: {}, &quot;type&quot;: &quot;Feature&quot;}, {&quot;bbox&quot;: [103.89738193756297, 1.3515194427357635, 103.89738193756297, 1.3515194427357635], &quot;geometry&quot;: {&quot;coordinates&quot;: [103.89738193756297, 1.3515194427357635], &quot;type&quot;: &quot;Point&quot;}, &quot;id&quot;: &quot;69&quot;, &quot;properties&quot;: {}, &quot;type&quot;: &quot;Feature&quot;}, {&quot;bbox&quot;: [103.92582432430913, 1.3731394776438244, 103.92582432430913, 1.3731394776438244], &quot;geometry&quot;: {&quot;coordinates&quot;: [103.92582432430913, 1.3731394776438244], &quot;type&quot;: &quot;Point&quot;}, &quot;id&quot;: &quot;70&quot;, &quot;properties&quot;: {}, &quot;type&quot;: &quot;Feature&quot;}, {&quot;bbox&quot;: [103.68656291391929, 1.3177470307076, 103.68656291391929, 1.3177470307076], &quot;geometry&quot;: {&quot;coordinates&quot;: [103.68656291391929, 1.3177470307076], &quot;type&quot;: &quot;Point&quot;}, &quot;id&quot;: &quot;71&quot;, &quot;properties&quot;: {}, &quot;type&quot;: &quot;Feature&quot;}, {&quot;bbox&quot;: [103.67952507596445, 1.3255964139342626, 103.67952507596445, 1.3255964139342626], &quot;geometry&quot;: {&quot;coordinates&quot;: [103.67952507596445, 1.3255964139342626], &quot;type&quot;: &quot;Point&quot;}, &quot;id&quot;: &quot;72&quot;, &quot;properties&quot;: {}, &quot;type&quot;: &quot;Feature&quot;}, {&quot;bbox&quot;: [103.89701183321839, 1.4026890640763905, 103.89701183321839, 1.4026890640763905], &quot;geometry&quot;: {&quot;coordinates&quot;: [103.89701183321839, 1.4026890640763905], &quot;type&quot;: &quot;Point&quot;}, &quot;id&quot;: &quot;73&quot;, &quot;properties&quot;: {}, &quot;type&quot;: &quot;Feature&quot;}, {&quot;bbox&quot;: [103.86547988643865, 1.314075845518048, 103.86547988643865, 1.314075845518048], &quot;geometry&quot;: {&quot;coordinates&quot;: [103.86547988643865, 1.314075845518048], &quot;type&quot;: &quot;Point&quot;}, &quot;id&quot;: &quot;74&quot;, &quot;properties&quot;: {}, &quot;type&quot;: &quot;Feature&quot;}, {&quot;bbox&quot;: [103.86384158660849, 1.3007645746322243, 103.86384158660849, 1.3007645746322243], &quot;geometry&quot;: {&quot;coordinates&quot;: [103.86384158660849, 1.3007645746322243], &quot;type&quot;: &quot;Point&quot;}, &quot;id&quot;: &quot;75&quot;, &quot;properties&quot;: {}, &quot;type&quot;: &quot;Feature&quot;}, {&quot;bbox&quot;: [103.87228590054599, 1.3148795479028828, 103.87228590054599, 1.3148795479028828], &quot;geometry&quot;: {&quot;coordinates&quot;: [103.87228590054599, 1.3148795479028828], &quot;type&quot;: &quot;Point&quot;}, &quot;id&quot;: &quot;76&quot;, &quot;properties&quot;: {}, &quot;type&quot;: &quot;Feature&quot;}, {&quot;bbox&quot;: [103.85031473158692, 1.3137076570373256, 103.85031473158692, 1.3137076570373256], &quot;geometry&quot;: {&quot;coordinates&quot;: [103.85031473158692, 1.3137076570373256], &quot;type&quot;: &quot;Point&quot;}, &quot;id&quot;: &quot;77&quot;, &quot;properties&quot;: {}, &quot;type&quot;: &quot;Feature&quot;}, {&quot;bbox&quot;: [103.86185482912822, 1.3221987605615841, 103.86185482912822, 1.3221987605615841], &quot;geometry&quot;: {&quot;coordinates&quot;: [103.86185482912822, 1.3221987605615841], &quot;type&quot;: &quot;Point&quot;}, &quot;id&quot;: &quot;78&quot;, &quot;properties&quot;: {}, &quot;type&quot;: &quot;Feature&quot;}, {&quot;bbox&quot;: [103.87026180489498, 1.3216341159107428, 103.87026180489498, 1.3216341159107428], &quot;geometry&quot;: {&quot;coordinates&quot;: [103.87026180489498, 1.3216341159107428], &quot;type&quot;: &quot;Point&quot;}, &quot;id&quot;: &quot;79&quot;, &quot;properties&quot;: {}, &quot;type&quot;: &quot;Feature&quot;}, {&quot;bbox&quot;: [103.87051321654373, 1.3081761719447915, 103.87051321654373, 1.3081761719447915], &quot;geometry&quot;: {&quot;coordinates&quot;: [103.87051321654373, 1.3081761719447915], &quot;type&quot;: &quot;Point&quot;}, &quot;id&quot;: &quot;80&quot;, &quot;properties&quot;: {}, &quot;type&quot;: &quot;Feature&quot;}, {&quot;bbox&quot;: [103.71928695898518, 1.4306409887649232, 103.71928695898518, 1.4306409887649232], &quot;geometry&quot;: {&quot;coordinates&quot;: [103.71928695898518, 1.4306409887649232], &quot;type&quot;: &quot;Point&quot;}, &quot;id&quot;: &quot;81&quot;, &quot;properties&quot;: {}, &quot;type&quot;: &quot;Feature&quot;}, {&quot;bbox&quot;: [103.82507577722652, 1.4265616750198697, 103.82507577722652, 1.4265616750198697], &quot;geometry&quot;: {&quot;coordinates&quot;: [103.82507577722652, 1.4265616750198697], &quot;type&quot;: &quot;Point&quot;}, &quot;id&quot;: &quot;82&quot;, &quot;properties&quot;: {}, &quot;type&quot;: &quot;Feature&quot;}, {&quot;bbox&quot;: [103.78434630475815, 1.4183153828353152, 103.78434630475815, 1.4183153828353152], &quot;geometry&quot;: {&quot;coordinates&quot;: [103.78434630475815, 1.4183153828353152], &quot;type&quot;: &quot;Point&quot;}, &quot;id&quot;: &quot;83&quot;, &quot;properties&quot;: {}, &quot;type&quot;: &quot;Feature&quot;}, {&quot;bbox&quot;: [103.81300827076807, 1.4267860368194252, 103.81300827076807, 1.4267860368194252], &quot;geometry&quot;: {&quot;coordinates&quot;: [103.81300827076807, 1.4267860368194252], &quot;type&quot;: &quot;Point&quot;}, &quot;id&quot;: &quot;84&quot;, &quot;properties&quot;: {}, &quot;type&quot;: &quot;Feature&quot;}, {&quot;bbox&quot;: [103.90867526116965, 1.2996912772941422, 103.90867526116965, 1.2996912772941422], &quot;geometry&quot;: {&quot;coordinates&quot;: [103.90867526116965, 1.2996912772941422], &quot;type&quot;: &quot;Point&quot;}, &quot;id&quot;: &quot;85&quot;, &quot;properties&quot;: {}, &quot;type&quot;: &quot;Feature&quot;}, {&quot;bbox&quot;: [103.90757629698501, 1.3028155766074516, 103.90757629698501, 1.3028155766074516], &quot;geometry&quot;: {&quot;coordinates&quot;: [103.90757629698501, 1.3028155766074516], &quot;type&quot;: &quot;Point&quot;}, &quot;id&quot;: &quot;86&quot;, &quot;properties&quot;: {}, &quot;type&quot;: &quot;Feature&quot;}, {&quot;bbox&quot;: [103.90233582494145, 1.3072650934531538, 103.90233582494145, 1.3072650934531538], &quot;geometry&quot;: {&quot;coordinates&quot;: [103.90233582494145, 1.3072650934531538], &quot;type&quot;: &quot;Point&quot;}, &quot;id&quot;: &quot;87&quot;, &quot;properties&quot;: {}, &quot;type&quot;: &quot;Feature&quot;}, {&quot;bbox&quot;: [103.88467786738087, 1.2922159233590655, 103.88467786738087, 1.2922159233590655], &quot;geometry&quot;: {&quot;coordinates&quot;: [103.88467786738087, 1.2922159233590655], &quot;type&quot;: &quot;Point&quot;}, &quot;id&quot;: &quot;88&quot;, &quot;properties&quot;: {}, &quot;type&quot;: &quot;Feature&quot;}, {&quot;bbox&quot;: [103.89126749463901, 1.3016715157269154, 103.89126749463901, 1.3016715157269154], &quot;geometry&quot;: {&quot;coordinates&quot;: [103.89126749463901, 1.3016715157269154], &quot;type&quot;: &quot;Point&quot;}, &quot;id&quot;: &quot;89&quot;, &quot;properties&quot;: {}, &quot;type&quot;: &quot;Feature&quot;}, {&quot;bbox&quot;: [103.78072262215754, 1.4506540892874895, 103.78072262215754, 1.4506540892874895], &quot;geometry&quot;: {&quot;coordinates&quot;: [103.78072262215754, 1.4506540892874895], &quot;type&quot;: &quot;Point&quot;}, &quot;id&quot;: &quot;90&quot;, &quot;properties&quot;: {}, &quot;type&quot;: &quot;Feature&quot;}, {&quot;bbox&quot;: [103.79386650910203, 1.4295043136676118, 103.79386650910203, 1.4295043136676118], &quot;geometry&quot;: {&quot;coordinates&quot;: [103.79386650910203, 1.4295043136676118], &quot;type&quot;: &quot;Point&quot;}, &quot;id&quot;: &quot;91&quot;, &quot;properties&quot;: {}, &quot;type&quot;: &quot;Feature&quot;}, {&quot;bbox&quot;: [103.80192730672906, 1.4412498746331743, 103.80192730672906, 1.4412498746331743], &quot;geometry&quot;: {&quot;coordinates&quot;: [103.80192730672906, 1.4412498746331743], &quot;type&quot;: &quot;Point&quot;}, &quot;id&quot;: &quot;92&quot;, &quot;properties&quot;: {}, &quot;type&quot;: &quot;Feature&quot;}, {&quot;bbox&quot;: [103.8770911679714, 1.414344182125878, 103.8770911679714, 1.414344182125878], &quot;geometry&quot;: {&quot;coordinates&quot;: [103.8770911679714, 1.414344182125878], &quot;type&quot;: &quot;Point&quot;}, &quot;id&quot;: &quot;93&quot;, &quot;properties&quot;: {}, &quot;type&quot;: &quot;Feature&quot;}, {&quot;bbox&quot;: [103.91076757893971, 1.381657680405051, 103.91076757893971, 1.381657680405051], &quot;geometry&quot;: {&quot;coordinates&quot;: [103.91076757893971, 1.381657680405051], &quot;type&quot;: &quot;Point&quot;}, &quot;id&quot;: &quot;94&quot;, &quot;properties&quot;: {}, &quot;type&quot;: &quot;Feature&quot;}, {&quot;bbox&quot;: [103.91125816049241, 1.3947202521015958, 103.91125816049241, 1.3947202521015958], &quot;geometry&quot;: {&quot;coordinates&quot;: [103.91125816049241, 1.3947202521015958], &quot;type&quot;: &quot;Point&quot;}, &quot;id&quot;: &quot;95&quot;, &quot;properties&quot;: {}, &quot;type&quot;: &quot;Feature&quot;}, {&quot;bbox&quot;: [103.90687448486605, 1.4160804719116085, 103.90687448486605, 1.4160804719116085], &quot;geometry&quot;: {&quot;coordinates&quot;: [103.90687448486605, 1.4160804719116085], &quot;type&quot;: &quot;Point&quot;}, &quot;id&quot;: &quot;96&quot;, &quot;properties&quot;: {}, &quot;type&quot;: &quot;Feature&quot;}, {&quot;bbox&quot;: [103.92027218803241, 1.4072885849293773, 103.92027218803241, 1.4072885849293773], &quot;geometry&quot;: {&quot;coordinates&quot;: [103.92027218803241, 1.4072885849293773], &quot;type&quot;: &quot;Point&quot;}, &quot;id&quot;: &quot;97&quot;, &quot;properties&quot;: {}, &quot;type&quot;: &quot;Feature&quot;}, {&quot;bbox&quot;: [103.91471896916623, 1.4011761652168726, 103.91471896916623, 1.4011761652168726], &quot;geometry&quot;: {&quot;coordinates&quot;: [103.91471896916623, 1.4011761652168726], &quot;type&quot;: &quot;Point&quot;}, &quot;id&quot;: &quot;98&quot;, &quot;properties&quot;: {}, &quot;type&quot;: &quot;Feature&quot;}, {&quot;bbox&quot;: [103.9015956708692, 1.4089654016792157, 103.9015956708692, 1.4089654016792157], &quot;geometry&quot;: {&quot;coordinates&quot;: [103.9015956708692, 1.4089654016792157], &quot;type&quot;: &quot;Point&quot;}, &quot;id&quot;: &quot;99&quot;, &quot;properties&quot;: {}, &quot;type&quot;: &quot;Feature&quot;}, {&quot;bbox&quot;: [103.79478170393095, 1.3083382104187349, 103.79478170393095, 1.3083382104187349], &quot;geometry&quot;: {&quot;coordinates&quot;: [103.79478170393095, 1.3083382104187349], &quot;type&quot;: &quot;Point&quot;}, &quot;id&quot;: &quot;100&quot;, &quot;properties&quot;: {}, &quot;type&quot;: &quot;Feature&quot;}, {&quot;bbox&quot;: [103.79889573463355, 1.2883648294830063, 103.79889573463355, 1.2883648294830063], &quot;geometry&quot;: {&quot;coordinates&quot;: [103.79889573463355, 1.2883648294830063], &quot;type&quot;: &quot;Point&quot;}, &quot;id&quot;: &quot;101&quot;, &quot;properties&quot;: {}, &quot;type&quot;: &quot;Feature&quot;}, {&quot;bbox&quot;: [103.78807886665972, 1.3114787470060947, 103.78807886665972, 1.3114787470060947], &quot;geometry&quot;: {&quot;coordinates&quot;: [103.78807886665972, 1.3114787470060947], &quot;type&quot;: &quot;Point&quot;}, &quot;id&quot;: &quot;102&quot;, &quot;properties&quot;: {}, &quot;type&quot;: &quot;Feature&quot;}, {&quot;bbox&quot;: [103.89657283261485, 1.3296112488313316, 103.89657283261485, 1.3296112488313316], &quot;geometry&quot;: {&quot;coordinates&quot;: [103.89657283261485, 1.3296112488313316], &quot;type&quot;: &quot;Point&quot;}, &quot;id&quot;: &quot;103&quot;, &quot;properties&quot;: {}, &quot;type&quot;: &quot;Feature&quot;}, {&quot;bbox&quot;: [103.77802222895507, 1.3111037628633073, 103.77802222895507, 1.3111037628633073], &quot;geometry&quot;: {&quot;coordinates&quot;: [103.77802222895507, 1.3111037628633073], &quot;type&quot;: &quot;Point&quot;}, &quot;id&quot;: &quot;104&quot;, &quot;properties&quot;: {}, &quot;type&quot;: &quot;Feature&quot;}, {&quot;bbox&quot;: [103.7998815677654, 1.3049471126579861, 103.7998815677654, 1.3049471126579861], &quot;geometry&quot;: {&quot;coordinates&quot;: [103.7998815677654, 1.3049471126579861], &quot;type&quot;: &quot;Point&quot;}, &quot;id&quot;: &quot;105&quot;, &quot;properties&quot;: {}, &quot;type&quot;: &quot;Feature&quot;}, {&quot;bbox&quot;: [103.8030989719948, 1.2934373006531799, 103.8030989719948, 1.2934373006531799], &quot;geometry&quot;: {&quot;coordinates&quot;: [103.8030989719948, 1.2934373006531799], &quot;type&quot;: &quot;Point&quot;}, &quot;id&quot;: &quot;106&quot;, &quot;properties&quot;: {}, &quot;type&quot;: &quot;Feature&quot;}, {&quot;bbox&quot;: [103.79098608292897, 1.2981826918790942, 103.79098608292897, 1.2981826918790942], &quot;geometry&quot;: {&quot;coordinates&quot;: [103.79098608292897, 1.2981826918790942], &quot;type&quot;: &quot;Point&quot;}, &quot;id&quot;: &quot;107&quot;, &quot;properties&quot;: {}, &quot;type&quot;: &quot;Feature&quot;}, {&quot;bbox&quot;: [103.79657107136822, 1.3011208731175388, 103.79657107136822, 1.3011208731175388], &quot;geometry&quot;: {&quot;coordinates&quot;: [103.79657107136822, 1.3011208731175388], &quot;type&quot;: &quot;Point&quot;}, &quot;id&quot;: &quot;108&quot;, &quot;properties&quot;: {}, &quot;type&quot;: &quot;Feature&quot;}, {&quot;bbox&quot;: [103.80826961968211, 1.2970587852315345, 103.80826961968211, 1.2970587852315345], &quot;geometry&quot;: {&quot;coordinates&quot;: [103.80826961968211, 1.2970587852315345], &quot;type&quot;: &quot;Point&quot;}, &quot;id&quot;: &quot;109&quot;, &quot;properties&quot;: {}, &quot;type&quot;: &quot;Feature&quot;}, {&quot;bbox&quot;: [103.84964812465822, 1.302153152797834, 103.84964812465822, 1.302153152797834], &quot;geometry&quot;: {&quot;coordinates&quot;: [103.84964812465822, 1.302153152797834], &quot;type&quot;: &quot;Point&quot;}, &quot;id&quot;: &quot;110&quot;, &quot;properties&quot;: {}, &quot;type&quot;: &quot;Feature&quot;}, {&quot;bbox&quot;: [103.8512810712535, 1.302004736603917, 103.8512810712535, 1.302004736603917], &quot;geometry&quot;: {&quot;coordinates&quot;: [103.8512810712535, 1.302004736603917], &quot;type&quot;: &quot;Point&quot;}, &quot;id&quot;: &quot;111&quot;, &quot;properties&quot;: {}, &quot;type&quot;: &quot;Feature&quot;}, {&quot;bbox&quot;: [103.85212781515959, 1.3091644754129697, 103.85212781515959, 1.3091644754129697], &quot;geometry&quot;: {&quot;coordinates&quot;: [103.85212781515959, 1.3091644754129697], &quot;type&quot;: &quot;Point&quot;}, &quot;id&quot;: &quot;112&quot;, &quot;properties&quot;: {}, &quot;type&quot;: &quot;Feature&quot;}, {&quot;bbox&quot;: [103.85969079942555, 1.302262896582744, 103.85969079942555, 1.302262896582744], &quot;geometry&quot;: {&quot;coordinates&quot;: [103.85969079942555, 1.302262896582744], &quot;type&quot;: &quot;Point&quot;}, &quot;id&quot;: &quot;113&quot;, &quot;properties&quot;: {}, &quot;type&quot;: &quot;Feature&quot;}, {&quot;bbox&quot;: [103.91142085166284, 1.3574964025504117, 103.91142085166284, 1.3574964025504117], &quot;geometry&quot;: {&quot;coordinates&quot;: [103.91142085166284, 1.3574964025504117], &quot;type&quot;: &quot;Point&quot;}, &quot;id&quot;: &quot;114&quot;, &quot;properties&quot;: {}, &quot;type&quot;: &quot;Feature&quot;}, {&quot;bbox&quot;: [103.67452009710715, 1.3033784368777679, 103.67452009710715, 1.3033784368777679], &quot;geometry&quot;: {&quot;coordinates&quot;: [103.67452009710715, 1.3033784368777679], &quot;type&quot;: &quot;Point&quot;}, &quot;id&quot;: &quot;115&quot;, &quot;properties&quot;: {}, &quot;type&quot;: &quot;Feature&quot;}, {&quot;bbox&quot;: [103.66145185842367, 1.300451086150783, 103.66145185842367, 1.300451086150783], &quot;geometry&quot;: {&quot;coordinates&quot;: [103.66145185842367, 1.300451086150783], &quot;type&quot;: &quot;Point&quot;}, &quot;id&quot;: &quot;116&quot;, &quot;properties&quot;: {}, &quot;type&quot;: &quot;Feature&quot;}, {&quot;bbox&quot;: [103.66882911682414, 1.3153835584794842, 103.66882911682414, 1.3153835584794842], &quot;geometry&quot;: {&quot;coordinates&quot;: [103.66882911682414, 1.3153835584794842], &quot;type&quot;: &quot;Point&quot;}, &quot;id&quot;: &quot;117&quot;, &quot;properties&quot;: {}, &quot;type&quot;: &quot;Feature&quot;}, {&quot;bbox&quot;: [103.8484143361437, 1.3062401872543437, 103.8484143361437, 1.3062401872543437], &quot;geometry&quot;: {&quot;coordinates&quot;: [103.8484143361437, 1.3062401872543437], &quot;type&quot;: &quot;Point&quot;}, &quot;id&quot;: &quot;118&quot;, &quot;properties&quot;: {}, &quot;type&quot;: &quot;Feature&quot;}, {&quot;bbox&quot;: [103.72874130558648, 1.3638841897842124, 103.72874130558648, 1.3638841897842124], &quot;geometry&quot;: {&quot;coordinates&quot;: [103.72874130558648, 1.3638841897842124], &quot;type&quot;: &quot;Point&quot;}, &quot;id&quot;: &quot;119&quot;, &quot;properties&quot;: {}, &quot;type&quot;: &quot;Feature&quot;}, {&quot;bbox&quot;: [103.95400459938041, 1.3406741701488925, 103.95400459938041, 1.3406741701488925], &quot;geometry&quot;: {&quot;coordinates&quot;: [103.95400459938041, 1.3406741701488925], &quot;type&quot;: &quot;Point&quot;}, &quot;id&quot;: &quot;120&quot;, &quot;properties&quot;: {}, &quot;type&quot;: &quot;Feature&quot;}, {&quot;bbox&quot;: [103.9390281889932, 1.366207792002374, 103.9390281889932, 1.366207792002374], &quot;geometry&quot;: {&quot;coordinates&quot;: [103.9390281889932, 1.366207792002374], &quot;type&quot;: &quot;Point&quot;}, &quot;id&quot;: &quot;121&quot;, &quot;properties&quot;: {}, &quot;type&quot;: &quot;Feature&quot;}, {&quot;bbox&quot;: [103.95124873635841, 1.3544217609355287, 103.95124873635841, 1.3544217609355287], &quot;geometry&quot;: {&quot;coordinates&quot;: [103.95124873635841, 1.3544217609355287], &quot;type&quot;: &quot;Point&quot;}, &quot;id&quot;: &quot;122&quot;, &quot;properties&quot;: {}, &quot;type&quot;: &quot;Feature&quot;}, {&quot;bbox&quot;: [103.96909298130743, 1.3293437613677785, 103.96909298130743, 1.3293437613677785], &quot;geometry&quot;: {&quot;coordinates&quot;: [103.96909298130743, 1.3293437613677785], &quot;type&quot;: &quot;Point&quot;}, &quot;id&quot;: &quot;123&quot;, &quot;properties&quot;: {}, &quot;type&quot;: &quot;Feature&quot;}, {&quot;bbox&quot;: [103.93595204419775, 1.348507612793002, 103.93595204419775, 1.348507612793002], &quot;geometry&quot;: {&quot;coordinates&quot;: [103.93595204419775, 1.348507612793002], &quot;type&quot;: &quot;Point&quot;}, &quot;id&quot;: &quot;124&quot;, &quot;properties&quot;: {}, &quot;type&quot;: &quot;Feature&quot;}, {&quot;bbox&quot;: [103.83781643545116, 1.4184605129867773, 103.83781643545116, 1.4184605129867773], &quot;geometry&quot;: {&quot;coordinates&quot;: [103.83781643545116, 1.4184605129867773], &quot;type&quot;: &quot;Point&quot;}, &quot;id&quot;: &quot;125&quot;, &quot;properties&quot;: {}, &quot;type&quot;: &quot;Feature&quot;}, {&quot;bbox&quot;: [103.83803169674113, 1.4381244176276824, 103.83803169674113, 1.4381244176276824], &quot;geometry&quot;: {&quot;coordinates&quot;: [103.83803169674113, 1.4381244176276824], &quot;type&quot;: &quot;Point&quot;}, &quot;id&quot;: &quot;126&quot;, &quot;properties&quot;: {}, &quot;type&quot;: &quot;Feature&quot;}, {&quot;bbox&quot;: [103.8376594113623, 1.4267052451542845, 103.8376594113623, 1.4267052451542845], &quot;geometry&quot;: {&quot;coordinates&quot;: [103.8376594113623, 1.4267052451542845], &quot;type&quot;: &quot;Point&quot;}, &quot;id&quot;: &quot;127&quot;, &quot;properties&quot;: {}, &quot;type&quot;: &quot;Feature&quot;}, {&quot;bbox&quot;: [103.81464696138194, 1.4075049949634995, 103.81464696138194, 1.4075049949634995], &quot;geometry&quot;: {&quot;coordinates&quot;: [103.81464696138194, 1.4075049949634995], &quot;type&quot;: &quot;Point&quot;}, &quot;id&quot;: &quot;128&quot;, &quot;properties&quot;: {}, &quot;type&quot;: &quot;Feature&quot;}, {&quot;bbox&quot;: [103.82409001998664, 1.4013993660632524, 103.82409001998664, 1.4013993660632524], &quot;geometry&quot;: {&quot;coordinates&quot;: [103.82409001998664, 1.4013993660632524], &quot;type&quot;: &quot;Point&quot;}, &quot;id&quot;: &quot;129&quot;, &quot;properties&quot;: {}, &quot;type&quot;: &quot;Feature&quot;}, {&quot;bbox&quot;: [103.83101160396521, 1.4311385956229936, 103.83101160396521, 1.4311385956229936], &quot;geometry&quot;: {&quot;coordinates&quot;: [103.83101160396521, 1.4311385956229936], &quot;type&quot;: &quot;Point&quot;}, &quot;id&quot;: &quot;130&quot;, &quot;properties&quot;: {}, &quot;type&quot;: &quot;Feature&quot;}, {&quot;bbox&quot;: [103.84731484872049, 1.4285461360074716, 103.84731484872049, 1.4285461360074716], &quot;geometry&quot;: {&quot;coordinates&quot;: [103.84731484872049, 1.4285461360074716], &quot;type&quot;: &quot;Point&quot;}, &quot;id&quot;: &quot;131&quot;, &quot;properties&quot;: {}, &quot;type&quot;: &quot;Feature&quot;}, {&quot;bbox&quot;: [103.8286526655674, 1.4180005927363288, 103.8286526655674, 1.4180005927363288], &quot;geometry&quot;: {&quot;coordinates&quot;: [103.8286526655674, 1.4180005927363288], &quot;type&quot;: &quot;Point&quot;}, &quot;id&quot;: &quot;132&quot;, &quot;properties&quot;: {}, &quot;type&quot;: &quot;Feature&quot;}, {&quot;bbox&quot;: [103.72485561104124, 1.1933757703266503, 103.72485561104124, 1.1933757703266503], &quot;geometry&quot;: {&quot;coordinates&quot;: [103.72485561104124, 1.1933757703266503], &quot;type&quot;: &quot;Point&quot;}, &quot;id&quot;: &quot;133&quot;, &quot;properties&quot;: {}, &quot;type&quot;: &quot;Feature&quot;}, {&quot;bbox&quot;: [103.69176552895179, 1.2655317350798916, 103.69176552895179, 1.2655317350798916], &quot;geometry&quot;: {&quot;coordinates&quot;: [103.69176552895179, 1.2655317350798916], &quot;type&quot;: &quot;Point&quot;}, &quot;id&quot;: &quot;134&quot;, &quot;properties&quot;: {}, &quot;type&quot;: &quot;Feature&quot;}, {&quot;bbox&quot;: [103.76708866438958, 1.2143160883906432, 103.76708866438958, 1.2143160883906432], &quot;geometry&quot;: {&quot;coordinates&quot;: [103.76708866438958, 1.2143160883906432], &quot;type&quot;: &quot;Point&quot;}, &quot;id&quot;: &quot;135&quot;, &quot;properties&quot;: {}, &quot;type&quot;: &quot;Feature&quot;}, {&quot;bbox&quot;: [103.89660349127293, 1.3720941571424774, 103.89660349127293, 1.3720941571424774], &quot;geometry&quot;: {&quot;coordinates&quot;: [103.89660349127293, 1.3720941571424774], &quot;type&quot;: &quot;Point&quot;}, &quot;id&quot;: &quot;136&quot;, &quot;properties&quot;: {}, &quot;type&quot;: &quot;Feature&quot;}, {&quot;bbox&quot;: [104.00100711480589, 1.3472640635085498, 104.00100711480589, 1.3472640635085498], &quot;geometry&quot;: {&quot;coordinates&quot;: [104.00100711480589, 1.3472640635085498], &quot;type&quot;: &quot;Point&quot;}, &quot;id&quot;: &quot;137&quot;, &quot;properties&quot;: {}, &quot;type&quot;: &quot;Feature&quot;}, {&quot;bbox&quot;: [103.90403834189499, 1.3696216719512324, 103.90403834189499, 1.3696216719512324], &quot;geometry&quot;: {&quot;coordinates&quot;: [103.90403834189499, 1.3696216719512324], &quot;type&quot;: &quot;Point&quot;}, &quot;id&quot;: &quot;138&quot;, &quot;properties&quot;: {}, &quot;type&quot;: &quot;Feature&quot;}, {&quot;bbox&quot;: [103.83839292951892, 1.3679721131351237, 103.83839292951892, 1.3679721131351237], &quot;geometry&quot;: {&quot;coordinates&quot;: [103.83839292951892, 1.3679721131351237], &quot;type&quot;: &quot;Point&quot;}, &quot;id&quot;: &quot;139&quot;, &quot;properties&quot;: {}, &quot;type&quot;: &quot;Feature&quot;}, {&quot;bbox&quot;: [103.90501384104894, 1.3876077928435546, 103.90501384104894, 1.3876077928435546], &quot;geometry&quot;: {&quot;coordinates&quot;: [103.90501384104894, 1.3876077928435546], &quot;type&quot;: &quot;Point&quot;}, &quot;id&quot;: &quot;140&quot;, &quot;properties&quot;: {}, &quot;type&quot;: &quot;Feature&quot;}, {&quot;bbox&quot;: [103.97791819925138, 1.3683248827621677, 103.97791819925138, 1.3683248827621677], &quot;geometry&quot;: {&quot;coordinates&quot;: [103.97791819925138, 1.3683248827621677], &quot;type&quot;: &quot;Point&quot;}, &quot;id&quot;: &quot;141&quot;, &quot;properties&quot;: {}, &quot;type&quot;: &quot;Feature&quot;}, {&quot;bbox&quot;: [103.791531659763, 1.439888497922546, 103.791531659763, 1.439888497922546], &quot;geometry&quot;: {&quot;coordinates&quot;: [103.791531659763, 1.439888497922546], &quot;type&quot;: &quot;Point&quot;}, &quot;id&quot;: &quot;142&quot;, &quot;properties&quot;: {}, &quot;type&quot;: &quot;Feature&quot;}, {&quot;bbox&quot;: [103.65175593433183, 1.3376768162599237, 103.65175593433183, 1.3376768162599237], &quot;geometry&quot;: {&quot;coordinates&quot;: [103.65175593433183, 1.3376768162599237], &quot;type&quot;: &quot;Point&quot;}, &quot;id&quot;: &quot;143&quot;, &quot;properties&quot;: {}, &quot;type&quot;: &quot;Feature&quot;}, {&quot;bbox&quot;: [103.65124647227887, 1.3267451896822553, 103.65124647227887, 1.3267451896822553], &quot;geometry&quot;: {&quot;coordinates&quot;: [103.65124647227887, 1.3267451896822553], &quot;type&quot;: &quot;Point&quot;}, &quot;id&quot;: &quot;144&quot;, &quot;properties&quot;: {}, &quot;type&quot;: &quot;Feature&quot;}, {&quot;bbox&quot;: [103.64391338389864, 1.3183394159798987, 103.64391338389864, 1.3183394159798987], &quot;geometry&quot;: {&quot;coordinates&quot;: [103.64391338389864, 1.3183394159798987], &quot;type&quot;: &quot;Point&quot;}, &quot;id&quot;: &quot;145&quot;, &quot;properties&quot;: {}, &quot;type&quot;: &quot;Feature&quot;}, {&quot;bbox&quot;: [103.63342903270295, 1.301157998109016, 103.63342903270295, 1.301157998109016], &quot;geometry&quot;: {&quot;coordinates&quot;: [103.63342903270295, 1.301157998109016], &quot;type&quot;: &quot;Point&quot;}, &quot;id&quot;: &quot;146&quot;, &quot;properties&quot;: {}, &quot;type&quot;: &quot;Feature&quot;}, {&quot;bbox&quot;: [103.84754485614285, 1.3024107025497151, 103.84754485614285, 1.3024107025497151], &quot;geometry&quot;: {&quot;coordinates&quot;: [103.84754485614285, 1.3024107025497151], &quot;type&quot;: &quot;Point&quot;}, &quot;id&quot;: &quot;147&quot;, &quot;properties&quot;: {}, &quot;type&quot;: &quot;Feature&quot;}, {&quot;bbox&quot;: [103.83044385400308, 1.2896717749175266, 103.83044385400308, 1.2896717749175266], &quot;geometry&quot;: {&quot;coordinates&quot;: [103.83044385400308, 1.2896717749175266], &quot;type&quot;: &quot;Point&quot;}, &quot;id&quot;: &quot;148&quot;, &quot;properties&quot;: {}, &quot;type&quot;: &quot;Feature&quot;}, {&quot;bbox&quot;: [103.86635694011109, 1.383473949743647, 103.86635694011109, 1.383473949743647], &quot;geometry&quot;: {&quot;coordinates&quot;: [103.86635694011109, 1.383473949743647], &quot;type&quot;: &quot;Point&quot;}, &quot;id&quot;: &quot;149&quot;, &quot;properties&quot;: {}, &quot;type&quot;: &quot;Feature&quot;}, {&quot;bbox&quot;: [103.86666324333228, 1.3627384315460138, 103.86666324333228, 1.3627384315460138], &quot;geometry&quot;: {&quot;coordinates&quot;: [103.86666324333228, 1.3627384315460138], &quot;type&quot;: &quot;Point&quot;}, &quot;id&quot;: &quot;150&quot;, &quot;properties&quot;: {}, &quot;type&quot;: &quot;Feature&quot;}, {&quot;bbox&quot;: [103.86969926482305, 1.3491969392767142, 103.86969926482305, 1.3491969392767142], &quot;geometry&quot;: {&quot;coordinates&quot;: [103.86969926482305, 1.3491969392767142], &quot;type&quot;: &quot;Point&quot;}, &quot;id&quot;: &quot;151&quot;, &quot;properties&quot;: {}, &quot;type&quot;: &quot;Feature&quot;}, {&quot;bbox&quot;: [103.84962752572699, 1.2280095412757293, 103.84962752572699, 1.2280095412757293], &quot;geometry&quot;: {&quot;coordinates&quot;: [103.84962752572699, 1.2280095412757293], &quot;type&quot;: &quot;Point&quot;}, &quot;id&quot;: &quot;152&quot;, &quot;properties&quot;: {}, &quot;type&quot;: &quot;Feature&quot;}, {&quot;bbox&quot;: [103.82965221254393, 1.2496760624475507, 103.82965221254393, 1.2496760624475507], &quot;geometry&quot;: {&quot;coordinates&quot;: [103.82965221254393, 1.2496760624475507], &quot;type&quot;: &quot;Point&quot;}, &quot;id&quot;: &quot;153&quot;, &quot;properties&quot;: {}, &quot;type&quot;: &quot;Feature&quot;}, {&quot;bbox&quot;: [103.76353572874996, 1.4187801136510008, 103.76353572874996, 1.4187801136510008], &quot;geometry&quot;: {&quot;coordinates&quot;: [103.76353572874996, 1.4187801136510008], &quot;type&quot;: &quot;Point&quot;}, &quot;id&quot;: &quot;154&quot;, &quot;properties&quot;: {}, &quot;type&quot;: &quot;Feature&quot;}, {&quot;bbox&quot;: [103.74827278023002, 1.412620787167393, 103.74827278023002, 1.412620787167393], &quot;geometry&quot;: {&quot;coordinates&quot;: [103.74827278023002, 1.412620787167393], &quot;type&quot;: &quot;Point&quot;}, &quot;id&quot;: &quot;155&quot;, &quot;properties&quot;: {}, &quot;type&quot;: &quot;Feature&quot;}, {&quot;bbox&quot;: [103.75934188618434, 1.4343280872006479, 103.75934188618434, 1.4343280872006479], &quot;geometry&quot;: {&quot;coordinates&quot;: [103.75934188618434, 1.4343280872006479], &quot;type&quot;: &quot;Point&quot;}, &quot;id&quot;: &quot;156&quot;, &quot;properties&quot;: {}, &quot;type&quot;: &quot;Feature&quot;}, {&quot;bbox&quot;: [103.74675835833644, 1.4317426098933022, 103.74675835833644, 1.4317426098933022], &quot;geometry&quot;: {&quot;coordinates&quot;: [103.74675835833644, 1.4317426098933022], &quot;type&quot;: &quot;Point&quot;}, &quot;id&quot;: &quot;157&quot;, &quot;properties&quot;: {}, &quot;type&quot;: &quot;Feature&quot;}, {&quot;bbox&quot;: [103.85717038814127, 1.4353678771152796, 103.85717038814127, 1.4353678771152796], &quot;geometry&quot;: {&quot;coordinates&quot;: [103.85717038814127, 1.4353678771152796], &quot;type&quot;: &quot;Point&quot;}, &quot;id&quot;: &quot;158&quot;, &quot;properties&quot;: {}, &quot;type&quot;: &quot;Feature&quot;}, {&quot;bbox&quot;: [103.85092787870045, 1.4542416006652075, 103.85092787870045, 1.4542416006652075], &quot;geometry&quot;: {&quot;coordinates&quot;: [103.85092787870045, 1.4542416006652075], &quot;type&quot;: &quot;Point&quot;}, &quot;id&quot;: &quot;159&quot;, &quot;properties&quot;: {}, &quot;type&quot;: &quot;Feature&quot;}, {&quot;bbox&quot;: [103.86486849805121, 1.4435442697449312, 103.86486849805121, 1.4435442697449312], &quot;geometry&quot;: {&quot;coordinates&quot;: [103.86486849805121, 1.4435442697449312], &quot;type&quot;: &quot;Point&quot;}, &quot;id&quot;: &quot;160&quot;, &quot;properties&quot;: {}, &quot;type&quot;: &quot;Feature&quot;}, {&quot;bbox&quot;: [103.84581129258596, 1.4472579266575094, 103.84581129258596, 1.4472579266575094], &quot;geometry&quot;: {&quot;coordinates&quot;: [103.84581129258596, 1.4472579266575094], &quot;type&quot;: &quot;Point&quot;}, &quot;id&quot;: &quot;161&quot;, &quot;properties&quot;: {}, &quot;type&quot;: &quot;Feature&quot;}, {&quot;bbox&quot;: [103.84819049608743, 1.2873574393669798, 103.84819049608743, 1.2873574393669798], &quot;geometry&quot;: {&quot;coordinates&quot;: [103.84819049608743, 1.2873574393669798], &quot;type&quot;: &quot;Point&quot;}, &quot;id&quot;: &quot;162&quot;, &quot;properties&quot;: {}, &quot;type&quot;: &quot;Feature&quot;}, {&quot;bbox&quot;: [103.84457916563625, 1.289599335988757, 103.84457916563625, 1.289599335988757], &quot;geometry&quot;: {&quot;coordinates&quot;: [103.84457916563625, 1.289599335988757], &quot;type&quot;: &quot;Point&quot;}, &quot;id&quot;: &quot;163&quot;, &quot;properties&quot;: {}, &quot;type&quot;: &quot;Feature&quot;}, {&quot;bbox&quot;: [103.83706413074762, 1.291285964468701, 103.83706413074762, 1.291285964468701], &quot;geometry&quot;: {&quot;coordinates&quot;: [103.83706413074762, 1.291285964468701], &quot;type&quot;: &quot;Point&quot;}, &quot;id&quot;: &quot;164&quot;, &quot;properties&quot;: {}, &quot;type&quot;: &quot;Feature&quot;}, {&quot;bbox&quot;: [103.85298961524225, 1.299663605711332, 103.85298961524225, 1.299663605711332], &quot;geometry&quot;: {&quot;coordinates&quot;: [103.85298961524225, 1.299663605711332], &quot;type&quot;: &quot;Point&quot;}, &quot;id&quot;: &quot;165&quot;, &quot;properties&quot;: {}, &quot;type&quot;: &quot;Feature&quot;}, {&quot;bbox&quot;: [103.84360995974691, 1.2737179129930007, 103.84360995974691, 1.2737179129930007], &quot;geometry&quot;: {&quot;coordinates&quot;: [103.84360995974691, 1.2737179129930007], &quot;type&quot;: &quot;Point&quot;}, &quot;id&quot;: &quot;166&quot;, &quot;properties&quot;: {}, &quot;type&quot;: &quot;Feature&quot;}, {&quot;bbox&quot;: [103.85240852365042, 1.2756736486214102, 103.85240852365042, 1.2756736486214102], &quot;geometry&quot;: {&quot;coordinates&quot;: [103.85240852365042, 1.2756736486214102], &quot;type&quot;: &quot;Point&quot;}, &quot;id&quot;: &quot;167&quot;, &quot;properties&quot;: {}, &quot;type&quot;: &quot;Feature&quot;}, {&quot;bbox&quot;: [103.85853376081127, 1.2833347239182522, 103.85853376081127, 1.2833347239182522], &quot;geometry&quot;: {&quot;coordinates&quot;: [103.85853376081127, 1.2833347239182522], &quot;type&quot;: &quot;Point&quot;}, &quot;id&quot;: &quot;168&quot;, &quot;properties&quot;: {}, &quot;type&quot;: &quot;Feature&quot;}, {&quot;bbox&quot;: [103.87548386743552, 1.3415560610757764, 103.87548386743552, 1.3415560610757764], &quot;geometry&quot;: {&quot;coordinates&quot;: [103.87548386743552, 1.3415560610757764], &quot;type&quot;: &quot;Point&quot;}, &quot;id&quot;: &quot;169&quot;, &quot;properties&quot;: {}, &quot;type&quot;: &quot;Feature&quot;}, {&quot;bbox&quot;: [103.8468510595985, 1.3936968774543619, 103.8468510595985, 1.3936968774543619], &quot;geometry&quot;: {&quot;coordinates&quot;: [103.8468510595985, 1.3936968774543619], &quot;type&quot;: &quot;Point&quot;}, &quot;id&quot;: &quot;170&quot;, &quot;properties&quot;: {}, &quot;type&quot;: &quot;Feature&quot;}, {&quot;bbox&quot;: [103.87355058829797, 1.33382597651825, 103.87355058829797, 1.33382597651825], &quot;geometry&quot;: {&quot;coordinates&quot;: [103.87355058829797, 1.33382597651825], &quot;type&quot;: &quot;Point&quot;}, &quot;id&quot;: &quot;171&quot;, &quot;properties&quot;: {}, &quot;type&quot;: &quot;Feature&quot;}, {&quot;bbox&quot;: [103.79462322616384, 1.2775838153480958, 103.79462322616384, 1.2775838153480958], &quot;geometry&quot;: {&quot;coordinates&quot;: [103.79462322616384, 1.2775838153480958], &quot;type&quot;: &quot;Point&quot;}, &quot;id&quot;: &quot;172&quot;, &quot;properties&quot;: {}, &quot;type&quot;: &quot;Feature&quot;}, {&quot;bbox&quot;: [103.82047351240517, 1.277382163678797, 103.82047351240517, 1.277382163678797], &quot;geometry&quot;: {&quot;coordinates&quot;: [103.82047351240517, 1.277382163678797], &quot;type&quot;: &quot;Point&quot;}, &quot;id&quot;: &quot;173&quot;, &quot;properties&quot;: {}, &quot;type&quot;: &quot;Feature&quot;}, {&quot;bbox&quot;: [103.77506225591063, 1.2768209101246326, 103.77506225591063, 1.2768209101246326], &quot;geometry&quot;: {&quot;coordinates&quot;: [103.77506225591063, 1.2768209101246326], &quot;type&quot;: &quot;Point&quot;}, &quot;id&quot;: &quot;174&quot;, &quot;properties&quot;: {}, &quot;type&quot;: &quot;Feature&quot;}, {&quot;bbox&quot;: [103.74033477646898, 1.3038553288903292, 103.74033477646898, 1.3038553288903292], &quot;geometry&quot;: {&quot;coordinates&quot;: [103.74033477646898, 1.3038553288903292], &quot;type&quot;: &quot;Point&quot;}, &quot;id&quot;: &quot;175&quot;, &quot;properties&quot;: {}, &quot;type&quot;: &quot;Feature&quot;}, {&quot;bbox&quot;: [103.8085427336469, 1.2822244318652785, 103.8085427336469, 1.2822244318652785], &quot;geometry&quot;: {&quot;coordinates&quot;: [103.8085427336469, 1.2822244318652785], &quot;type&quot;: &quot;Point&quot;}, &quot;id&quot;: &quot;176&quot;, &quot;properties&quot;: {}, &quot;type&quot;: &quot;Feature&quot;}, {&quot;bbox&quot;: [103.88245958234144, 1.3365153066226998, 103.88245958234144, 1.3365153066226998], &quot;geometry&quot;: {&quot;coordinates&quot;: [103.88245958234144, 1.3365153066226998], &quot;type&quot;: &quot;Point&quot;}, &quot;id&quot;: &quot;177&quot;, &quot;properties&quot;: {}, &quot;type&quot;: &quot;Feature&quot;}, {&quot;bbox&quot;: [103.78010108483045, 1.286622689063288, 103.78010108483045, 1.286622689063288], &quot;geometry&quot;: {&quot;coordinates&quot;: [103.78010108483045, 1.286622689063288], &quot;type&quot;: &quot;Point&quot;}, &quot;id&quot;: &quot;178&quot;, &quot;properties&quot;: {}, &quot;type&quot;: &quot;Feature&quot;}, {&quot;bbox&quot;: [103.83139275843696, 1.283879529711809, 103.83139275843696, 1.283879529711809], &quot;geometry&quot;: {&quot;coordinates&quot;: [103.83139275843696, 1.283879529711809], &quot;type&quot;: &quot;Point&quot;}, &quot;id&quot;: &quot;179&quot;, &quot;properties&quot;: {}, &quot;type&quot;: &quot;Feature&quot;}, {&quot;bbox&quot;: [103.83679894638705, 1.2653054268503998, 103.83679894638705, 1.2653054268503998], &quot;geometry&quot;: {&quot;coordinates&quot;: [103.83679894638705, 1.2653054268503998], &quot;type&quot;: &quot;Point&quot;}, &quot;id&quot;: &quot;180&quot;, &quot;properties&quot;: {}, &quot;type&quot;: &quot;Feature&quot;}, {&quot;bbox&quot;: [103.82734723703915, 1.2783572450543639, 103.82734723703915, 1.2783572450543639], &quot;geometry&quot;: {&quot;coordinates&quot;: [103.82734723703915, 1.2783572450543639], &quot;type&quot;: &quot;Point&quot;}, &quot;id&quot;: &quot;181&quot;, &quot;properties&quot;: {}, &quot;type&quot;: &quot;Feature&quot;}, {&quot;bbox&quot;: [103.77953841748116, 1.3038652171173302, 103.77953841748116, 1.3038652171173302], &quot;geometry&quot;: {&quot;coordinates&quot;: [103.77953841748116, 1.3038652171173302], &quot;type&quot;: &quot;Point&quot;}, &quot;id&quot;: &quot;182&quot;, &quot;properties&quot;: {}, &quot;type&quot;: &quot;Feature&quot;}, {&quot;bbox&quot;: [103.77660855609348, 1.295997017360927, 103.77660855609348, 1.295997017360927], &quot;geometry&quot;: {&quot;coordinates&quot;: [103.77660855609348, 1.295997017360927], &quot;type&quot;: &quot;Point&quot;}, &quot;id&quot;: &quot;183&quot;, &quot;properties&quot;: {}, &quot;type&quot;: &quot;Feature&quot;}, {&quot;bbox&quot;: [103.77855900604786, 1.4292778668795483, 103.77855900604786, 1.4292778668795483], &quot;geometry&quot;: {&quot;coordinates&quot;: [103.77855900604786, 1.4292778668795483], &quot;type&quot;: &quot;Point&quot;}, &quot;id&quot;: &quot;184&quot;, &quot;properties&quot;: {}, &quot;type&quot;: &quot;Feature&quot;}, {&quot;bbox&quot;: [103.78486891920026, 1.4472972064395884, 103.78486891920026, 1.4472972064395884], &quot;geometry&quot;: {&quot;coordinates&quot;: [103.78486891920026, 1.4472972064395884], &quot;type&quot;: &quot;Point&quot;}, &quot;id&quot;: &quot;185&quot;, &quot;properties&quot;: {}, &quot;type&quot;: &quot;Feature&quot;}, {&quot;bbox&quot;: [103.81776138173517, 1.446373092335174, 103.81776138173517, 1.446373092335174], &quot;geometry&quot;: {&quot;coordinates&quot;: [103.81776138173517, 1.446373092335174], &quot;type&quot;: &quot;Point&quot;}, &quot;id&quot;: &quot;186&quot;, &quot;properties&quot;: {}, &quot;type&quot;: &quot;Feature&quot;}, {&quot;bbox&quot;: [103.81569561923598, 1.4569999143915437, 103.81569561923598, 1.4569999143915437], &quot;geometry&quot;: {&quot;coordinates&quot;: [103.81569561923598, 1.4569999143915437], &quot;type&quot;: &quot;Point&quot;}, &quot;id&quot;: &quot;187&quot;, &quot;properties&quot;: {}, &quot;type&quot;: &quot;Feature&quot;}, {&quot;bbox&quot;: [103.80335659784824, 1.4637764089913428, 103.80335659784824, 1.4637764089913428], &quot;geometry&quot;: {&quot;coordinates&quot;: [103.80335659784824, 1.4637764089913428], &quot;type&quot;: &quot;Point&quot;}, &quot;id&quot;: &quot;188&quot;, &quot;properties&quot;: {}, &quot;type&quot;: &quot;Feature&quot;}, {&quot;bbox&quot;: [103.80753457399123, 1.453498669343512, 103.80753457399123, 1.453498669343512], &quot;geometry&quot;: {&quot;coordinates&quot;: [103.80753457399123, 1.453498669343512], &quot;type&quot;: &quot;Point&quot;}, &quot;id&quot;: &quot;189&quot;, &quot;properties&quot;: {}, &quot;type&quot;: &quot;Feature&quot;}, {&quot;bbox&quot;: [103.82384133277436, 1.4644127309804764, 103.82384133277436, 1.4644127309804764], &quot;geometry&quot;: {&quot;coordinates&quot;: [103.82384133277436, 1.4644127309804764], &quot;type&quot;: &quot;Point&quot;}, &quot;id&quot;: &quot;190&quot;, &quot;properties&quot;: {}, &quot;type&quot;: &quot;Feature&quot;}, {&quot;bbox&quot;: [103.8364902066968, 1.4586741894547275, 103.8364902066968, 1.4586741894547275], &quot;geometry&quot;: {&quot;coordinates&quot;: [103.8364902066968, 1.4586741894547275], &quot;type&quot;: &quot;Point&quot;}, &quot;id&quot;: &quot;191&quot;, &quot;properties&quot;: {}, &quot;type&quot;: &quot;Feature&quot;}, {&quot;bbox&quot;: [103.62249392806297, 1.2562525220051406, 103.62249392806297, 1.2562525220051406], &quot;geometry&quot;: {&quot;coordinates&quot;: [103.62249392806297, 1.2562525220051406], &quot;type&quot;: &quot;Point&quot;}, &quot;id&quot;: &quot;192&quot;, &quot;properties&quot;: {}, &quot;type&quot;: &quot;Feature&quot;}, {&quot;bbox&quot;: [103.63490187945868, 1.331949582815122, 103.63490187945868, 1.331949582815122], &quot;geometry&quot;: {&quot;coordinates&quot;: [103.63490187945868, 1.331949582815122], &quot;type&quot;: &quot;Point&quot;}, &quot;id&quot;: &quot;193&quot;, &quot;properties&quot;: {}, &quot;type&quot;: &quot;Feature&quot;}, {&quot;bbox&quot;: [103.84952192631033, 1.3405695421520765, 103.84952192631033, 1.3405695421520765], &quot;geometry&quot;: {&quot;coordinates&quot;: [103.84952192631033, 1.3405695421520765], &quot;type&quot;: &quot;Point&quot;}, &quot;id&quot;: &quot;194&quot;, &quot;properties&quot;: {}, &quot;type&quot;: &quot;Feature&quot;}, {&quot;bbox&quot;: [103.86563694354392, 1.3330522433023972, 103.86563694354392, 1.3330522433023972], &quot;geometry&quot;: {&quot;coordinates&quot;: [103.86563694354392, 1.3330522433023972], &quot;type&quot;: &quot;Point&quot;}, &quot;id&quot;: &quot;195&quot;, &quot;properties&quot;: {}, &quot;type&quot;: &quot;Feature&quot;}, {&quot;bbox&quot;: [103.85862554204955, 1.3318789558594701, 103.85862554204955, 1.3318789558594701], &quot;geometry&quot;: {&quot;coordinates&quot;: [103.85862554204955, 1.3318789558594701], &quot;type&quot;: &quot;Point&quot;}, &quot;id&quot;: &quot;196&quot;, &quot;properties&quot;: {}, &quot;type&quot;: &quot;Feature&quot;}, {&quot;bbox&quot;: [103.84594944248686, 1.3326748250274754, 103.84594944248686, 1.3326748250274754], &quot;geometry&quot;: {&quot;coordinates&quot;: [103.84594944248686, 1.3326748250274754], &quot;type&quot;: &quot;Point&quot;}, &quot;id&quot;: &quot;197&quot;, &quot;properties&quot;: {}, &quot;type&quot;: &quot;Feature&quot;}, {&quot;bbox&quot;: [103.84168707099965, 1.3398929365722465, 103.84168707099965, 1.3398929365722465], &quot;geometry&quot;: {&quot;coordinates&quot;: [103.84168707099965, 1.3398929365722465], &quot;type&quot;: &quot;Point&quot;}, &quot;id&quot;: &quot;198&quot;, &quot;properties&quot;: {}, &quot;type&quot;: &quot;Feature&quot;}, {&quot;bbox&quot;: [103.85302535189489, 1.33526975040515, 103.85302535189489, 1.33526975040515], &quot;geometry&quot;: {&quot;coordinates&quot;: [103.85302535189489, 1.33526975040515], &quot;type&quot;: &quot;Point&quot;}, &quot;id&quot;: &quot;199&quot;, &quot;properties&quot;: {}, &quot;type&quot;: &quot;Feature&quot;}, {&quot;bbox&quot;: [103.85860906209408, 1.3367878005261784, 103.85860906209408, 1.3367878005261784], &quot;geometry&quot;: {&quot;coordinates&quot;: [103.85860906209408, 1.3367878005261784], &quot;type&quot;: &quot;Point&quot;}, &quot;id&quot;: &quot;200&quot;, &quot;properties&quot;: {}, &quot;type&quot;: &quot;Feature&quot;}, {&quot;bbox&quot;: [103.86631398991157, 1.3400433550953834, 103.86631398991157, 1.3400433550953834], &quot;geometry&quot;: {&quot;coordinates&quot;: [103.86631398991157, 1.3400433550953834], &quot;type&quot;: &quot;Point&quot;}, &quot;id&quot;: &quot;201&quot;, &quot;properties&quot;: {}, &quot;type&quot;: &quot;Feature&quot;}, {&quot;bbox&quot;: [103.85710290534072, 1.3408783282565637, 103.85710290534072, 1.3408783282565637], &quot;geometry&quot;: {&quot;coordinates&quot;: [103.85710290534072, 1.3408783282565637], &quot;type&quot;: &quot;Point&quot;}, &quot;id&quot;: &quot;202&quot;, &quot;properties&quot;: {}, &quot;type&quot;: &quot;Feature&quot;}, {&quot;bbox&quot;: [103.82339171946005, 1.2970285590576105, 103.82339171946005, 1.2970285590576105], &quot;geometry&quot;: {&quot;coordinates&quot;: [103.82339171946005, 1.2970285590576105], &quot;type&quot;: &quot;Point&quot;}, &quot;id&quot;: &quot;203&quot;, &quot;properties&quot;: {}, &quot;type&quot;: &quot;Feature&quot;}, {&quot;bbox&quot;: [103.81316375160503, 1.3147027130481663, 103.81316375160503, 1.3147027130481663], &quot;geometry&quot;: {&quot;coordinates&quot;: [103.81316375160503, 1.3147027130481663], &quot;type&quot;: &quot;Point&quot;}, &quot;id&quot;: &quot;204&quot;, &quot;properties&quot;: {}, &quot;type&quot;: &quot;Feature&quot;}, {&quot;bbox&quot;: [103.7756561060507, 1.4374637876731355, 103.7756561060507, 1.4374637876731355], &quot;geometry&quot;: {&quot;coordinates&quot;: [103.7756561060507, 1.4374637876731355], &quot;type&quot;: &quot;Point&quot;}, &quot;id&quot;: &quot;205&quot;, &quot;properties&quot;: {}, &quot;type&quot;: &quot;Feature&quot;}, {&quot;bbox&quot;: [103.78453565587142, 1.4386019837893727, 103.78453565587142, 1.4386019837893727], &quot;geometry&quot;: {&quot;coordinates&quot;: [103.78453565587142, 1.4386019837893727], &quot;type&quot;: &quot;Point&quot;}, &quot;id&quot;: &quot;206&quot;, &quot;properties&quot;: {}, &quot;type&quot;: &quot;Feature&quot;}, {&quot;bbox&quot;: [103.79666900747903, 1.451170252822946, 103.79666900747903, 1.451170252822946], &quot;geometry&quot;: {&quot;coordinates&quot;: [103.79666900747903, 1.451170252822946], &quot;type&quot;: &quot;Point&quot;}, &quot;id&quot;: &quot;207&quot;, &quot;properties&quot;: {}, &quot;type&quot;: &quot;Feature&quot;}, {&quot;bbox&quot;: [103.68971699803406, 1.3821414467883846, 103.68971699803406, 1.3821414467883846], &quot;geometry&quot;: {&quot;coordinates&quot;: [103.68971699803406, 1.3821414467883846], &quot;type&quot;: &quot;Point&quot;}, &quot;id&quot;: &quot;208&quot;, &quot;properties&quot;: {}, &quot;type&quot;: &quot;Feature&quot;}, {&quot;bbox&quot;: [103.9204288879125, 1.314779503558256, 103.9204288879125, 1.314779503558256], &quot;geometry&quot;: {&quot;coordinates&quot;: [103.9204288879125, 1.314779503558256], &quot;type&quot;: &quot;Point&quot;}, &quot;id&quot;: &quot;209&quot;, &quot;properties&quot;: {}, &quot;type&quot;: &quot;Feature&quot;}, {&quot;bbox&quot;: [103.92708817924608, 1.3065912235160653, 103.92708817924608, 1.3065912235160653], &quot;geometry&quot;: {&quot;coordinates&quot;: [103.92708817924608, 1.3065912235160653], &quot;type&quot;: &quot;Point&quot;}, &quot;id&quot;: &quot;210&quot;, &quot;properties&quot;: {}, &quot;type&quot;: &quot;Feature&quot;}, {&quot;bbox&quot;: [103.94864955747506, 1.3138402225173567, 103.94864955747506, 1.3138402225173567], &quot;geometry&quot;: {&quot;coordinates&quot;: [103.94864955747506, 1.3138402225173567], &quot;type&quot;: &quot;Point&quot;}, &quot;id&quot;: &quot;211&quot;, &quot;properties&quot;: {}, &quot;type&quot;: &quot;Feature&quot;}, {&quot;bbox&quot;: [103.83228399372955, 1.3576629064053272, 103.83228399372955, 1.3576629064053272], &quot;geometry&quot;: {&quot;coordinates&quot;: [103.83228399372955, 1.3576629064053272], &quot;type&quot;: &quot;Point&quot;}, &quot;id&quot;: &quot;212&quot;, &quot;properties&quot;: {}, &quot;type&quot;: &quot;Feature&quot;}, {&quot;bbox&quot;: [103.85301318133197, 1.3498220587326, 103.85301318133197, 1.3498220587326], &quot;geometry&quot;: {&quot;coordinates&quot;: [103.85301318133197, 1.3498220587326], &quot;type&quot;: &quot;Point&quot;}, &quot;id&quot;: &quot;213&quot;, &quot;properties&quot;: {}, &quot;type&quot;: &quot;Feature&quot;}, {&quot;bbox&quot;: [103.84488263114416, 1.354342780488953, 103.84488263114416, 1.354342780488953], &quot;geometry&quot;: {&quot;coordinates&quot;: [103.84488263114416, 1.354342780488953], &quot;type&quot;: &quot;Point&quot;}, &quot;id&quot;: &quot;214&quot;, &quot;properties&quot;: {}, &quot;type&quot;: &quot;Feature&quot;}, {&quot;bbox&quot;: [103.68929031170933, 1.3074915693865587, 103.68929031170933, 1.3074915693865587], &quot;geometry&quot;: {&quot;coordinates&quot;: [103.68929031170933, 1.3074915693865587], &quot;type&quot;: &quot;Point&quot;}, &quot;id&quot;: &quot;215&quot;, &quot;properties&quot;: {}, &quot;type&quot;: &quot;Feature&quot;}, {&quot;bbox&quot;: [103.70229447634269, 1.3080594250938087, 103.70229447634269, 1.3080594250938087], &quot;geometry&quot;: {&quot;coordinates&quot;: [103.70229447634269, 1.3080594250938087], &quot;type&quot;: &quot;Point&quot;}, &quot;id&quot;: &quot;216&quot;, &quot;properties&quot;: {}, &quot;type&quot;: &quot;Feature&quot;}, {&quot;bbox&quot;: [103.70924022051175, 1.325659345863639, 103.70924022051175, 1.325659345863639], &quot;geometry&quot;: {&quot;coordinates&quot;: [103.70924022051175, 1.325659345863639], &quot;type&quot;: &quot;Point&quot;}, &quot;id&quot;: &quot;217&quot;, &quot;properties&quot;: {}, &quot;type&quot;: &quot;Feature&quot;}, {&quot;bbox&quot;: [103.70823500561198, 1.3182586517764652, 103.70823500561198, 1.3182586517764652], &quot;geometry&quot;: {&quot;coordinates&quot;: [103.70823500561198, 1.3182586517764652], &quot;type&quot;: &quot;Point&quot;}, &quot;id&quot;: &quot;218&quot;, &quot;properties&quot;: {}, &quot;type&quot;: &quot;Feature&quot;}, {&quot;bbox&quot;: [103.75753706906308, 1.349136451535456, 103.75753706906308, 1.349136451535456], &quot;geometry&quot;: {&quot;coordinates&quot;: [103.75753706906308, 1.349136451535456], &quot;type&quot;: &quot;Point&quot;}, &quot;id&quot;: &quot;219&quot;, &quot;properties&quot;: {}, &quot;type&quot;: &quot;Feature&quot;}, {&quot;bbox&quot;: [103.74225446020387, 1.347475608561494, 103.74225446020387, 1.347475608561494], &quot;geometry&quot;: {&quot;coordinates&quot;: [103.74225446020387, 1.347475608561494], &quot;type&quot;: &quot;Point&quot;}, &quot;id&quot;: &quot;220&quot;, &quot;properties&quot;: {}, &quot;type&quot;: &quot;Feature&quot;}, {&quot;bbox&quot;: [103.7639149655907, 1.355646745359269, 103.7639149655907, 1.355646745359269], &quot;geometry&quot;: {&quot;coordinates&quot;: [103.7639149655907, 1.355646745359269], &quot;type&quot;: &quot;Point&quot;}, &quot;id&quot;: &quot;221&quot;, &quot;properties&quot;: {}, &quot;type&quot;: &quot;Feature&quot;}, {&quot;bbox&quot;: [103.75747526696333, 1.369284618291537, 103.75747526696333, 1.369284618291537], &quot;geometry&quot;: {&quot;coordinates&quot;: [103.75747526696333, 1.369284618291537], &quot;type&quot;: &quot;Point&quot;}, &quot;id&quot;: &quot;222&quot;, &quot;properties&quot;: {}, &quot;type&quot;: &quot;Feature&quot;}, {&quot;bbox&quot;: [103.753812021448, 1.3554639621001174, 103.753812021448, 1.3554639621001174], &quot;geometry&quot;: {&quot;coordinates&quot;: [103.753812021448, 1.3554639621001174], &quot;type&quot;: &quot;Point&quot;}, &quot;id&quot;: &quot;223&quot;, &quot;properties&quot;: {}, &quot;type&quot;: &quot;Feature&quot;}, {&quot;bbox&quot;: [103.75041327826303, 1.347994466252916, 103.75041327826303, 1.347994466252916], &quot;geometry&quot;: {&quot;coordinates&quot;: [103.75041327826303, 1.347994466252916], &quot;type&quot;: &quot;Point&quot;}, &quot;id&quot;: &quot;224&quot;, &quot;properties&quot;: {}, &quot;type&quot;: &quot;Feature&quot;}, {&quot;bbox&quot;: [103.74800378711386, 1.3627121368342108, 103.74800378711386, 1.3627121368342108], &quot;geometry&quot;: {&quot;coordinates&quot;: [103.74800378711386, 1.3627121368342108], &quot;type&quot;: &quot;Point&quot;}, &quot;id&quot;: &quot;225&quot;, &quot;properties&quot;: {}, &quot;type&quot;: &quot;Feature&quot;}, {&quot;bbox&quot;: [103.74221882008302, 1.3556566786941755, 103.74221882008302, 1.3556566786941755], &quot;geometry&quot;: {&quot;coordinates&quot;: [103.74221882008302, 1.3556566786941755], &quot;type&quot;: &quot;Point&quot;}, &quot;id&quot;: &quot;226&quot;, &quot;properties&quot;: {}, &quot;type&quot;: &quot;Feature&quot;}, {&quot;bbox&quot;: [103.84052790892883, 1.2971129640617642, 103.84052790892883, 1.2971129640617642], &quot;geometry&quot;: {&quot;coordinates&quot;: [103.84052790892883, 1.2971129640617642], &quot;type&quot;: &quot;Point&quot;}, &quot;id&quot;: &quot;227&quot;, &quot;properties&quot;: {}, &quot;type&quot;: &quot;Feature&quot;}, {&quot;bbox&quot;: [103.83750039748267, 1.2940158546006315, 103.83750039748267, 1.2940158546006315], &quot;geometry&quot;: {&quot;coordinates&quot;: [103.83750039748267, 1.2940158546006315], &quot;type&quot;: &quot;Point&quot;}, &quot;id&quot;: &quot;228&quot;, &quot;properties&quot;: {}, &quot;type&quot;: &quot;Feature&quot;}, {&quot;bbox&quot;: [103.83142341124565, 1.447498078128213, 103.83142341124565, 1.447498078128213], &quot;geometry&quot;: {&quot;coordinates&quot;: [103.83142341124565, 1.447498078128213], &quot;type&quot;: &quot;Point&quot;}, &quot;id&quot;: &quot;229&quot;, &quot;properties&quot;: {}, &quot;type&quot;: &quot;Feature&quot;}, {&quot;bbox&quot;: [103.76865588284882, 1.3262869201658198, 103.76865588284882, 1.3262869201658198], &quot;geometry&quot;: {&quot;coordinates&quot;: [103.76865588284882, 1.3262869201658198], &quot;type&quot;: &quot;Point&quot;}, &quot;id&quot;: &quot;230&quot;, &quot;properties&quot;: {}, &quot;type&quot;: &quot;Feature&quot;}, {&quot;bbox&quot;: [103.7630826299314, 1.3120696890182506, 103.7630826299314, 1.3120696890182506], &quot;geometry&quot;: {&quot;coordinates&quot;: [103.7630826299314, 1.3120696890182506], &quot;type&quot;: &quot;Point&quot;}, &quot;id&quot;: &quot;231&quot;, &quot;properties&quot;: {}, &quot;type&quot;: &quot;Feature&quot;}, {&quot;bbox&quot;: [103.75684866369166, 1.3219563624509025, 103.75684866369166, 1.3219563624509025], &quot;geometry&quot;: {&quot;coordinates&quot;: [103.75684866369166, 1.3219563624509025], &quot;type&quot;: &quot;Point&quot;}, &quot;id&quot;: &quot;232&quot;, &quot;properties&quot;: {}, &quot;type&quot;: &quot;Feature&quot;}, {&quot;bbox&quot;: [103.76621094653824, 1.318961091814195, 103.76621094653824, 1.318961091814195], &quot;geometry&quot;: {&quot;coordinates&quot;: [103.76621094653824, 1.318961091814195], &quot;type&quot;: &quot;Point&quot;}, &quot;id&quot;: &quot;233&quot;, &quot;properties&quot;: {}, &quot;type&quot;: &quot;Feature&quot;}, {&quot;bbox&quot;: [103.75508893937901, 1.3162741150584736, 103.75508893937901, 1.3162741150584736], &quot;geometry&quot;: {&quot;coordinates&quot;: [103.75508893937901, 1.3162741150584736], &quot;type&quot;: &quot;Point&quot;}, &quot;id&quot;: &quot;234&quot;, &quot;properties&quot;: {}, &quot;type&quot;: &quot;Feature&quot;}, {&quot;bbox&quot;: [103.84683310792556, 1.4097877546033803, 103.84683310792556, 1.4097877546033803], &quot;geometry&quot;: {&quot;coordinates&quot;: [103.84683310792556, 1.4097877546033803], &quot;type&quot;: &quot;Point&quot;}, &quot;id&quot;: &quot;235&quot;, &quot;properties&quot;: {}, &quot;type&quot;: &quot;Feature&quot;}, {&quot;bbox&quot;: [103.87590880620235, 1.3005938006056732, 103.87590880620235, 1.3005938006056732], &quot;geometry&quot;: {&quot;coordinates&quot;: [103.87590880620235, 1.3005938006056732], &quot;type&quot;: &quot;Point&quot;}, &quot;id&quot;: &quot;236&quot;, &quot;properties&quot;: {}, &quot;type&quot;: &quot;Feature&quot;}, {&quot;bbox&quot;: [103.77203037506614, 1.3684214185542007, 103.77203037506614, 1.3684214185542007], &quot;geometry&quot;: {&quot;coordinates&quot;: [103.77203037506614, 1.3684214185542007], &quot;type&quot;: &quot;Point&quot;}, &quot;id&quot;: &quot;237&quot;, &quot;properties&quot;: {}, &quot;type&quot;: &quot;Feature&quot;}, {&quot;bbox&quot;: [103.7660476225483, 1.3868366580435967, 103.7660476225483, 1.3868366580435967], &quot;geometry&quot;: {&quot;coordinates&quot;: [103.7660476225483, 1.3868366580435967], &quot;type&quot;: &quot;Point&quot;}, &quot;id&quot;: &quot;238&quot;, &quot;properties&quot;: {}, &quot;type&quot;: &quot;Feature&quot;}, {&quot;bbox&quot;: [103.76623589314505, 1.3759400800126957, 103.76623589314505, 1.3759400800126957], &quot;geometry&quot;: {&quot;coordinates&quot;: [103.76623589314505, 1.3759400800126957], &quot;type&quot;: &quot;Point&quot;}, &quot;id&quot;: &quot;239&quot;, &quot;properties&quot;: {}, &quot;type&quot;: &quot;Feature&quot;}, {&quot;bbox&quot;: [103.76024409292542, 1.3856655199828922, 103.76024409292542, 1.3856655199828922], &quot;geometry&quot;: {&quot;coordinates&quot;: [103.76024409292542, 1.3856655199828922], &quot;type&quot;: &quot;Point&quot;}, &quot;id&quot;: &quot;240&quot;, &quot;properties&quot;: {}, &quot;type&quot;: &quot;Feature&quot;}, {&quot;bbox&quot;: [103.79690787767457, 1.3169489315406842, 103.79690787767457, 1.3169489315406842], &quot;geometry&quot;: {&quot;coordinates&quot;: [103.79690787767457, 1.3169489315406842], &quot;type&quot;: &quot;Point&quot;}, &quot;id&quot;: &quot;241&quot;, &quot;properties&quot;: {}, &quot;type&quot;: &quot;Feature&quot;}, {&quot;bbox&quot;: [103.8051226854415, 1.3168406302053037, 103.8051226854415, 1.3168406302053037], &quot;geometry&quot;: {&quot;coordinates&quot;: [103.8051226854415, 1.3168406302053037], &quot;type&quot;: &quot;Point&quot;}, &quot;id&quot;: &quot;242&quot;, &quot;properties&quot;: {}, &quot;type&quot;: &quot;Feature&quot;}, {&quot;bbox&quot;: [103.78127445446364, 1.316325816648174, 103.78127445446364, 1.316325816648174], &quot;geometry&quot;: {&quot;coordinates&quot;: [103.78127445446364, 1.316325816648174], &quot;type&quot;: &quot;Point&quot;}, &quot;id&quot;: &quot;243&quot;, &quot;properties&quot;: {}, &quot;type&quot;: &quot;Feature&quot;}, {&quot;bbox&quot;: [103.76290740393473, 1.3999142999423517, 103.76290740393473, 1.3999142999423517], &quot;geometry&quot;: {&quot;coordinates&quot;: [103.76290740393473, 1.3999142999423517], &quot;type&quot;: &quot;Point&quot;}, &quot;id&quot;: &quot;244&quot;, &quot;properties&quot;: {}, &quot;type&quot;: &quot;Feature&quot;}, {&quot;bbox&quot;: [103.7706501904856, 1.3845274112668733, 103.7706501904856, 1.3845274112668733], &quot;geometry&quot;: {&quot;coordinates&quot;: [103.7706501904856, 1.3845274112668733], &quot;type&quot;: &quot;Point&quot;}, &quot;id&quot;: &quot;245&quot;, &quot;properties&quot;: {}, &quot;type&quot;: &quot;Feature&quot;}, {&quot;bbox&quot;: [103.83631589113597, 1.2749498064887526, 103.83631589113597, 1.2749498064887526], &quot;geometry&quot;: {&quot;coordinates&quot;: [103.83631589113597, 1.2749498064887526], &quot;type&quot;: &quot;Point&quot;}, &quot;id&quot;: &quot;246&quot;, &quot;properties&quot;: {}, &quot;type&quot;: &quot;Feature&quot;}, {&quot;bbox&quot;: [103.82460245666829, 1.2740334212607562, 103.82460245666829, 1.2740334212607562], &quot;geometry&quot;: {&quot;coordinates&quot;: [103.82460245666829, 1.2740334212607562], &quot;type&quot;: &quot;Point&quot;}, &quot;id&quot;: &quot;247&quot;, &quot;properties&quot;: {}, &quot;type&quot;: &quot;Feature&quot;}, {&quot;bbox&quot;: [103.75811879981828, 1.3410406214137431, 103.75811879981828, 1.3410406214137431], &quot;geometry&quot;: {&quot;coordinates&quot;: [103.75811879981828, 1.3410406214137431], &quot;type&quot;: &quot;Point&quot;}, &quot;id&quot;: &quot;248&quot;, &quot;properties&quot;: {}, &quot;type&quot;: &quot;Feature&quot;}, {&quot;bbox&quot;: [103.82682636099557, 1.2840299047502712, 103.82682636099557, 1.2840299047502712], &quot;geometry&quot;: {&quot;coordinates&quot;: [103.82682636099557, 1.2840299047502712], &quot;type&quot;: &quot;Point&quot;}, &quot;id&quot;: &quot;249&quot;, &quot;properties&quot;: {}, &quot;type&quot;: &quot;Feature&quot;}, {&quot;bbox&quot;: [103.81717555650181, 1.2876488819707004, 103.81717555650181, 1.2876488819707004], &quot;geometry&quot;: {&quot;coordinates&quot;: [103.81717555650181, 1.2876488819707004], &quot;type&quot;: &quot;Point&quot;}, &quot;id&quot;: &quot;250&quot;, &quot;properties&quot;: {}, &quot;type&quot;: &quot;Feature&quot;}, {&quot;bbox&quot;: [103.80888354720997, 1.2766540278613796, 103.80888354720997, 1.2766540278613796], &quot;geometry&quot;: {&quot;coordinates&quot;: [103.80888354720997, 1.2766540278613796], &quot;type&quot;: &quot;Point&quot;}, &quot;id&quot;: &quot;251&quot;, &quot;properties&quot;: {}, &quot;type&quot;: &quot;Feature&quot;}, {&quot;bbox&quot;: [103.8223948291239, 1.2869732464728796, 103.8223948291239, 1.2869732464728796], &quot;geometry&quot;: {&quot;coordinates&quot;: [103.8223948291239, 1.2869732464728796], &quot;type&quot;: &quot;Point&quot;}, &quot;id&quot;: &quot;252&quot;, &quot;properties&quot;: {}, &quot;type&quot;: &quot;Feature&quot;}, {&quot;bbox&quot;: [103.80958275370857, 1.2875033719188949, 103.80958275370857, 1.2875033719188949], &quot;geometry&quot;: {&quot;coordinates&quot;: [103.80958275370857, 1.2875033719188949], &quot;type&quot;: &quot;Point&quot;}, &quot;id&quot;: &quot;253&quot;, &quot;properties&quot;: {}, &quot;type&quot;: &quot;Feature&quot;}, {&quot;bbox&quot;: [103.82027976103377, 1.2922691873374277, 103.82027976103377, 1.2922691873374277], &quot;geometry&quot;: {&quot;coordinates&quot;: [103.82027976103377, 1.2922691873374277], &quot;type&quot;: &quot;Point&quot;}, &quot;id&quot;: &quot;254&quot;, &quot;properties&quot;: {}, &quot;type&quot;: &quot;Feature&quot;}, {&quot;bbox&quot;: [103.83463772045253, 1.2797241264167736, 103.83463772045253, 1.2797241264167736], &quot;geometry&quot;: {&quot;coordinates&quot;: [103.83463772045253, 1.2797241264167736], &quot;type&quot;: &quot;Point&quot;}, &quot;id&quot;: &quot;255&quot;, &quot;properties&quot;: {}, &quot;type&quot;: &quot;Feature&quot;}, {&quot;bbox&quot;: [103.8135512072563, 1.2686852177447445, 103.8135512072563, 1.2686852177447445], &quot;geometry&quot;: {&quot;coordinates&quot;: [103.8135512072563, 1.2686852177447445], &quot;type&quot;: &quot;Point&quot;}, &quot;id&quot;: &quot;256&quot;, &quot;properties&quot;: {}, &quot;type&quot;: &quot;Feature&quot;}, {&quot;bbox&quot;: [103.81858979265917, 1.2820141779425303, 103.81858979265917, 1.2820141779425303], &quot;geometry&quot;: {&quot;coordinates&quot;: [103.81858979265917, 1.2820141779425303], &quot;type&quot;: &quot;Point&quot;}, &quot;id&quot;: &quot;257&quot;, &quot;properties&quot;: {}, &quot;type&quot;: &quot;Feature&quot;}, {&quot;bbox&quot;: [103.77781300345714, 1.353473896655067, 103.77781300345714, 1.353473896655067], &quot;geometry&quot;: {&quot;coordinates&quot;: [103.77781300345714, 1.353473896655067], &quot;type&quot;: &quot;Point&quot;}, &quot;id&quot;: &quot;258&quot;, &quot;properties&quot;: {}, &quot;type&quot;: &quot;Feature&quot;}, {&quot;bbox&quot;: [103.7742990578821, 1.3771012406503813, 103.7742990578821, 1.3771012406503813], &quot;geometry&quot;: {&quot;coordinates&quot;: [103.7742990578821, 1.3771012406503813], &quot;type&quot;: &quot;Point&quot;}, &quot;id&quot;: &quot;259&quot;, &quot;properties&quot;: {}, &quot;type&quot;: &quot;Feature&quot;}, {&quot;bbox&quot;: [103.82515655610452, 1.4533908509270346, 103.82515655610452, 1.4533908509270346], &quot;geometry&quot;: {&quot;coordinates&quot;: [103.82515655610452, 1.4533908509270346], &quot;type&quot;: &quot;Point&quot;}, &quot;id&quot;: &quot;260&quot;, &quot;properties&quot;: {}, &quot;type&quot;: &quot;Feature&quot;}, {&quot;bbox&quot;: [103.82502629792772, 1.4409659032741342, 103.82502629792772, 1.4409659032741342], &quot;geometry&quot;: {&quot;coordinates&quot;: [103.82502629792772, 1.4409659032741342], &quot;type&quot;: &quot;Point&quot;}, &quot;id&quot;: &quot;261&quot;, &quot;properties&quot;: {}, &quot;type&quot;: &quot;Feature&quot;}, {&quot;bbox&quot;: [103.897689479572, 1.391589437017176, 103.897689479572, 1.391589437017176], &quot;geometry&quot;: {&quot;coordinates&quot;: [103.897689479572, 1.391589437017176], &quot;type&quot;: &quot;Point&quot;}, &quot;id&quot;: &quot;262&quot;, &quot;properties&quot;: {}, &quot;type&quot;: &quot;Feature&quot;}, {&quot;bbox&quot;: [103.88996544536008, 1.384898717493654, 103.88996544536008, 1.384898717493654], &quot;geometry&quot;: {&quot;coordinates&quot;: [103.88996544536008, 1.384898717493654], &quot;type&quot;: &quot;Point&quot;}, &quot;id&quot;: &quot;263&quot;, &quot;properties&quot;: {}, &quot;type&quot;: &quot;Feature&quot;}, {&quot;bbox&quot;: [103.88919629511551, 1.3944258352532413, 103.88919629511551, 1.3944258352532413], &quot;geometry&quot;: {&quot;coordinates&quot;: [103.88919629511551, 1.3944258352532413], &quot;type&quot;: &quot;Point&quot;}, &quot;id&quot;: &quot;264&quot;, &quot;properties&quot;: {}, &quot;type&quot;: &quot;Feature&quot;}, {&quot;bbox&quot;: [103.87776318666913, 1.3949100848110403, 103.87776318666913, 1.3949100848110403], &quot;geometry&quot;: {&quot;coordinates&quot;: [103.87776318666913, 1.3949100848110403], &quot;type&quot;: &quot;Point&quot;}, &quot;id&quot;: &quot;265&quot;, &quot;properties&quot;: {}, &quot;type&quot;: &quot;Feature&quot;}, {&quot;bbox&quot;: [103.86474222911589, 1.395685525736913, 103.86474222911589, 1.395685525736913], &quot;geometry&quot;: {&quot;coordinates&quot;: [103.86474222911589, 1.395685525736913], &quot;type&quot;: &quot;Point&quot;}, &quot;id&quot;: &quot;266&quot;, &quot;properties&quot;: {}, &quot;type&quot;: &quot;Feature&quot;}, {&quot;bbox&quot;: [103.86842656138963, 1.3746125282606725, 103.86842656138963, 1.3746125282606725], &quot;geometry&quot;: {&quot;coordinates&quot;: [103.86842656138963, 1.3746125282606725], &quot;type&quot;: &quot;Point&quot;}, &quot;id&quot;: &quot;267&quot;, &quot;properties&quot;: {}, &quot;type&quot;: &quot;Feature&quot;}, {&quot;bbox&quot;: [103.79256412655265, 1.285100716642173, 103.79256412655265, 1.285100716642173], &quot;geometry&quot;: {&quot;coordinates&quot;: [103.79256412655265, 1.285100716642173], &quot;type&quot;: &quot;Point&quot;}, &quot;id&quot;: &quot;268&quot;, &quot;properties&quot;: {}, &quot;type&quot;: &quot;Feature&quot;}, {&quot;bbox&quot;: [103.85408893882939, 1.37271112727227, 103.85408893882939, 1.37271112727227], &quot;geometry&quot;: {&quot;coordinates&quot;: [103.85408893882939, 1.37271112727227], &quot;type&quot;: &quot;Point&quot;}, &quot;id&quot;: &quot;269&quot;, &quot;properties&quot;: {}, &quot;type&quot;: &quot;Feature&quot;}, {&quot;bbox&quot;: [103.84849026463398, 1.3834896441550817, 103.84849026463398, 1.3834896441550817], &quot;geometry&quot;: {&quot;coordinates&quot;: [103.84849026463398, 1.3834896441550817], &quot;type&quot;: &quot;Point&quot;}, &quot;id&quot;: &quot;270&quot;, &quot;properties&quot;: {}, &quot;type&quot;: &quot;Feature&quot;}, {&quot;bbox&quot;: [103.82834143077585, 1.3868051669715706, 103.82834143077585, 1.3868051669715706], &quot;geometry&quot;: {&quot;coordinates&quot;: [103.82834143077585, 1.3868051669715706], &quot;type&quot;: &quot;Point&quot;}, &quot;id&quot;: &quot;271&quot;, &quot;properties&quot;: {}, &quot;type&quot;: &quot;Feature&quot;}, {&quot;bbox&quot;: [103.83961008503744, 1.3734668818697695, 103.83961008503744, 1.3734668818697695], &quot;geometry&quot;: {&quot;coordinates&quot;: [103.83961008503744, 1.3734668818697695], &quot;type&quot;: &quot;Point&quot;}, &quot;id&quot;: &quot;272&quot;, &quot;properties&quot;: {}, &quot;type&quot;: &quot;Feature&quot;}, {&quot;bbox&quot;: [103.85565259182516, 1.364264761559376, 103.85565259182516, 1.364264761559376], &quot;geometry&quot;: {&quot;coordinates&quot;: [103.85565259182516, 1.364264761559376], &quot;type&quot;: &quot;Point&quot;}, &quot;id&quot;: &quot;273&quot;, &quot;properties&quot;: {}, &quot;type&quot;: &quot;Feature&quot;}, {&quot;bbox&quot;: [103.84681301864413, 1.3727695764666623, 103.84681301864413, 1.3727695764666623], &quot;geometry&quot;: {&quot;coordinates&quot;: [103.84681301864413, 1.3727695764666623], &quot;type&quot;: &quot;Point&quot;}, &quot;id&quot;: &quot;274&quot;, &quot;properties&quot;: {}, &quot;type&quot;: &quot;Feature&quot;}, {&quot;bbox&quot;: [103.83076561470331, 1.3747147161168003, 103.83076561470331, 1.3747147161168003], &quot;geometry&quot;: {&quot;coordinates&quot;: [103.83076561470331, 1.3747147161168003], &quot;type&quot;: &quot;Point&quot;}, &quot;id&quot;: &quot;275&quot;, &quot;properties&quot;: {}, &quot;type&quot;: &quot;Feature&quot;}, {&quot;bbox&quot;: [103.84847259439127, 1.3653547009282578, 103.84847259439127, 1.3653547009282578], &quot;geometry&quot;: {&quot;coordinates&quot;: [103.84847259439127, 1.3653547009282578], &quot;type&quot;: &quot;Point&quot;}, &quot;id&quot;: &quot;276&quot;, &quot;properties&quot;: {}, &quot;type&quot;: &quot;Feature&quot;}, {&quot;bbox&quot;: [103.93601853525455, 1.3304270150583648, 103.93601853525455, 1.3304270150583648], &quot;geometry&quot;: {&quot;coordinates&quot;: [103.93601853525455, 1.3304270150583648], &quot;type&quot;: &quot;Point&quot;}, &quot;id&quot;: &quot;277&quot;, &quot;properties&quot;: {}, &quot;type&quot;: &quot;Feature&quot;}, {&quot;bbox&quot;: [103.91561979344296, 1.3248109288099699, 103.91561979344296, 1.3248109288099699], &quot;geometry&quot;: {&quot;coordinates&quot;: [103.91561979344296, 1.3248109288099699], &quot;type&quot;: &quot;Point&quot;}, &quot;id&quot;: &quot;278&quot;, &quot;properties&quot;: {}, &quot;type&quot;: &quot;Feature&quot;}, {&quot;bbox&quot;: [103.94455441283195, 1.3214431596795542, 103.94455441283195, 1.3214431596795542], &quot;geometry&quot;: {&quot;coordinates&quot;: [103.94455441283195, 1.3214431596795542], &quot;type&quot;: &quot;Point&quot;}, &quot;id&quot;: &quot;279&quot;, &quot;properties&quot;: {}, &quot;type&quot;: &quot;Feature&quot;}, {&quot;bbox&quot;: [103.9263292448462, 1.3400409314855872, 103.9263292448462, 1.3400409314855872], &quot;geometry&quot;: {&quot;coordinates&quot;: [103.9263292448462, 1.3400409314855872], &quot;type&quot;: &quot;Point&quot;}, &quot;id&quot;: &quot;280&quot;, &quot;properties&quot;: {}, &quot;type&quot;: &quot;Feature&quot;}, {&quot;bbox&quot;: [103.90956452831635, 1.335579874452197, 103.90956452831635, 1.335579874452197], &quot;geometry&quot;: {&quot;coordinates&quot;: [103.90956452831635, 1.335579874452197], &quot;type&quot;: &quot;Point&quot;}, &quot;id&quot;: &quot;281&quot;, &quot;properties&quot;: {}, &quot;type&quot;: &quot;Feature&quot;}, {&quot;bbox&quot;: [103.75488030985971, 1.3815515594188412, 103.75488030985971, 1.3815515594188412], &quot;geometry&quot;: {&quot;coordinates&quot;: [103.75488030985971, 1.3815515594188412], &quot;type&quot;: &quot;Point&quot;}, &quot;id&quot;: &quot;282&quot;, &quot;properties&quot;: {}, &quot;type&quot;: &quot;Feature&quot;}, {&quot;bbox&quot;: [103.74646476265116, 1.3754903129687617, 103.74646476265116, 1.3754903129687617], &quot;geometry&quot;: {&quot;coordinates&quot;: [103.74646476265116, 1.3754903129687617], &quot;type&quot;: &quot;Point&quot;}, &quot;id&quot;: &quot;283&quot;, &quot;properties&quot;: {}, &quot;type&quot;: &quot;Feature&quot;}, {&quot;bbox&quot;: [103.7479361878935, 1.4006830073328405, 103.7479361878935, 1.4006830073328405], &quot;geometry&quot;: {&quot;coordinates&quot;: [103.7479361878935, 1.4006830073328405], &quot;type&quot;: &quot;Point&quot;}, &quot;id&quot;: &quot;284&quot;, &quot;properties&quot;: {}, &quot;type&quot;: &quot;Feature&quot;}, {&quot;bbox&quot;: [103.74937587928494, 1.392621033445275, 103.74937587928494, 1.392621033445275], &quot;geometry&quot;: {&quot;coordinates&quot;: [103.74937587928494, 1.392621033445275], &quot;type&quot;: &quot;Point&quot;}, &quot;id&quot;: &quot;285&quot;, &quot;properties&quot;: {}, &quot;type&quot;: &quot;Feature&quot;}, {&quot;bbox&quot;: [103.74764537984689, 1.385000742100771, 103.74764537984689, 1.385000742100771], &quot;geometry&quot;: {&quot;coordinates&quot;: [103.74764537984689, 1.385000742100771], &quot;type&quot;: &quot;Point&quot;}, &quot;id&quot;: &quot;286&quot;, &quot;properties&quot;: {}, &quot;type&quot;: &quot;Feature&quot;}, {&quot;bbox&quot;: [103.74335593093564, 1.3922011668832475, 103.74335593093564, 1.3922011668832475], &quot;geometry&quot;: {&quot;coordinates&quot;: [103.74335593093564, 1.3922011668832475], &quot;type&quot;: &quot;Point&quot;}, &quot;id&quot;: &quot;287&quot;, &quot;properties&quot;: {}, &quot;type&quot;: &quot;Feature&quot;}, {&quot;bbox&quot;: [103.73863640926467, 1.379338462435966, 103.73863640926467, 1.379338462435966], &quot;geometry&quot;: {&quot;coordinates&quot;: [103.73863640926467, 1.379338462435966], &quot;type&quot;: &quot;Point&quot;}, &quot;id&quot;: &quot;288&quot;, &quot;properties&quot;: {}, &quot;type&quot;: &quot;Feature&quot;}, {&quot;bbox&quot;: [103.75450340556398, 1.308070096373487, 103.75450340556398, 1.308070096373487], &quot;geometry&quot;: {&quot;coordinates&quot;: [103.75450340556398, 1.308070096373487], &quot;type&quot;: &quot;Point&quot;}, &quot;id&quot;: &quot;289&quot;, &quot;properties&quot;: {}, &quot;type&quot;: &quot;Feature&quot;}, {&quot;bbox&quot;: [103.75634025596639, 1.3317540049700005, 103.75634025596639, 1.3317540049700005], &quot;geometry&quot;: {&quot;coordinates&quot;: [103.75634025596639, 1.3317540049700005], &quot;type&quot;: &quot;Point&quot;}, &quot;id&quot;: &quot;290&quot;, &quot;properties&quot;: {}, &quot;type&quot;: &quot;Feature&quot;}, {&quot;bbox&quot;: [103.76309252587441, 1.3025213613981015, 103.76309252587441, 1.3025213613981015], &quot;geometry&quot;: {&quot;coordinates&quot;: [103.76309252587441, 1.3025213613981015], &quot;type&quot;: &quot;Point&quot;}, &quot;id&quot;: &quot;291&quot;, &quot;properties&quot;: {}, &quot;type&quot;: &quot;Feature&quot;}, {&quot;bbox&quot;: [103.7685932183672, 1.3054818515531963, 103.7685932183672, 1.3054818515531963], &quot;geometry&quot;: {&quot;coordinates&quot;: [103.7685932183672, 1.3054818515531963], &quot;type&quot;: &quot;Point&quot;}, &quot;id&quot;: &quot;292&quot;, &quot;properties&quot;: {}, &quot;type&quot;: &quot;Feature&quot;}, {&quot;bbox&quot;: [103.78376725507972, 1.3270574271935627, 103.78376725507972, 1.3270574271935627], &quot;geometry&quot;: {&quot;coordinates&quot;: [103.78376725507972, 1.3270574271935627], &quot;type&quot;: &quot;Point&quot;}, &quot;id&quot;: &quot;293&quot;, &quot;properties&quot;: {}, &quot;type&quot;: &quot;Feature&quot;}, {&quot;bbox&quot;: [103.8015384164759, 1.3255698040616188, 103.8015384164759, 1.3255698040616188], &quot;geometry&quot;: {&quot;coordinates&quot;: [103.8015384164759, 1.3255698040616188], &quot;type&quot;: &quot;Point&quot;}, &quot;id&quot;: &quot;294&quot;, &quot;properties&quot;: {}, &quot;type&quot;: &quot;Feature&quot;}, {&quot;bbox&quot;: [103.79230484822891, 1.3406366917973522, 103.79230484822891, 1.3406366917973522], &quot;geometry&quot;: {&quot;coordinates&quot;: [103.79230484822891, 1.3406366917973522], &quot;type&quot;: &quot;Point&quot;}, &quot;id&quot;: &quot;295&quot;, &quot;properties&quot;: {}, &quot;type&quot;: &quot;Feature&quot;}, {&quot;bbox&quot;: [103.77156509131723, 1.3378840826832452, 103.77156509131723, 1.3378840826832452], &quot;geometry&quot;: {&quot;coordinates&quot;: [103.77156509131723, 1.3378840826832452], &quot;type&quot;: &quot;Point&quot;}, &quot;id&quot;: &quot;296&quot;, &quot;properties&quot;: {}, &quot;type&quot;: &quot;Feature&quot;}, {&quot;bbox&quot;: [103.80822114656142, 1.3331618744838143, 103.80822114656142, 1.3331618744838143], &quot;geometry&quot;: {&quot;coordinates&quot;: [103.80822114656142, 1.3331618744838143], &quot;type&quot;: &quot;Point&quot;}, &quot;id&quot;: &quot;297&quot;, &quot;properties&quot;: {}, &quot;type&quot;: &quot;Feature&quot;}, {&quot;bbox&quot;: [103.80119003006067, 1.3766556907092196, 103.80119003006067, 1.3766556907092196], &quot;geometry&quot;: {&quot;coordinates&quot;: [103.80119003006067, 1.3766556907092196], &quot;type&quot;: &quot;Point&quot;}, &quot;id&quot;: &quot;298&quot;, &quot;properties&quot;: {}, &quot;type&quot;: &quot;Feature&quot;}, {&quot;bbox&quot;: [103.98251500826048, 1.3903187052175483, 103.98251500826048, 1.3903187052175483], &quot;geometry&quot;: {&quot;coordinates&quot;: [103.98251500826048, 1.3903187052175483], &quot;type&quot;: &quot;Point&quot;}, &quot;id&quot;: &quot;299&quot;, &quot;properties&quot;: {}, &quot;type&quot;: &quot;Feature&quot;}, {&quot;bbox&quot;: [104.0261155095621, 1.3271844421453045, 104.0261155095621, 1.3271844421453045], &quot;geometry&quot;: {&quot;coordinates&quot;: [104.0261155095621, 1.3271844421453045], &quot;type&quot;: &quot;Point&quot;}, &quot;id&quot;: &quot;300&quot;, &quot;properties&quot;: {}, &quot;type&quot;: &quot;Feature&quot;}, {&quot;bbox&quot;: [103.8339485935496, 1.323129586423591, 103.8339485935496, 1.323129586423591], &quot;geometry&quot;: {&quot;coordinates&quot;: [103.8339485935496, 1.323129586423591], &quot;type&quot;: &quot;Point&quot;}, &quot;id&quot;: &quot;301&quot;, &quot;properties&quot;: {}, &quot;type&quot;: &quot;Feature&quot;}, {&quot;bbox&quot;: [103.85971868367989, 1.2918508006295684, 103.85971868367989, 1.2918508006295684], &quot;geometry&quot;: {&quot;coordinates&quot;: [103.85971868367989, 1.2918508006295684], &quot;type&quot;: &quot;Point&quot;}, &quot;id&quot;: &quot;302&quot;, &quot;properties&quot;: {}, &quot;type&quot;: &quot;Feature&quot;}, {&quot;bbox&quot;: [103.8591466658817, 1.310821519904058, 103.8591466658817, 1.310821519904058], &quot;geometry&quot;: {&quot;coordinates&quot;: [103.8591466658817, 1.310821519904058], &quot;type&quot;: &quot;Point&quot;}, &quot;id&quot;: &quot;303&quot;, &quot;properties&quot;: {}, &quot;type&quot;: &quot;Feature&quot;}, {&quot;bbox&quot;: [103.8723107019238, 1.2885643402606122, 103.8723107019238, 1.2885643402606122], &quot;geometry&quot;: {&quot;coordinates&quot;: [103.8723107019238, 1.2885643402606122], &quot;type&quot;: &quot;Point&quot;}, &quot;id&quot;: &quot;304&quot;, &quot;properties&quot;: {}, &quot;type&quot;: &quot;Feature&quot;}, {&quot;bbox&quot;: [103.82896382526243, 1.3338280021273712, 103.82896382526243, 1.3338280021273712], &quot;geometry&quot;: {&quot;coordinates&quot;: [103.82896382526243, 1.3338280021273712], &quot;type&quot;: &quot;Point&quot;}, &quot;id&quot;: &quot;305&quot;, &quot;properties&quot;: {}, &quot;type&quot;: &quot;Feature&quot;}, {&quot;bbox&quot;: [103.8244881441306, 1.3137088901931673, 103.8244881441306, 1.3137088901931673], &quot;geometry&quot;: {&quot;coordinates&quot;: [103.8244881441306, 1.3137088901931673], &quot;type&quot;: &quot;Point&quot;}, &quot;id&quot;: &quot;306&quot;, &quot;properties&quot;: {}, &quot;type&quot;: &quot;Feature&quot;}, {&quot;bbox&quot;: [103.82005811381052, 1.3261881096287367, 103.82005811381052, 1.3261881096287367], &quot;geometry&quot;: {&quot;coordinates&quot;: [103.82005811381052, 1.3261881096287367], &quot;type&quot;: &quot;Point&quot;}, &quot;id&quot;: &quot;307&quot;, &quot;properties&quot;: {}, &quot;type&quot;: &quot;Feature&quot;}, {&quot;bbox&quot;: [103.81131576250459, 1.3032899688050594, 103.81131576250459, 1.3032899688050594], &quot;geometry&quot;: {&quot;coordinates&quot;: [103.81131576250459, 1.3032899688050594], &quot;type&quot;: &quot;Point&quot;}, &quot;id&quot;: &quot;308&quot;, &quot;properties&quot;: {}, &quot;type&quot;: &quot;Feature&quot;}, {&quot;bbox&quot;: [103.84281767106428, 1.3176438622258073, 103.84281767106428, 1.3176438622258073], &quot;geometry&quot;: {&quot;coordinates&quot;: [103.84281767106428, 1.3176438622258073], &quot;type&quot;: &quot;Point&quot;}, &quot;id&quot;: &quot;309&quot;, &quot;properties&quot;: {}, &quot;type&quot;: &quot;Feature&quot;}, {&quot;bbox&quot;: [103.85877757105028, 1.2712406097877922, 103.85877757105028, 1.2712406097877922], &quot;geometry&quot;: {&quot;coordinates&quot;: [103.85877757105028, 1.2712406097877922], &quot;type&quot;: &quot;Point&quot;}, &quot;id&quot;: &quot;310&quot;, &quot;properties&quot;: {}, &quot;type&quot;: &quot;Feature&quot;}], &quot;type&quot;: &quot;FeatureCollection&quot;});\n",
       "\n",
       "        \n",
       "&lt;/script&gt;\" style=\"position:absolute;width:100%;height:100%;left:0;top:0;border:none !important;\" allowfullscreen webkitallowfullscreen mozallowfullscreen></iframe></div></div>"
      ],
      "text/plain": [
       "<folium.folium.Map at 0x1c263e8a680>"
      ]
     },
     "execution_count": 47,
     "metadata": {},
     "output_type": "execute_result"
    }
   ],
   "source": [
    "df[\"centroid\"] = df.geometry.centroid\n",
    "df[\"centroid\"].explore()"
   ]
  },
  {
   "cell_type": "code",
   "execution_count": null,
   "metadata": {},
   "outputs": [],
   "source": [
    "df2 = df.to_crs({'init': 'epsg:4326'})\n",
    "df2['centroid'] = df[\"centroid\"].to_crs({'init': 'epsg:4326'})\n",
    "df2"
   ]
  },
  {
   "cell_type": "code",
   "execution_count": null,
   "metadata": {},
   "outputs": [],
   "source": [
    "# Amenities\n",
    "activesg = activesg.to_crs({'init': 'epsg:4326'})\n",
    "bus_stops = bus_stops.to_crs({'init': 'epsg:4326'})\n",
    "hawkercentres = hawkercentres.to_crs({'init': 'epsg:4326'})\n",
    "malls = malls.to_crs({'init': 'epsg:4326'})\n",
    "parks = parks.to_crs({'init': 'epsg:4326'})\n",
    "schools = schools.to_crs({'init': 'epsg:4326'})"
   ]
  },
  {
   "cell_type": "code",
   "execution_count": 62,
   "metadata": {},
   "outputs": [
    {
     "data": {
      "text/plain": [
       "(15, 6.0)"
      ]
     },
     "execution_count": 62,
     "metadata": {},
     "output_type": "execute_result"
    }
   ],
   "source": [
    "origins = [(1.306250, 103.771890)]\n",
    "mallsIter = (len(malls)%24, ((len(malls)-len(malls)%24)/24))\n",
    "mallsIter\n",
    "schools[\"latlong\"] = tuple(zip(schools.LATITUDE, schools.LONGITUDE))\n",
    "allschools = list(schools.latlong)\n",
    "allschoolsFirst20 = allschools[0:20]"
   ]
  },
  {
   "cell_type": "code",
   "execution_count": 72,
   "metadata": {},
   "outputs": [],
   "source": [
    "from math import remainder\n",
    "\n",
    "\n",
    "def AccessScorer(start, amenity):\n",
    "    result = gmaps.distance_matrix(start,\n",
    "                                     destinations = amenity,\n",
    "                                     mode=\"transit\",\n",
    "                                     departure_time=now)\n",
    "    sum = 0\n",
    "    for i in range(len(result[\"rows\"][0][\"elements\"])-1):\n",
    "        sum += result[\"rows\"][0][\"elements\"][i]['duration']['value']\n",
    "    print(str(round(sum/len(result[\"rows\"][0][\"elements\"])/60, 2))+'min')\n",
    "\n",
    "# AccessScorer(\"Singapore Mangament University, Singapore\", allschoolsFirst20)\n",
    "\n",
    "def allscore(index, subzones, skip, ammenities):\n",
    "    malls, hawkercentres, schools = ammenities[0], ammenities[1], ammenities[2]\n",
    "    malls = malls.loc[[i for i in range(0,len(malls),skip)]]\n",
    "    malls[\"latlong\"] = tuple(zip(malls.geometry.x, malls.geometry.y))\n",
    "    hawkercentres = hawkercentres.loc[[i for i in range(0,len(malls),skip)]]\n",
    "    hawkercentres[\"latlong\"] = tuple(zip(hawkercentres.geometry.x, hawkercentres.geometry.y))\n",
    "    schools = schools.loc[[i for i in range(0,len(malls),skip)]]\n",
    "    schools[\"latlong\"] = tuple(zip(schools.geometry.x, schools.geometry.y))\n",
    "    mallsIter = (len(malls)%24, ((len(malls)-len(malls)%24)/24))\n",
    "    hawkercentresIter = (len(hawkercentres)%24, ((len(hawkercentres)-len(hawkercentres)%24)/24))\n",
    "    schoolsIter = (len(schools)%24, ((len(schools)-len(schools)%24)/24))\n",
    "    subzones = subzones.loc[index]\n",
    "    def calc(subzones, ammenity, ammenityIter):\n",
    "        subzones['access'] = 0\n",
    "        total = 0\n",
    "        for i in range(0, ammenityIter[0]+2):\n",
    "            if i !=  ammenityIter[0] + 1:\n",
    "                curAmmenity = ammenity.loc[i in range(i*24,i*24 + 24)]\n",
    "                for i in range(0,len(subzones)):\n",
    "                    subzones.loc['access',i] = AccessScorer([i.geometry.y, i.geomtry.x], )\n",
    "            else:\n",
    "                curAmmenity = ammenity.loc[i in range(i*24,i*24 + ammenityIter[0])]\n",
    "                for i in range(0,len(subzones)):\n",
    "                    subzones.loc['access',i] = AccessScorer([i.geometry.y, i.geomtry.x], )\n",
    "        return\n",
    "    \n",
    "ammenities = [malls, hawkercentres, schools]\n",
    "ans = allscore([1,2,3,4,5], subzones, 5, ammenities)\n",
    "ans\n"
   ]
  },
  {
   "cell_type": "code",
   "execution_count": 73,
   "metadata": {},
   "outputs": [],
   "source": [
    "ans"
   ]
  }
 ],
 "metadata": {
  "kernelspec": {
   "display_name": "Python 3.10.6 64-bit",
   "language": "python",
   "name": "python3"
  },
  "language_info": {
   "codemirror_mode": {
    "name": "ipython",
    "version": 3
   },
   "file_extension": ".py",
   "mimetype": "text/x-python",
   "name": "python",
   "nbconvert_exporter": "python",
   "pygments_lexer": "ipython3",
   "version": "3.10.6"
  },
  "orig_nbformat": 4,
  "vscode": {
   "interpreter": {
    "hash": "26de051ba29f2982a8de78e945f0abaf191376122a1563185a90213a26c5da77"
   }
  }
 },
 "nbformat": 4,
 "nbformat_minor": 2
}
