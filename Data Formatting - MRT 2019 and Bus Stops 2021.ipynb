{
 "cells": [
  {
   "cell_type": "code",
   "execution_count": 16,
   "metadata": {},
   "outputs": [
    {
     "ename": "AttributeError",
     "evalue": "partially initialized module 'fiona' has no attribute '_loading' (most likely due to a circular import)",
     "output_type": "error",
     "traceback": [
      "\u001b[0;31m---------------------------------------------------------------------------\u001b[0m",
      "\u001b[0;31mAttributeError\u001b[0m                            Traceback (most recent call last)",
      "Cell \u001b[0;32mIn [16], line 1\u001b[0m\n\u001b[0;32m----> 1\u001b[0m \u001b[38;5;28;01mimport\u001b[39;00m \u001b[38;5;21;01mfiona\u001b[39;00m\n",
      "File \u001b[0;32m/Library/Frameworks/Python.framework/Versions/3.10/lib/python3.10/site-packages/fiona/__init__.py:85\u001b[0m\n\u001b[1;32m     82\u001b[0m     os\u001b[39m.\u001b[39menviron[\u001b[39m\"\u001b[39m\u001b[39mPATH\u001b[39m\u001b[39m\"\u001b[39m] \u001b[39m=\u001b[39m os\u001b[39m.\u001b[39menviron[\u001b[39m\"\u001b[39m\u001b[39mPATH\u001b[39m\u001b[39m\"\u001b[39m] \u001b[39m+\u001b[39m \u001b[39m\"\u001b[39m\u001b[39m;\u001b[39m\u001b[39m\"\u001b[39m \u001b[39m+\u001b[39m libdir\n\u001b[1;32m     84\u001b[0m \u001b[39mimport\u001b[39;00m \u001b[39mfiona\u001b[39;00m\u001b[39m.\u001b[39;00m\u001b[39m_loading\u001b[39;00m\n\u001b[0;32m---> 85\u001b[0m \u001b[39mwith\u001b[39;00m fiona\u001b[39m.\u001b[39;49m_loading\u001b[39m.\u001b[39madd_gdal_dll_directories():\n\u001b[1;32m     86\u001b[0m     \u001b[39mfrom\u001b[39;00m \u001b[39mfiona\u001b[39;00m\u001b[39m.\u001b[39;00m\u001b[39mcollection\u001b[39;00m \u001b[39mimport\u001b[39;00m BytesCollection, Collection\n\u001b[1;32m     87\u001b[0m     \u001b[39mfrom\u001b[39;00m \u001b[39mfiona\u001b[39;00m\u001b[39m.\u001b[39;00m\u001b[39mdrvsupport\u001b[39;00m \u001b[39mimport\u001b[39;00m supported_drivers\n",
      "\u001b[0;31mAttributeError\u001b[0m: partially initialized module 'fiona' has no attribute '_loading' (most likely due to a circular import)"
     ]
    }
   ],
   "source": [
    "import fiona"
   ]
  },
  {
   "cell_type": "code",
   "execution_count": 11,
   "metadata": {},
   "outputs": [],
   "source": [
    "# Data processing\n",
    "import numpy as np\n",
    "import pandas as pd\n",
    "import geopandas as gpd\n",
    "\n",
    "# Visualisation\n",
    "import matplotlib\n",
    "from ipyleaflet import Map, GeoData, basemaps, LayersControl\n",
    "import seaborn\n",
    "import folium\n",
    "import mapclassify"
   ]
  },
  {
   "cell_type": "code",
   "execution_count": 4,
   "metadata": {},
   "outputs": [
    {
     "data": {
      "text/html": [
       "<div>\n",
       "<style scoped>\n",
       "    .dataframe tbody tr th:only-of-type {\n",
       "        vertical-align: middle;\n",
       "    }\n",
       "\n",
       "    .dataframe tbody tr th {\n",
       "        vertical-align: top;\n",
       "    }\n",
       "\n",
       "    .dataframe thead th {\n",
       "        text-align: right;\n",
       "    }\n",
       "</style>\n",
       "<table border=\"1\" class=\"dataframe\">\n",
       "  <thead>\n",
       "    <tr style=\"text-align: right;\">\n",
       "      <th></th>\n",
       "      <th>OBJECTID</th>\n",
       "      <th>STN_NAME</th>\n",
       "      <th>STN_NO</th>\n",
       "      <th>X</th>\n",
       "      <th>Y</th>\n",
       "      <th>Latitude</th>\n",
       "      <th>Longitude</th>\n",
       "      <th>COLOR</th>\n",
       "    </tr>\n",
       "  </thead>\n",
       "  <tbody>\n",
       "    <tr>\n",
       "      <th>0</th>\n",
       "      <td>12</td>\n",
       "      <td>ADMIRALTY MRT STATION</td>\n",
       "      <td>NS10</td>\n",
       "      <td>24402.1063</td>\n",
       "      <td>46918.1131</td>\n",
       "      <td>1.440585</td>\n",
       "      <td>103.800998</td>\n",
       "      <td>RED</td>\n",
       "    </tr>\n",
       "    <tr>\n",
       "      <th>1</th>\n",
       "      <td>16</td>\n",
       "      <td>ALJUNIED MRT STATION</td>\n",
       "      <td>EW9</td>\n",
       "      <td>33518.6049</td>\n",
       "      <td>33190.0020</td>\n",
       "      <td>1.316433</td>\n",
       "      <td>103.882893</td>\n",
       "      <td>GREEN</td>\n",
       "    </tr>\n",
       "    <tr>\n",
       "      <th>2</th>\n",
       "      <td>33</td>\n",
       "      <td>ANG MO KIO MRT STATION</td>\n",
       "      <td>NS16</td>\n",
       "      <td>29807.2655</td>\n",
       "      <td>39105.7720</td>\n",
       "      <td>1.369933</td>\n",
       "      <td>103.849553</td>\n",
       "      <td>RED</td>\n",
       "    </tr>\n",
       "    <tr>\n",
       "      <th>3</th>\n",
       "      <td>81</td>\n",
       "      <td>BAKAU LRT STATION</td>\n",
       "      <td>SE3</td>\n",
       "      <td>36026.0821</td>\n",
       "      <td>41113.8766</td>\n",
       "      <td>1.388093</td>\n",
       "      <td>103.905418</td>\n",
       "      <td>OTHERS</td>\n",
       "    </tr>\n",
       "    <tr>\n",
       "      <th>4</th>\n",
       "      <td>80</td>\n",
       "      <td>BANGKIT LRT STATION</td>\n",
       "      <td>BP9</td>\n",
       "      <td>21248.2460</td>\n",
       "      <td>40220.9693</td>\n",
       "      <td>1.380018</td>\n",
       "      <td>103.772667</td>\n",
       "      <td>OTHERS</td>\n",
       "    </tr>\n",
       "  </tbody>\n",
       "</table>\n",
       "</div>"
      ],
      "text/plain": [
       "   OBJECTID                STN_NAME STN_NO           X           Y  Latitude  \\\n",
       "0        12   ADMIRALTY MRT STATION   NS10  24402.1063  46918.1131  1.440585   \n",
       "1        16    ALJUNIED MRT STATION    EW9  33518.6049  33190.0020  1.316433   \n",
       "2        33  ANG MO KIO MRT STATION   NS16  29807.2655  39105.7720  1.369933   \n",
       "3        81       BAKAU LRT STATION    SE3  36026.0821  41113.8766  1.388093   \n",
       "4        80     BANGKIT LRT STATION    BP9  21248.2460  40220.9693  1.380018   \n",
       "\n",
       "    Longitude   COLOR  \n",
       "0  103.800998     RED  \n",
       "1  103.882893   GREEN  \n",
       "2  103.849553     RED  \n",
       "3  103.905418  OTHERS  \n",
       "4  103.772667  OTHERS  "
      ]
     },
     "execution_count": 4,
     "metadata": {},
     "output_type": "execute_result"
    }
   ],
   "source": [
    "# Reading CSV as Pandas dataframe\n",
    "mrtsg = pd.read_csv('Data Sources/1_data/mrt-sg-2019/mrtsg.csv')\n",
    "mrtsg.head()"
   ]
  },
  {
   "cell_type": "code",
   "execution_count": 5,
   "metadata": {},
   "outputs": [],
   "source": [
    "#import relevant files\n",
    "import requests\n",
    "\n"
   ]
  },
  {
   "cell_type": "code",
   "execution_count": 6,
   "metadata": {},
   "outputs": [
    {
     "data": {
      "text/html": [
       "<div>\n",
       "<style scoped>\n",
       "    .dataframe tbody tr th:only-of-type {\n",
       "        vertical-align: middle;\n",
       "    }\n",
       "\n",
       "    .dataframe tbody tr th {\n",
       "        vertical-align: top;\n",
       "    }\n",
       "\n",
       "    .dataframe thead th {\n",
       "        text-align: right;\n",
       "    }\n",
       "</style>\n",
       "<table border=\"1\" class=\"dataframe\">\n",
       "  <thead>\n",
       "    <tr style=\"text-align: right;\">\n",
       "      <th></th>\n",
       "      <th>id</th>\n",
       "      <th>name</th>\n",
       "      <th>latitude</th>\n",
       "      <th>longitude</th>\n",
       "    </tr>\n",
       "  </thead>\n",
       "  <tbody>\n",
       "    <tr>\n",
       "      <th>0</th>\n",
       "      <td>10009</td>\n",
       "      <td>Bt Merah Int</td>\n",
       "      <td>1.2821</td>\n",
       "      <td>103.81722</td>\n",
       "    </tr>\n",
       "    <tr>\n",
       "      <th>1</th>\n",
       "      <td>10011</td>\n",
       "      <td>Bef Neil Rd</td>\n",
       "      <td>1.27774</td>\n",
       "      <td>103.8375</td>\n",
       "    </tr>\n",
       "    <tr>\n",
       "      <th>2</th>\n",
       "      <td>10017</td>\n",
       "      <td>Aft Hosp Dr</td>\n",
       "      <td>1.27832</td>\n",
       "      <td>103.83763</td>\n",
       "    </tr>\n",
       "    <tr>\n",
       "      <th>3</th>\n",
       "      <td>10018</td>\n",
       "      <td>Outram Pk Stn Exit F/SGH</td>\n",
       "      <td>1.27901</td>\n",
       "      <td>103.8386</td>\n",
       "    </tr>\n",
       "    <tr>\n",
       "      <th>4</th>\n",
       "      <td>10021</td>\n",
       "      <td>Blk 3</td>\n",
       "      <td>1.27745</td>\n",
       "      <td>103.83839</td>\n",
       "    </tr>\n",
       "  </tbody>\n",
       "</table>\n",
       "</div>"
      ],
      "text/plain": [
       "      id                      name latitude  longitude\n",
       "0  10009              Bt Merah Int   1.2821  103.81722\n",
       "1  10011               Bef Neil Rd  1.27774   103.8375\n",
       "2  10017               Aft Hosp Dr  1.27832  103.83763\n",
       "3  10018  Outram Pk Stn Exit F/SGH  1.27901   103.8386\n",
       "4  10021                     Blk 3  1.27745  103.83839"
      ]
     },
     "execution_count": 6,
     "metadata": {},
     "output_type": "execute_result"
    }
   ],
   "source": [
    "#file obtained from https://observablehq.com/@cheeaun/list-of-bus-stops-in-singapore\n",
    "#last updated 29 May 2021\n",
    "\n",
    "#read from json file\n",
    "resp = requests.get('https://data.busrouter.sg/v1/stops.min.json')\n",
    "txt = resp.json()\n",
    "\n",
    "#convert to dataframe\n",
    "busstopssg = pd.DataFrame(txt)\n",
    "\n",
    "#transpose columns and rows\n",
    "busstopssg = busstopssg.T\n",
    "#change IDs from index to first column\n",
    "busstopssg.reset_index(inplace=True)\n",
    "#rename columns\n",
    "busstopssg.columns = ['id','longitude', 'latitude', 'name']\n",
    "#reorder columns\n",
    "busstopssg = busstopssg[['id','name','latitude','longitude']]\n",
    "busstopssg.head()"
   ]
  },
  {
   "cell_type": "code",
   "execution_count": 7,
   "metadata": {},
   "outputs": [
    {
     "data": {
      "text/html": [
       "<div>\n",
       "<style scoped>\n",
       "    .dataframe tbody tr th:only-of-type {\n",
       "        vertical-align: middle;\n",
       "    }\n",
       "\n",
       "    .dataframe tbody tr th {\n",
       "        vertical-align: top;\n",
       "    }\n",
       "\n",
       "    .dataframe thead th {\n",
       "        text-align: right;\n",
       "    }\n",
       "</style>\n",
       "<table border=\"1\" class=\"dataframe\">\n",
       "  <thead>\n",
       "    <tr style=\"text-align: right;\">\n",
       "      <th></th>\n",
       "      <th>id</th>\n",
       "      <th>name</th>\n",
       "      <th>latitude</th>\n",
       "      <th>longitude</th>\n",
       "    </tr>\n",
       "  </thead>\n",
       "  <tbody>\n",
       "  </tbody>\n",
       "</table>\n",
       "</div>"
      ],
      "text/plain": [
       "Empty DataFrame\n",
       "Columns: [id, name, latitude, longitude]\n",
       "Index: []"
      ]
     },
     "execution_count": 7,
     "metadata": {},
     "output_type": "execute_result"
    }
   ],
   "source": [
    "#no duplicates\n",
    "busstopssg[busstopssg.duplicated(subset = \"id\")]"
   ]
  },
  {
   "cell_type": "code",
   "execution_count": 8,
   "metadata": {},
   "outputs": [
    {
     "data": {
      "text/html": [
       "<div>\n",
       "<style scoped>\n",
       "    .dataframe tbody tr th:only-of-type {\n",
       "        vertical-align: middle;\n",
       "    }\n",
       "\n",
       "    .dataframe tbody tr th {\n",
       "        vertical-align: top;\n",
       "    }\n",
       "\n",
       "    .dataframe thead th {\n",
       "        text-align: right;\n",
       "    }\n",
       "</style>\n",
       "<table border=\"1\" class=\"dataframe\">\n",
       "  <thead>\n",
       "    <tr style=\"text-align: right;\">\n",
       "      <th></th>\n",
       "      <th>OBJECTID</th>\n",
       "      <th>STN_NAME</th>\n",
       "      <th>STN_NO</th>\n",
       "      <th>X</th>\n",
       "      <th>Y</th>\n",
       "      <th>Latitude</th>\n",
       "      <th>Longitude</th>\n",
       "      <th>COLOR</th>\n",
       "    </tr>\n",
       "  </thead>\n",
       "  <tbody>\n",
       "  </tbody>\n",
       "</table>\n",
       "</div>"
      ],
      "text/plain": [
       "Empty DataFrame\n",
       "Columns: [OBJECTID, STN_NAME, STN_NO, X, Y, Latitude, Longitude, COLOR]\n",
       "Index: []"
      ]
     },
     "execution_count": 8,
     "metadata": {},
     "output_type": "execute_result"
    }
   ],
   "source": [
    "#no duplicates\n",
    "mrtsg[mrtsg.duplicated(subset=\"STN_NO\")]"
   ]
  },
  {
   "cell_type": "markdown",
   "metadata": {},
   "source": [
    "# Geodataframe\n"
   ]
  },
  {
   "cell_type": "code",
   "execution_count": 12,
   "metadata": {},
   "outputs": [
    {
     "ename": "ImportError",
     "evalue": "The 'to_file' method requires the 'pyogrio' or 'fiona' package, but neither is installed or imports correctly.\nImporting fiona resulted in: dlopen(/Library/Frameworks/Python.framework/Versions/3.10/lib/python3.10/site-packages/fiona/ogrext.cpython-310-darwin.so, 0x0002): symbol not found in flat namespace '_CPLCheckForFile'\nImporting pyogrio resulted in: No module named 'pyogrio'",
     "output_type": "error",
     "traceback": [
      "\u001b[0;31m---------------------------------------------------------------------------\u001b[0m",
      "\u001b[0;31mImportError\u001b[0m                               Traceback (most recent call last)",
      "Cell \u001b[0;32mIn [12], line 7\u001b[0m\n\u001b[1;32m      2\u001b[0m mrtsg_gdf \u001b[38;5;241m=\u001b[39m gpd\u001b[38;5;241m.\u001b[39mGeoDataFrame(\n\u001b[1;32m      3\u001b[0m     mrtsg, geometry\u001b[38;5;241m=\u001b[39mgpd\u001b[38;5;241m.\u001b[39mpoints_from_xy(mrtsg\u001b[38;5;241m.\u001b[39mX, mrtsg\u001b[38;5;241m.\u001b[39mY), crs\u001b[38;5;241m=\u001b[39m\u001b[38;5;124m'\u001b[39m\u001b[38;5;124mEPSG:3414\u001b[39m\u001b[38;5;124m'\u001b[39m\n\u001b[1;32m      4\u001b[0m )\n\u001b[1;32m      6\u001b[0m \u001b[38;5;66;03m# Save mrtsg to a file\u001b[39;00m\n\u001b[0;32m----> 7\u001b[0m mrtsg_gdf\u001b[38;5;241m.\u001b[39mto_file(\u001b[38;5;124mr\u001b[39m\u001b[38;5;124m'\u001b[39m\u001b[38;5;124mGenerated Files/mrtsg_EPSG3414.shp\u001b[39m\u001b[38;5;124m'\u001b[39m)\n\u001b[1;32m      8\u001b[0m mrtsg_gdf\u001b[38;5;241m.\u001b[39mhead()\n",
      "File \u001b[0;32m/Library/Frameworks/Python.framework/Versions/3.10/lib/python3.10/site-packages/geopandas/geodataframe.py:1216\u001b[0m, in \u001b[0;36mGeoDataFrame.to_file\u001b[0;34m(self, filename, driver, schema, index, **kwargs)\u001b[0m\n\u001b[1;32m   1133\u001b[0m \u001b[39m\"\"\"Write the ``GeoDataFrame`` to a file.\u001b[39;00m\n\u001b[1;32m   1134\u001b[0m \n\u001b[1;32m   1135\u001b[0m \u001b[39mBy default, an ESRI shapefile is written, but any OGR data source\u001b[39;00m\n\u001b[0;32m   (...)\u001b[0m\n\u001b[1;32m   1212\u001b[0m \u001b[39m>>> gdf.to_file('dataframe.shp', mode=\"a\")  # doctest: +SKIP\u001b[39;00m\n\u001b[1;32m   1213\u001b[0m \u001b[39m\"\"\"\u001b[39;00m\n\u001b[1;32m   1214\u001b[0m \u001b[39mfrom\u001b[39;00m \u001b[39mgeopandas\u001b[39;00m\u001b[39m.\u001b[39;00m\u001b[39mio\u001b[39;00m\u001b[39m.\u001b[39;00m\u001b[39mfile\u001b[39;00m \u001b[39mimport\u001b[39;00m _to_file\n\u001b[0;32m-> 1216\u001b[0m _to_file(\u001b[39mself\u001b[39;49m, filename, driver, schema, index, \u001b[39m*\u001b[39;49m\u001b[39m*\u001b[39;49mkwargs)\n",
      "File \u001b[0;32m/Library/Frameworks/Python.framework/Versions/3.10/lib/python3.10/site-packages/geopandas/io/file.py:503\u001b[0m, in \u001b[0;36m_to_file\u001b[0;34m(df, filename, driver, schema, index, mode, crs, engine, **kwargs)\u001b[0m\n\u001b[1;32m    432\u001b[0m \u001b[39mdef\u001b[39;00m \u001b[39m_to_file\u001b[39m(\n\u001b[1;32m    433\u001b[0m     df,\n\u001b[1;32m    434\u001b[0m     filename,\n\u001b[0;32m   (...)\u001b[0m\n\u001b[1;32m    441\u001b[0m     \u001b[39m*\u001b[39m\u001b[39m*\u001b[39mkwargs,\n\u001b[1;32m    442\u001b[0m ):\n\u001b[1;32m    443\u001b[0m     \u001b[39m\"\"\"\u001b[39;00m\n\u001b[1;32m    444\u001b[0m \u001b[39m    Write this GeoDataFrame to an OGR data source\u001b[39;00m\n\u001b[1;32m    445\u001b[0m \n\u001b[0;32m   (...)\u001b[0m\n\u001b[1;32m    501\u001b[0m \u001b[39m    by using the encoding keyword parameter, e.g. ``encoding='utf-8'``.\u001b[39;00m\n\u001b[1;32m    502\u001b[0m \u001b[39m    \"\"\"\u001b[39;00m\n\u001b[0;32m--> 503\u001b[0m     engine \u001b[39m=\u001b[39m _check_engine(engine, \u001b[39m\"\u001b[39;49m\u001b[39m'\u001b[39;49m\u001b[39mto_file\u001b[39;49m\u001b[39m'\u001b[39;49m\u001b[39m method\u001b[39;49m\u001b[39m\"\u001b[39;49m)\n\u001b[1;32m    505\u001b[0m     filename \u001b[39m=\u001b[39m _expand_user(filename)\n\u001b[1;32m    507\u001b[0m     \u001b[39mif\u001b[39;00m index \u001b[39mis\u001b[39;00m \u001b[39mNone\u001b[39;00m:\n\u001b[1;32m    508\u001b[0m         \u001b[39m# Determine if index attribute(s) should be saved to file\u001b[39;00m\n\u001b[1;32m    509\u001b[0m         \u001b[39m# (only if they are named or are non-integer)\u001b[39;00m\n",
      "File \u001b[0;32m/Library/Frameworks/Python.framework/Versions/3.10/lib/python3.10/site-packages/geopandas/io/file.py:107\u001b[0m, in \u001b[0;36m_check_engine\u001b[0;34m(engine, func)\u001b[0m\n\u001b[1;32m    105\u001b[0m     _check_pyogrio(func)\n\u001b[1;32m    106\u001b[0m \u001b[39melif\u001b[39;00m engine \u001b[39mis\u001b[39;00m \u001b[39mNone\u001b[39;00m:\n\u001b[0;32m--> 107\u001b[0m     \u001b[39mraise\u001b[39;00m \u001b[39mImportError\u001b[39;00m(\n\u001b[1;32m    108\u001b[0m         \u001b[39mf\u001b[39m\u001b[39m\"\u001b[39m\u001b[39mThe \u001b[39m\u001b[39m{\u001b[39;00mfunc\u001b[39m}\u001b[39;00m\u001b[39m requires the \u001b[39m\u001b[39m'\u001b[39m\u001b[39mpyogrio\u001b[39m\u001b[39m'\u001b[39m\u001b[39m or \u001b[39m\u001b[39m'\u001b[39m\u001b[39mfiona\u001b[39m\u001b[39m'\u001b[39m\u001b[39m package, \u001b[39m\u001b[39m\"\u001b[39m\n\u001b[1;32m    109\u001b[0m         \u001b[39m\"\u001b[39m\u001b[39mbut neither is installed or imports correctly.\u001b[39m\u001b[39m\"\u001b[39m\n\u001b[1;32m    110\u001b[0m         \u001b[39mf\u001b[39m\u001b[39m\"\u001b[39m\u001b[39m\\n\u001b[39;00m\u001b[39mImporting fiona resulted in: \u001b[39m\u001b[39m{\u001b[39;00mfiona_import_error\u001b[39m}\u001b[39;00m\u001b[39m\"\u001b[39m\n\u001b[1;32m    111\u001b[0m         \u001b[39mf\u001b[39m\u001b[39m\"\u001b[39m\u001b[39m\\n\u001b[39;00m\u001b[39mImporting pyogrio resulted in: \u001b[39m\u001b[39m{\u001b[39;00mpyogrio_import_error\u001b[39m}\u001b[39;00m\u001b[39m\"\u001b[39m\n\u001b[1;32m    112\u001b[0m     )\n\u001b[1;32m    114\u001b[0m \u001b[39mreturn\u001b[39;00m engine\n",
      "\u001b[0;31mImportError\u001b[0m: The 'to_file' method requires the 'pyogrio' or 'fiona' package, but neither is installed or imports correctly.\nImporting fiona resulted in: dlopen(/Library/Frameworks/Python.framework/Versions/3.10/lib/python3.10/site-packages/fiona/ogrext.cpython-310-darwin.so, 0x0002): symbol not found in flat namespace '_CPLCheckForFile'\nImporting pyogrio resulted in: No module named 'pyogrio'"
     ]
    }
   ],
   "source": [
    "# Converting mrtsg to a GeoDataFrame\n",
    "mrtsg_gdf = gpd.GeoDataFrame(\n",
    "    mrtsg, geometry=gpd.points_from_xy(mrtsg.X, mrtsg.Y), crs='EPSG:3414'\n",
    ")\n",
    "\n",
    "# Save mrtsg to a file\n",
    "mrtsg_gdf.to_file(r'Generated Files/mrtsg_EPSG3414.shp')\n",
    "mrtsg_gdf.head()\n"
   ]
  },
  {
   "cell_type": "code",
   "execution_count": null,
   "metadata": {},
   "outputs": [
    {
     "ename": "NameError",
     "evalue": "name 'gpd' is not defined",
     "output_type": "error",
     "traceback": [
      "\u001b[0;31m---------------------------------------------------------------------------\u001b[0m",
      "\u001b[0;31mNameError\u001b[0m                                 Traceback (most recent call last)",
      "Cell \u001b[0;32mIn [1], line 2\u001b[0m\n\u001b[1;32m      1\u001b[0m \u001b[38;5;66;03m# Converting busstopssg to a GeoDataFrame\u001b[39;00m\n\u001b[0;32m----> 2\u001b[0m busstopssg_gdf \u001b[38;5;241m=\u001b[39m gpd\u001b[38;5;241m.\u001b[39mGeoDataFrame(\n\u001b[1;32m      3\u001b[0m     busstopssg, geometry\u001b[38;5;241m=\u001b[39mgpd\u001b[38;5;241m.\u001b[39mpoints_from_xy(busstopssg\u001b[38;5;241m.\u001b[39mlongitude, busstopssg\u001b[38;5;241m.\u001b[39mlatitude), crs\u001b[38;5;241m=\u001b[39m\u001b[38;5;124m'\u001b[39m\u001b[38;5;124mWGS84\u001b[39m\u001b[38;5;124m'\u001b[39m\n\u001b[1;32m      4\u001b[0m )\n\u001b[1;32m      6\u001b[0m \u001b[38;5;66;03m# This line of code sets the CRS to EPSG3414, the Projected Coordinate System for Singapore.\u001b[39;00m\n\u001b[1;32m      7\u001b[0m \u001b[38;5;66;03m# Compare these coordinates to the coordinates for the original busstopssg dataframe.\u001b[39;00m\n\u001b[1;32m      8\u001b[0m \u001b[38;5;66;03m# The coordinates should be in a 5000-50000 range for longitude and 20000-50000 range for latitude (roughly).\u001b[39;00m\n\u001b[1;32m      9\u001b[0m \u001b[38;5;66;03m# When you get something like the coordinates in the original busstopssg dataframe (1.something, 100.something),\u001b[39;00m\n\u001b[1;32m     10\u001b[0m \u001b[38;5;66;03m# that is in the WGS84 standard format and should be converted like in the following line.\u001b[39;00m\n\u001b[1;32m     11\u001b[0m busstopssg_EPSG3414 \u001b[38;5;241m=\u001b[39m busstopssg_gdf\u001b[38;5;241m.\u001b[39mto_crs(epsg\u001b[38;5;241m=\u001b[39m\u001b[38;5;241m3414\u001b[39m)\n",
      "\u001b[0;31mNameError\u001b[0m: name 'gpd' is not defined"
     ]
    }
   ],
   "source": [
    "# Converting busstopssg to a GeoDataFrame\n",
    "busstopssg_gdf = gpd.GeoDataFrame(\n",
    "    busstopssg, geometry=gpd.points_from_xy(busstopssg.longitude, busstopssg.latitude), crs='WGS84'\n",
    ")\n",
    "\n",
    "# This line of code sets the CRS to EPSG3414, the Projected Coordinate System for Singapore.\n",
    "# Compare these coordinates to the coordinates for the original busstopssg dataframe.\n",
    "# The coordinates should be in a 5000-50000 range for longitude and 20000-50000 range for latitude (roughly).\n",
    "# When you get something like the coordinates in the original busstopssg dataframe (1.something, 100.something),\n",
    "# that is in the WGS84 standard format and should be converted like in the following line.\n",
    "busstopssg_EPSG3414 = busstopssg_gdf.to_crs(epsg=3414)\n",
    "\n",
    "# Save busstopssg_EPSG3414 to a file\n",
    "busstopssg_EPSG3414.to_file('Generated Files/busstopssg_EPSG3414.shp')\n",
    "busstopssg_EPSG3414.head()"
   ]
  },
  {
   "cell_type": "code",
   "execution_count": null,
   "metadata": {},
   "outputs": [
    {
     "ename": "NameError",
     "evalue": "name 'busstopssg_gdf' is not defined",
     "output_type": "error",
     "traceback": [
      "\u001b[0;31m---------------------------------------------------------------------------\u001b[0m",
      "\u001b[0;31mNameError\u001b[0m                                 Traceback (most recent call last)",
      "Cell \u001b[0;32mIn [19], line 1\u001b[0m\n\u001b[0;32m----> 1\u001b[0m \u001b[38;5;28mtype\u001b[39m(busstopssg_gdf)\n",
      "\u001b[0;31mNameError\u001b[0m: name 'busstopssg_gdf' is not defined"
     ]
    }
   ],
   "source": [
    "type(busstopssg_gdf)"
   ]
  },
  {
   "cell_type": "markdown",
   "metadata": {},
   "source": []
  },
  {
   "cell_type": "markdown",
   "metadata": {},
   "source": []
  }
 ],
 "metadata": {
  "kernelspec": {
   "display_name": "Python 3.9.12 ('base')",
   "language": "python",
   "name": "python3"
  },
  "language_info": {
   "codemirror_mode": {
    "name": "ipython",
    "version": 3
   },
   "file_extension": ".py",
   "mimetype": "text/x-python",
   "name": "python",
   "nbconvert_exporter": "python",
   "pygments_lexer": "ipython3",
   "version": "3.9.12"
  },
  "orig_nbformat": 4,
  "vscode": {
   "interpreter": {
    "hash": "804bab154d077b51c493a48ff4f9692e100242d10c3b977966202d99f19f22da"
   }
  }
 },
 "nbformat": 4,
 "nbformat_minor": 2
}
