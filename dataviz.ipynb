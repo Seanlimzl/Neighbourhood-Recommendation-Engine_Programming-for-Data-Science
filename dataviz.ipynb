{
 "cells": [
  {
   "cell_type": "code",
   "execution_count": 3,
   "metadata": {},
   "outputs": [],
   "source": [
    "# Data processing\n",
    "import numpy as np\n",
    "import pandas as pd\n",
    "import geopandas as gpd\n",
    "from datetime import datetime\n",
    "import simpledbf as sdbf\n",
    "\n",
    "# Visualisation\n",
    "import matplotlib\n",
    "import matplotlib.pyplot as plt\n",
    "from ipyleaflet import Map, GeoData, basemaps, LayersControl\n",
    "import seaborn as sns\n",
    "import folium\n",
    "import mapclassify\n",
    "\n",
    "#API Handling\n",
    "import simplejson\n",
    "import urllib.request as ur\n",
    "import routingpy as rp\n",
    "import googlemaps\n",
    "KEY = \"\""
   ]
  },
  {
   "cell_type": "code",
   "execution_count": 2,
   "metadata": {},
   "outputs": [],
   "source": [
    "subzones_all_stats = gpd.read_file('Generated Files\\subzones_all_stats_with_API_results.shp')"
   ]
  },
  {
   "cell_type": "code",
   "execution_count": 13,
   "metadata": {},
   "outputs": [
    {
     "data": {
      "text/plain": [
       "['OBJECTID',\n",
       " 'SUBZONE_NO',\n",
       " 'SUBZONE_N',\n",
       " 'SUBZONE_C',\n",
       " 'CA_IND',\n",
       " 'PLN_AREA_N',\n",
       " 'PLN_AREA_C',\n",
       " 'REGION_N',\n",
       " 'REGION_C',\n",
       " 'INC_CRC',\n",
       " 'FMEL_UPD_D',\n",
       " 'X_ADDR',\n",
       " 'Y_ADDR',\n",
       " 'SHAPE_Leng',\n",
       " 'SHAPE_Area',\n",
       " 'busstop_no',\n",
       " 'mrtsg_no',\n",
       " 'schools_no',\n",
       " 'malls_no',\n",
       " 'supermarke',\n",
       " 'hawkercent',\n",
       " 'no_hdbs',\n",
       " 'realprice_',\n",
       " 'realpric_1',\n",
       " 'realpric_2',\n",
       " 'normprice_',\n",
       " 'normpric_1',\n",
       " 'normpric_2',\n",
       " 'mallsavg_d',\n",
       " 'activesgav',\n",
       " 'schoolsavg',\n",
       " 'parksavg_d',\n",
       " 'hawkersavg',\n",
       " 'geometry']"
      ]
     },
     "execution_count": 13,
     "metadata": {},
     "output_type": "execute_result"
    }
   ],
   "source": [
    "list(subzones_all_stats)"
   ]
  },
  {
   "cell_type": "code",
   "execution_count": 14,
   "metadata": {},
   "outputs": [
    {
     "data": {
      "text/html": [
       "<div>\n",
       "<style scoped>\n",
       "    .dataframe tbody tr th:only-of-type {\n",
       "        vertical-align: middle;\n",
       "    }\n",
       "\n",
       "    .dataframe tbody tr th {\n",
       "        vertical-align: top;\n",
       "    }\n",
       "\n",
       "    .dataframe thead th {\n",
       "        text-align: right;\n",
       "    }\n",
       "</style>\n",
       "<table border=\"1\" class=\"dataframe\">\n",
       "  <thead>\n",
       "    <tr style=\"text-align: right;\">\n",
       "      <th></th>\n",
       "      <th>OBJECTID</th>\n",
       "      <th>SUBZONE_NO</th>\n",
       "      <th>SUBZONE_N</th>\n",
       "      <th>SUBZONE_C</th>\n",
       "      <th>CA_IND</th>\n",
       "      <th>PLN_AREA_N</th>\n",
       "      <th>PLN_AREA_C</th>\n",
       "      <th>REGION_N</th>\n",
       "      <th>REGION_C</th>\n",
       "      <th>INC_CRC</th>\n",
       "      <th>...</th>\n",
       "      <th>realpric_2</th>\n",
       "      <th>normprice_</th>\n",
       "      <th>normpric_1</th>\n",
       "      <th>normpric_2</th>\n",
       "      <th>mallsavg_d</th>\n",
       "      <th>activesgav</th>\n",
       "      <th>schoolsavg</th>\n",
       "      <th>parksavg_d</th>\n",
       "      <th>hawkersavg</th>\n",
       "      <th>geometry</th>\n",
       "    </tr>\n",
       "  </thead>\n",
       "  <tbody>\n",
       "    <tr>\n",
       "      <th>0</th>\n",
       "      <td>5</td>\n",
       "      <td>3</td>\n",
       "      <td>PASIR RIS TOWN</td>\n",
       "      <td>PRSZ03</td>\n",
       "      <td>N</td>\n",
       "      <td>PASIR RIS</td>\n",
       "      <td>PR</td>\n",
       "      <td>EAST REGION</td>\n",
       "      <td>ER</td>\n",
       "      <td>37EABA55C9A79089</td>\n",
       "      <td>...</td>\n",
       "      <td>545046.872727</td>\n",
       "      <td>0.107525</td>\n",
       "      <td>0.610823</td>\n",
       "      <td>0.373232</td>\n",
       "      <td>2920.541667</td>\n",
       "      <td>3569.166667</td>\n",
       "      <td>3414.863636</td>\n",
       "      <td>3389.342857</td>\n",
       "      <td>3392.368421</td>\n",
       "      <td>POLYGON ((41290.234 39671.558, 41291.480 39656...</td>\n",
       "    </tr>\n",
       "    <tr>\n",
       "      <th>1</th>\n",
       "      <td>6</td>\n",
       "      <td>2</td>\n",
       "      <td>MACPHERSON</td>\n",
       "      <td>GLSZ02</td>\n",
       "      <td>N</td>\n",
       "      <td>GEYLANG</td>\n",
       "      <td>GL</td>\n",
       "      <td>CENTRAL REGION</td>\n",
       "      <td>CR</td>\n",
       "      <td>732CC6D2DCC784CF</td>\n",
       "      <td>...</td>\n",
       "      <td>334619.777778</td>\n",
       "      <td>0.012258</td>\n",
       "      <td>0.556293</td>\n",
       "      <td>0.165889</td>\n",
       "      <td>2368.333333</td>\n",
       "      <td>2955.111111</td>\n",
       "      <td>2965.136364</td>\n",
       "      <td>3127.714286</td>\n",
       "      <td>2636.157895</td>\n",
       "      <td>POLYGON ((34415.029 33909.481, 34357.250 33893...</td>\n",
       "    </tr>\n",
       "    <tr>\n",
       "      <th>2</th>\n",
       "      <td>7</td>\n",
       "      <td>5</td>\n",
       "      <td>GEYLANG EAST</td>\n",
       "      <td>GLSZ05</td>\n",
       "      <td>N</td>\n",
       "      <td>GEYLANG</td>\n",
       "      <td>GL</td>\n",
       "      <td>CENTRAL REGION</td>\n",
       "      <td>CR</td>\n",
       "      <td>84A21DC72BA5355B</td>\n",
       "      <td>...</td>\n",
       "      <td>507847.861111</td>\n",
       "      <td>0.061160</td>\n",
       "      <td>0.604379</td>\n",
       "      <td>0.336579</td>\n",
       "      <td>2448.500000</td>\n",
       "      <td>2967.722222</td>\n",
       "      <td>3199.000000</td>\n",
       "      <td>3259.542857</td>\n",
       "      <td>2775.263158</td>\n",
       "      <td>POLYGON ((35987.194 33319.391, 36001.551 33245...</td>\n",
       "    </tr>\n",
       "    <tr>\n",
       "      <th>3</th>\n",
       "      <td>8</td>\n",
       "      <td>4</td>\n",
       "      <td>ALJUNIED</td>\n",
       "      <td>GLSZ04</td>\n",
       "      <td>N</td>\n",
       "      <td>GEYLANG</td>\n",
       "      <td>GL</td>\n",
       "      <td>CENTRAL REGION</td>\n",
       "      <td>CR</td>\n",
       "      <td>EA9A22F6E41806C7</td>\n",
       "      <td>...</td>\n",
       "      <td>507801.058824</td>\n",
       "      <td>0.041692</td>\n",
       "      <td>0.662598</td>\n",
       "      <td>0.336533</td>\n",
       "      <td>2199.375000</td>\n",
       "      <td>2677.833333</td>\n",
       "      <td>2948.863636</td>\n",
       "      <td>3076.685714</td>\n",
       "      <td>2531.842105</td>\n",
       "      <td>POLYGON ((34277.234 32322.636, 34282.432 32306...</td>\n",
       "    </tr>\n",
       "    <tr>\n",
       "      <th>4</th>\n",
       "      <td>11</td>\n",
       "      <td>3</td>\n",
       "      <td>ROSYTH</td>\n",
       "      <td>HGSZ03</td>\n",
       "      <td>N</td>\n",
       "      <td>HOUGANG</td>\n",
       "      <td>HG</td>\n",
       "      <td>NORTH-EAST REGION</td>\n",
       "      <td>NER</td>\n",
       "      <td>A460D2B9939CA6EE</td>\n",
       "      <td>...</td>\n",
       "      <td>395733.666667</td>\n",
       "      <td>0.140281</td>\n",
       "      <td>0.497220</td>\n",
       "      <td>0.226107</td>\n",
       "      <td>2622.166667</td>\n",
       "      <td>2977.000000</td>\n",
       "      <td>3096.090909</td>\n",
       "      <td>3255.257143</td>\n",
       "      <td>2827.789474</td>\n",
       "      <td>POLYGON ((33948.238 38873.199, 34088.871 38837...</td>\n",
       "    </tr>\n",
       "  </tbody>\n",
       "</table>\n",
       "<p>5 rows × 34 columns</p>\n",
       "</div>"
      ],
      "text/plain": [
       "   OBJECTID  SUBZONE_NO       SUBZONE_N SUBZONE_C CA_IND PLN_AREA_N  \\\n",
       "0         5           3  PASIR RIS TOWN    PRSZ03      N  PASIR RIS   \n",
       "1         6           2      MACPHERSON    GLSZ02      N    GEYLANG   \n",
       "2         7           5    GEYLANG EAST    GLSZ05      N    GEYLANG   \n",
       "3         8           4        ALJUNIED    GLSZ04      N    GEYLANG   \n",
       "4        11           3          ROSYTH    HGSZ03      N    HOUGANG   \n",
       "\n",
       "  PLN_AREA_C           REGION_N REGION_C           INC_CRC  ...  \\\n",
       "0         PR        EAST REGION       ER  37EABA55C9A79089  ...   \n",
       "1         GL     CENTRAL REGION       CR  732CC6D2DCC784CF  ...   \n",
       "2         GL     CENTRAL REGION       CR  84A21DC72BA5355B  ...   \n",
       "3         GL     CENTRAL REGION       CR  EA9A22F6E41806C7  ...   \n",
       "4         HG  NORTH-EAST REGION      NER  A460D2B9939CA6EE  ...   \n",
       "\n",
       "      realpric_2  normprice_  normpric_1  normpric_2   mallsavg_d  \\\n",
       "0  545046.872727    0.107525    0.610823    0.373232  2920.541667   \n",
       "1  334619.777778    0.012258    0.556293    0.165889  2368.333333   \n",
       "2  507847.861111    0.061160    0.604379    0.336579  2448.500000   \n",
       "3  507801.058824    0.041692    0.662598    0.336533  2199.375000   \n",
       "4  395733.666667    0.140281    0.497220    0.226107  2622.166667   \n",
       "\n",
       "    activesgav   schoolsavg   parksavg_d   hawkersavg  \\\n",
       "0  3569.166667  3414.863636  3389.342857  3392.368421   \n",
       "1  2955.111111  2965.136364  3127.714286  2636.157895   \n",
       "2  2967.722222  3199.000000  3259.542857  2775.263158   \n",
       "3  2677.833333  2948.863636  3076.685714  2531.842105   \n",
       "4  2977.000000  3096.090909  3255.257143  2827.789474   \n",
       "\n",
       "                                            geometry  \n",
       "0  POLYGON ((41290.234 39671.558, 41291.480 39656...  \n",
       "1  POLYGON ((34415.029 33909.481, 34357.250 33893...  \n",
       "2  POLYGON ((35987.194 33319.391, 36001.551 33245...  \n",
       "3  POLYGON ((34277.234 32322.636, 34282.432 32306...  \n",
       "4  POLYGON ((33948.238 38873.199, 34088.871 38837...  \n",
       "\n",
       "[5 rows x 34 columns]"
      ]
     },
     "execution_count": 14,
     "metadata": {},
     "output_type": "execute_result"
    }
   ],
   "source": [
    "subzones_all_stats.head()"
   ]
  },
  {
   "cell_type": "code",
   "execution_count": 30,
   "metadata": {},
   "outputs": [
    {
     "data": {
      "image/png": "[encoded data removed]",
      "text/plain": [
       "<Figure size 640x480 with 1 Axes>"
      ]
     },
     "metadata": {},
     "output_type": "display_data"
    }
   ],
   "source": [
    "bins = np.linspace(2000, 6000, 150, endpoint=True)\n",
    "plt.hist(subzones_all_stats.hawkersavg, bins = bins)\n",
    "plt.show()\n"
   ]
  },
  {
   "cell_type": "code",
   "execution_count": 41,
   "metadata": {},
   "outputs": [
    {
     "data": {
      "text/plain": [
       "3192.505054025793"
      ]
     },
     "execution_count": 41,
     "metadata": {},
     "output_type": "execute_result"
    }
   ],
   "source": [
    "subzones_all_stats.hawkersavg.mean(axis=0)"
   ]
  },
  {
   "cell_type": "code",
   "execution_count": 36,
   "metadata": {},
   "outputs": [
    {
     "name": "stdout",
     "output_type": "stream",
     "text": [
      "-0.17762699718540223\n",
      "-0.039512047721474604\n",
      "0.14116188153617046\n"
     ]
    }
   ],
   "source": [
    "print(subzones_all_stats.hawkercent.corr(subzones_all_stats.hawkersavg))\n",
    "print(subzones_all_stats.malls_no.corr(subzones_all_stats.mallsavg_d))\n",
    "print(subzones_all_stats.schools_no.corr(subzones_all_stats.schoolsavg))\n"
   ]
  },
  {
   "cell_type": "code",
   "execution_count": 12,
   "metadata": {},
   "outputs": [],
   "source": [
    "mall = subzones_all_stats.loc[:,[\"mallsavg_d\", \"malls_no\"]]\n",
    "school = subzones_all_stats.loc[:,[\"schoolsavg\", \"schools_no\"]]\n",
    "hawker = subzones_all_stats.loc[:,[\"hawkersavg\", \"hawkercent\"]]\n"
   ]
  },
  {
   "cell_type": "code",
   "execution_count": 14,
   "metadata": {},
   "outputs": [
    {
     "data": {
      "text/plain": [
       "<AxesSubplot: xlabel='mallsavg_d', ylabel='malls_no'>"
      ]
     },
     "execution_count": 14,
     "metadata": {},
     "output_type": "execute_result"
    },
    {
     "data": {
      "image/png": "[encoded data removed]",
      "text/plain": [
       "<Figure size 640x480 with 1 Axes>"
      ]
     },
     "metadata": {},
     "output_type": "display_data"
    }
   ],
   "source": [
    "sns.scatterplot(x=\"mallsavg_d\", y=\"malls_no\", data=mall)"
   ]
  },
  {
   "cell_type": "code",
   "execution_count": 16,
   "metadata": {},
   "outputs": [
    {
     "data": {
      "text/plain": [
       "<AxesSubplot: xlabel='schoolsavg', ylabel='schools_no'>"
      ]
     },
     "execution_count": 16,
     "metadata": {},
     "output_type": "execute_result"
    },
    {
     "data": {
      "image/png": "[encoded data removed]",
      "text/plain": [
       "<Figure size 640x480 with 1 Axes>"
      ]
     },
     "metadata": {},
     "output_type": "display_data"
    }
   ],
   "source": [
    "sns.scatterplot(x=\"schoolsavg\", y=\"schools_no\", data=school)"
   ]
  },
  {
   "cell_type": "code",
   "execution_count": 17,
   "metadata": {},
   "outputs": [
    {
     "data": {
      "text/plain": [
       "<AxesSubplot: xlabel='hawkersavg', ylabel='hawkercent'>"
      ]
     },
     "execution_count": 17,
     "metadata": {},
     "output_type": "execute_result"
    },
    {
     "data": {
      "image/png": "[encoded data removed]",
      "text/plain": [
       "<Figure size 640x480 with 1 Axes>"
      ]
     },
     "metadata": {},
     "output_type": "display_data"
    }
   ],
   "source": [
    "sns.scatterplot(x=\"hawkersavg\", y=\"hawkercent\", data=hawker)"
   ]
  },
  {
   "cell_type": "code",
   "execution_count": 118,
   "metadata": {},
   "outputs": [],
   "source": [
    "hc = pd.read_csv(r\"Proxy Storage\\hawker_duration.csv\", index_col = 0, header = 0)\n",
    "sc = pd.read_csv(r\"Proxy Storage\\schools_duration.csv\", index_col = 0, header = 0)\n",
    "hc = pd.read_csv(r\"Proxy Storage\\hawker_duration.csv\", index_col = 0, header = 0)\n",
    "hc = pd.read_csv(r\"Proxy Storage\\hawker_duration.csv\", index_col = 0, header = 0)"
   ]
  },
  {
   "cell_type": "code",
   "execution_count": 115,
   "metadata": {},
   "outputs": [],
   "source": [
    "def desc(df):\n",
    "    df = df.min(axis=1)\n",
    "    df = df.astype(int)   \n",
    "    df = df.div(60)\n",
    "    print(s.describe())"
   ]
  },
  {
   "cell_type": "code",
   "execution_count": 111,
   "metadata": {},
   "outputs": [
    {
     "name": "stderr",
     "output_type": "stream",
     "text": [
      "C:\\Users\\seanm\\AppData\\Local\\Temp\\ipykernel_2636\\1099437329.py:1: FutureWarning: Dropping of nuisance columns in DataFrame reductions (with 'numeric_only=None') is deprecated; in a future version this will raise TypeError.  Select only valid columns before calling the reduction.\n",
      "  s = hc.min(axis=1)\n"
     ]
    }
   ],
   "source": [
    "s = hc.min(axis=1)"
   ]
  },
  {
   "cell_type": "code",
   "execution_count": 112,
   "metadata": {},
   "outputs": [
    {
     "data": {
      "text/plain": [
       "0      1763.0\n",
       "1       339.0\n",
       "2        18.0\n",
       "3       937.0\n",
       "4      1337.0\n",
       "        ...  \n",
       "146    1742.0\n",
       "147    1962.0\n",
       "148    3432.0\n",
       "149    1157.0\n",
       "150    1465.0\n",
       "Length: 151, dtype: float64"
      ]
     },
     "execution_count": 112,
     "metadata": {},
     "output_type": "execute_result"
    }
   ],
   "source": [
    "s"
   ]
  },
  {
   "cell_type": "code",
   "execution_count": 113,
   "metadata": {},
   "outputs": [],
   "source": [
    "s = s.astype(int)\n",
    "s = s.div(60)"
   ]
  },
  {
   "cell_type": "code",
   "execution_count": 114,
   "metadata": {},
   "outputs": [
    {
     "data": {
      "text/plain": [
       "array([29.38333333,  5.65      ,  0.3       , 15.61666667, 22.28333333,\n",
       "        9.71666667, 30.18333333, 53.15      , 20.21666667, 29.1       ,\n",
       "       32.06666667, 27.08333333, 11.65      , 30.11666667, 21.33333333,\n",
       "        7.76666667, 25.98333333, 27.2       , 30.3       , 32.6       ,\n",
       "        8.96666667, 32.25      , 20.16666667, 24.43333333, 15.06666667,\n",
       "       15.3       , 18.03333333,  8.38333333,  2.45      , 45.85      ,\n",
       "       40.38333333, 39.03333333, 25.16666667, 14.81666667, 26.16666667,\n",
       "       21.18333333,  4.1       , 24.03333333, 22.83333333, 12.5       ,\n",
       "       23.33333333,  4.11666667, 42.76666667, 39.7       , 36.65      ,\n",
       "       17.9       , 22.18333333, 18.18333333, 11.95      , 19.56666667,\n",
       "        3.76666667, 21.46666667, 15.        , 18.21666667, 21.9       ,\n",
       "       26.3       , 33.45      , 29.18333333, 15.1       , 21.91666667,\n",
       "       13.66666667, 23.88333333, 10.76666667, 22.06666667, 35.16666667,\n",
       "        2.41666667, 34.03333333, 14.35      , 26.75      ,  0.96666667,\n",
       "       29.6       , 54.15      , 28.11666667, 17.78333333, 29.76666667,\n",
       "       33.16666667, 24.28333333, 23.31666667, 28.08333333, 25.88333333,\n",
       "       20.73333333, 14.26666667, 25.45      ,  9.15      , 22.51666667,\n",
       "       13.88333333, 19.78333333, 15.75      , 32.01666667,  1.7       ,\n",
       "       12.26666667, 13.73333333, 22.11666667, 11.88333333, 24.35      ,\n",
       "       27.8       , 27.63333333, 28.65      , 36.46666667, 36.93333333,\n",
       "       46.55      , 25.13333333, 19.81666667, 24.46666667,  3.11666667,\n",
       "        9.55      , 45.6       , 28.05      , 37.7       , 33.95      ,\n",
       "       37.36666667,  4.83333333, 31.85      , 17.35      , 27.53333333,\n",
       "       34.11666667, 17.76666667, 19.2       , 35.28333333, 23.13333333,\n",
       "       22.05      , 35.88333333, 20.95      , 30.        , 36.36666667,\n",
       "       40.18333333, 23.83333333,  0.11666667, 27.36666667, 16.5       ,\n",
       "        6.6       , 12.41666667, 16.35      , 19.36666667, 20.61666667,\n",
       "       16.08333333, 30.68333333, 17.43333333, 36.41666667, 32.8       ,\n",
       "       22.25      , 28.01666667, 33.35      , 22.81666667, 25.26666667,\n",
       "       29.03333333, 32.7       , 57.2       , 19.28333333, 24.41666667])"
      ]
     },
     "execution_count": 114,
     "metadata": {},
     "output_type": "execute_result"
    }
   ],
   "source": [
    "s.unique()"
   ]
  },
  {
   "cell_type": "code",
   "execution_count": 108,
   "metadata": {},
   "outputs": [
    {
     "data": {
      "text/plain": [
       "count    20.000000\n",
       "mean      5.577500\n",
       "std       4.875749\n",
       "min       0.000000\n",
       "25%       2.237500\n",
       "50%       4.108333\n",
       "75%       8.254167\n",
       "max      16.083333\n",
       "dtype: float64"
      ]
     },
     "execution_count": 108,
     "metadata": {},
     "output_type": "execute_result"
    }
   ],
   "source": [
    "s.describe(exclude=[np.NaN])"
   ]
  },
  {
   "cell_type": "code",
   "execution_count": 119,
   "metadata": {},
   "outputs": [
    {
     "name": "stdout",
     "output_type": "stream",
     "text": [
      "count    151.000000\n",
      "mean      23.354746\n",
      "std       11.153253\n",
      "min        0.116667\n",
      "25%       15.916667\n",
      "50%       23.316667\n",
      "75%       30.058333\n",
      "max       57.200000\n",
      "dtype: float64\n"
     ]
    },
    {
     "name": "stderr",
     "output_type": "stream",
     "text": [
      "C:\\Users\\seanm\\AppData\\Local\\Temp\\ipykernel_2636\\3844672880.py:2: FutureWarning: Dropping of nuisance columns in DataFrame reductions (with 'numeric_only=None') is deprecated; in a future version this will raise TypeError.  Select only valid columns before calling the reduction.\n",
      "  df = df.min(axis=1)\n"
     ]
    }
   ],
   "source": [
    "desc(sc)"
   ]
  }
 ],
 "metadata": {
  "kernelspec": {
   "display_name": "Python 3.10.6 64-bit",
   "language": "python",
   "name": "python3"
  },
  "language_info": {
   "codemirror_mode": {
    "name": "ipython",
    "version": 3
   },
   "file_extension": ".py",
   "mimetype": "text/x-python",
   "name": "python",
   "nbconvert_exporter": "python",
   "pygments_lexer": "ipython3",
   "version": "3.10.6"
  },
  "orig_nbformat": 4,
  "vscode": {
   "interpreter": {
    "hash": "26de051ba29f2982a8de78e945f0abaf191376122a1563185a90213a26c5da77"
   }
  }
 },
 "nbformat": 4,
 "nbformat_minor": 2
}
